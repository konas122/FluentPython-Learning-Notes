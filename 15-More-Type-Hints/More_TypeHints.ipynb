{
 "cells": [
  {
   "cell_type": "markdown",
   "metadata": {},
   "source": [
    "# More About Type Hints"
   ]
  },
  {
   "cell_type": "code",
   "execution_count": 2,
   "metadata": {},
   "outputs": [],
   "source": [
    "from typing import TypedDict, TYPE_CHECKING, get_type_hints\n",
    "\n",
    "\n",
    "class BookDict(TypedDict):\n",
    "    isbn: str\n",
    "    title: str\n",
    "    authors: list[str]\n",
    "    pagecount: int"
   ]
  },
  {
   "cell_type": "code",
   "execution_count": 3,
   "metadata": {},
   "outputs": [
    {
     "data": {
      "text/plain": [
       "{'isbn': str, 'title': str, 'authors': list[str], 'pagecount': int}"
      ]
     },
     "execution_count": 3,
     "metadata": {},
     "output_type": "execute_result"
    }
   ],
   "source": [
    "BookDict.__annotations__"
   ]
  },
  {
   "cell_type": "code",
   "execution_count": 4,
   "metadata": {},
   "outputs": [],
   "source": [
    "def demo() -> None:\n",
    "    book = BookDict(\n",
    "        isbn='0134757599', \n",
    "        title='Refactoring, 2e', \n",
    "        authors=['Martin Fowler', 'Kent Beck'], \n",
    "        pagecount=478\n",
    "    )\n",
    "    authors = book['authors']\n",
    "    if TYPE_CHECKING:\n",
    "        reveal_type(authors)\n",
    "    authors = 'Bob'\n",
    "    book['weight'] = 4.2\n",
    "    del book['title']"
   ]
  },
  {
   "cell_type": "code",
   "execution_count": 5,
   "metadata": {},
   "outputs": [],
   "source": [
    "demo()"
   ]
  },
  {
   "cell_type": "code",
   "execution_count": 6,
   "metadata": {},
   "outputs": [
    {
     "data": {
      "text/plain": [
       "{'return': None}"
      ]
     },
     "execution_count": 6,
     "metadata": {},
     "output_type": "execute_result"
    }
   ],
   "source": [
    "demo.__annotations__"
   ]
  },
  {
   "cell_type": "markdown",
   "metadata": {},
   "source": [
    "### to_xml"
   ]
  },
  {
   "cell_type": "code",
   "execution_count": 7,
   "metadata": {},
   "outputs": [],
   "source": [
    "AUTHOR_ELEMENT = '<AUTHOR>{}</AUTHOR>'\n",
    "\n",
    "\n",
    "def to_xml(book: BookDict) -> str:\n",
    "    elements: list[str] = []\n",
    "    for key, value in book.items():\n",
    "        if isinstance(value, list):\n",
    "            elements.extend(\n",
    "                AUTHOR_ELEMENT.format(n) for n in value\n",
    "            )\n",
    "        else:\n",
    "            tag = key.upper()\n",
    "            elements.append(f'<{tag}>{value}</{tag}>')\n",
    "    xml = '\\n\\t'.join(elements)\n",
    "    return f'<BOOK>\\n\\t{xml}\\n</BOOK>'"
   ]
  },
  {
   "cell_type": "code",
   "execution_count": 8,
   "metadata": {},
   "outputs": [
    {
     "data": {
      "text/plain": [
       "{'book': __main__.BookDict, 'return': str}"
      ]
     },
     "execution_count": 8,
     "metadata": {},
     "output_type": "execute_result"
    }
   ],
   "source": [
    "to_xml.__annotations__"
   ]
  },
  {
   "cell_type": "markdown",
   "metadata": {},
   "source": [
    "## Generic Class"
   ]
  },
  {
   "cell_type": "code",
   "execution_count": 9,
   "metadata": {},
   "outputs": [],
   "source": [
    "import random\n",
    "from collections.abc import Iterable\n",
    "from typing import TypeVar, Generic\n",
    "\n",
    "T = TypeVar('T')\n",
    "\n",
    "class Lotto(Generic[T]):\n",
    "\n",
    "    def __init__(self, item: Iterable[T]) -> None:\n",
    "        self._balls = list[T](item)\n",
    "    \n",
    "    def load(self, items: Iterable[T]) -> None:\n",
    "        self._balls.extend(items)\n",
    "    \n",
    "    def pick(self) -> T:\n",
    "        try:\n",
    "            position = random.randrange(len(self._balls))\n",
    "        except ValueError:\n",
    "            raise LookupError('pick from empty Lotto')\n",
    "        return self._balls.pop(position)\n",
    "    \n",
    "    def loaded(self) -> bool:\n",
    "        return bool(self._balls)\n",
    "\n",
    "    def inspect(self) -> tuple[T, ...]:\n",
    "        return tuple(self._balls)\n"
   ]
  },
  {
   "cell_type": "markdown",
   "metadata": {},
   "source": [
    "### A Covariant Dispenser"
   ]
  },
  {
   "cell_type": "markdown",
   "metadata": {},
   "source": [
    "Given `A :> B`, a generic type `c` is convariant if `c[A] :> c[B]`"
   ]
  },
  {
   "cell_type": "code",
   "execution_count": 11,
   "metadata": {},
   "outputs": [],
   "source": [
    "T = TypeVar('T', covariant=True)\n",
    "\n",
    "\n",
    "class Shape:\n",
    "    def area(self) -> float:\n",
    "        pass\n",
    "\n",
    "\n",
    "class Circle(Shape):\n",
    "    def area(self) -> float:\n",
    "        pass\n",
    "\n",
    "\n",
    "class Square(Shape):\n",
    "    def area(self) -> float:\n",
    "        pass\n",
    "\n",
    "\n",
    "class Container(Generic[T]):\n",
    "    def __init__(self, item: T):\n",
    "        self.item = item\n",
    "\n",
    "\n",
    "circle: Container[Circle] = Container(Circle())\n",
    "shape: Container[Shape] = circle"
   ]
  },
  {
   "cell_type": "markdown",
   "metadata": {},
   "source": [
    "### contravariant\n",
    "Given `A :> B`, a generic type `k` is contravariant if `k[A] :< k[B]`"
   ]
  },
  {
   "cell_type": "markdown",
   "metadata": {},
   "source": [
    "## A Generic Static Protocol"
   ]
  },
  {
   "cell_type": "markdown",
   "metadata": {},
   "source": [
    "```python\n",
    "from typing import Protocol, runtime_checkable, TypeVar\n",
    "\n",
    "\n",
    "T_co = TypeVar('T_co', covariant=True)\n",
    "\n",
    "\n",
    "@runtime_checkable\n",
    "class SupportsAbs(Protocol[T_co]):\n",
    "    \"\"\"An ABC with one abstract method __abs__ that is covariant in its\n",
    "        return type. \"\"\"\n",
    "    __slots__ = ()\n",
    "\n",
    "    @abstractmethod\n",
    "    def __abs__(self) -> T_co:\n",
    "        pass\n",
    "```"
   ]
  },
  {
   "cell_type": "code",
   "execution_count": 13,
   "metadata": {},
   "outputs": [
    {
     "name": "stdout",
     "output_type": "stream",
     "text": [
      "OK\n"
     ]
    }
   ],
   "source": [
    "import math\n",
    "from typing import NamedTuple, SupportsAbs\n",
    "\n",
    "\n",
    "class Vector2d(NamedTuple):\n",
    "    x: float\n",
    "    y: float\n",
    "\n",
    "    def __abs__(self) -> float:\n",
    "        return math.hypot(self.x, self.y)\n",
    "    \n",
    "\n",
    "def is_unit(v: SupportsAbs[float]) -> bool:\n",
    "    \"\"\"'True' if the magnitude of 'v' is close to 1. \"\"\"\n",
    "    return math.isclose(abs(v), 1.0)\n",
    "\n",
    "\n",
    "v0 = Vector2d(0, 1)\n",
    "sqrt2 = math.sqrt(2)\n",
    "v1 = Vector2d(sqrt2 / 2, sqrt2 / 2)\n",
    "v2 = Vector2d(1, 1)\n",
    "v3 = Vector2d(.5, math.sqrt(3) / 2)\n",
    "v4 = 1\n",
    "\n",
    "assert is_unit(v0)\n",
    "assert is_unit(v1)\n",
    "assert not is_unit(v2)\n",
    "assert is_unit(v3)\n",
    "assert is_unit(v4)\n",
    "\n",
    "print('OK')"
   ]
  }
 ],
 "metadata": {
  "kernelspec": {
   "display_name": "Python 3",
   "language": "python",
   "name": "python3"
  },
  "language_info": {
   "codemirror_mode": {
    "name": "ipython",
    "version": 3
   },
   "file_extension": ".py",
   "mimetype": "text/x-python",
   "name": "python",
   "nbconvert_exporter": "python",
   "pygments_lexer": "ipython3",
   "version": "3.10.10"
  },
  "orig_nbformat": 4
 },
 "nbformat": 4,
 "nbformat_minor": 2
}
