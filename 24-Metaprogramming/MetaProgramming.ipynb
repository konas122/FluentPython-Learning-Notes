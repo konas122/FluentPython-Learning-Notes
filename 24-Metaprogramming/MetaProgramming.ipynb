{
 "cells": [
  {
   "cell_type": "markdown",
   "metadata": {},
   "source": [
    "# Class Metaprogramming"
   ]
  },
  {
   "cell_type": "markdown",
   "metadata": {},
   "source": [
    "Class metaprogramming is the art of creating or customizing classes at runtime. "
   ]
  },
  {
   "cell_type": "code",
   "execution_count": 3,
   "metadata": {},
   "outputs": [],
   "source": [
    "class MyMixin:\n",
    "    pass\n",
    "\n",
    "class MySuperClass:\n",
    "    pass\n"
   ]
  },
  {
   "cell_type": "markdown",
   "metadata": {},
   "source": [
    "Consider this simple class:\n",
    "\n",
    "```python\n",
    "class MyClass(MySuperClass, MyMixin):\n",
    "    x = 42\n",
    "\n",
    "    def x2(self):\n",
    "        return self.x * 2\n",
    "```\n",
    "\n",
    "Using the `type` constructor, you can create `MyClass` at runtime with this code: "
   ]
  },
  {
   "cell_type": "code",
   "execution_count": 5,
   "metadata": {},
   "outputs": [],
   "source": [
    "MyClass = type(\n",
    "    'MyClass',\n",
    "    (MySuperClass, MyMixin),\n",
    "    {'x': 42, 'x2': lambda self: self.x * 2}\n",
    ")"
   ]
  },
  {
   "cell_type": "markdown",
   "metadata": {},
   "source": [
    "When Python reads a `class` statement, it calls `type` to build the class object with these parameters:\n",
    "\n",
    "- `name`\n",
    "- `bases`\n",
    "- `dict`\n",
    "\n",
    "The `type` class is a *metaclass*: a class that builds classes."
   ]
  },
  {
   "cell_type": "code",
   "execution_count": 6,
   "metadata": {},
   "outputs": [
    {
     "name": "stdout",
     "output_type": "stream",
     "text": [
      "<class 'int'>\n",
      "<class 'type'>\n",
      "<class 'type'>\n"
     ]
    }
   ],
   "source": [
    "print(type(7))\n",
    "print(type(int))\n",
    "print(type(OSError))"
   ]
  }
 ],
 "metadata": {
  "kernelspec": {
   "display_name": "Python 3",
   "language": "python",
   "name": "python3"
  },
  "language_info": {
   "codemirror_mode": {
    "name": "ipython",
    "version": 3
   },
   "file_extension": ".py",
   "mimetype": "text/x-python",
   "name": "python",
   "nbconvert_exporter": "python",
   "pygments_lexer": "ipython3",
   "version": "3.10.10"
  },
  "orig_nbformat": 4
 },
 "nbformat": 4,
 "nbformat_minor": 2
}
