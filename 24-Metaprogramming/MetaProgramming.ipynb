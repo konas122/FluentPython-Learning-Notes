{
 "cells": [
  {
   "cell_type": "markdown",
   "metadata": {},
   "source": [
    "# Class Metaprogramming"
   ]
  },
  {
   "cell_type": "markdown",
   "metadata": {},
   "source": [
    "Class metaprogramming is the art of creating or customizing classes at runtime. "
   ]
  },
  {
   "cell_type": "code",
   "execution_count": 7,
   "metadata": {},
   "outputs": [],
   "source": [
    "class MyMixin:\n",
    "    pass\n",
    "\n",
    "class MySuperClass:\n",
    "    pass\n"
   ]
  },
  {
   "cell_type": "markdown",
   "metadata": {},
   "source": [
    "Consider this simple class:\n",
    "\n",
    "```python\n",
    "class MyClass(MySuperClass, MyMixin):\n",
    "    x = 42\n",
    "\n",
    "    def x2(self):\n",
    "        return self.x * 2\n",
    "```\n",
    "\n",
    "Using the `type` constructor, you can create `MyClass` at runtime with this code: "
   ]
  },
  {
   "cell_type": "code",
   "execution_count": 8,
   "metadata": {},
   "outputs": [],
   "source": [
    "MyClass = type(\n",
    "    'MyClass',\n",
    "    (MySuperClass, MyMixin),\n",
    "    {'x': 42, 'x2': lambda self: self.x * 2}\n",
    ")"
   ]
  },
  {
   "cell_type": "markdown",
   "metadata": {},
   "source": [
    "When Python reads a `class` statement, it calls `type` to build the class object with these parameters:\n",
    "\n",
    "- `name`\n",
    "- `bases`\n",
    "- `dict`\n",
    "\n",
    "The `type` class is a *metaclass*: a class that builds classes."
   ]
  },
  {
   "cell_type": "code",
   "execution_count": 9,
   "metadata": {},
   "outputs": [
    {
     "name": "stdout",
     "output_type": "stream",
     "text": [
      "<class 'int'>\n",
      "<class 'type'>\n",
      "<class 'type'>\n"
     ]
    }
   ],
   "source": [
    "print(type(7))\n",
    "print(type(int))\n",
    "print(type(OSError))"
   ]
  },
  {
   "cell_type": "markdown",
   "metadata": {},
   "source": [
    "## Introducing `__init_subclass__`"
   ]
  },
  {
   "cell_type": "code",
   "execution_count": 10,
   "metadata": {},
   "outputs": [],
   "source": [
    "from collections.abc import Callable  \n",
    "from typing import Any, NoReturn, get_type_hints\n",
    "\n",
    "\n",
    "class Field:\n",
    "    # This is a minimal `Callable` type hint; \n",
    "    # the parameter type and return type for `constructor` are both implicity `Any`. \n",
    "    def __init__(self, name: str, constructor: Callable) -> None:  \n",
    "        if not callable(constructor) or constructor is type(None): \n",
    "            raise TypeError(f'{name!r} type hint must be callable')\n",
    "        self.name = name\n",
    "        self.constructor = constructor\n",
    "\n",
    "\n",
    "    def __set__(self, instance: Any, value: Any) -> None:\n",
    "        # `...`, the Ellipsis built-in object\n",
    "        if value is ...:  \n",
    "            value = self.constructor()\n",
    "        else:\n",
    "            try:\n",
    "                value = self.constructor(value)  \n",
    "            except (TypeError, ValueError) as e:  \n",
    "                type_name = self.constructor.__name__\n",
    "                msg = f'{value!r} is not compatible with {self.name}:{type_name}'\n",
    "                raise TypeError(msg) from e\n",
    "        instance.__dict__[self.name] = value  "
   ]
  },
  {
   "cell_type": "markdown",
   "metadata": {},
   "source": [
    "The `@classmethod` is never used with `__init_subclass__`, because the `__new__` special method behaves as a class method even without `@classmethod`. \n",
    "\n",
    "The first argument that Python passes to `__init_subclass__` is a class. \n",
    "\n",
    "However, it is never the class where `__init_subclass__` is implemented: it is a newly defined subclass of that class.  \n",
    "[`__init_subclass__` documentation](https://fpy.li/24-8)"
   ]
  },
  {
   "cell_type": "code",
   "execution_count": 11,
   "metadata": {},
   "outputs": [],
   "source": [
    "class Checked:\n",
    "    @classmethod\n",
    "    def _fields(cls) -> dict[str, type]:\n",
    "        return get_type_hints(cls)\n",
    "    \n",
    "\n",
    "    # `__init_subclass__` is called when a subclass of the current class is defined.\n",
    "    # It gets that new subclass as its first argument ——\n",
    "    # which is why we named the argument `subclass`, instead of the usual `cls`. \n",
    "    def __init_subclass__(subclass) -> None:  \n",
    "        super().__init_subclass__()           \n",
    "\n",
    "        # Iterate over field `name` and `constructor`, \n",
    "        # creating an attribut on `subclass` with that \n",
    "        # `name` bound to a `Field` descriptor parameterized with `name` and `constructor`. \n",
    "        for name, constructor in subclass._fields().items():   \n",
    "            setattr(subclass, name, Field(name, constructor))  \n",
    "\n",
    "\n",
    "    def __init__(self, **kwargs: Any) -> None:\n",
    "        for name in self._fields():             \n",
    "            value = kwargs.pop(name, ...)     \n",
    "            # This `setattr` call triggers `Checked.__setattr__`\n",
    "            setattr(self, name, value)       \n",
    "        if kwargs:                            \n",
    "            self.__flag_unknown_attrs(*kwargs)\n",
    "    \n",
    "\n",
    "    # Intercept all attempts to set an instance attribute. \n",
    "    # This is needed to prevent setting an unknown attribute. \n",
    "    def __setattr__(self, name: str, value: Any) -> None: \n",
    "\n",
    "        # If the attribute `name` is known, fetch the corresponding `descriptor`. \n",
    "        if name in self._fields():              \n",
    "            cls = self.__class__\n",
    "            descriptor = getattr(cls, name)\n",
    "            # Usually we don't need to call `__set__` explicity. \n",
    "            # It was necessary in this case because `__setattr__` intercepts all attempts \n",
    "            # to set an attribute on the instance, \n",
    "            # including in the presence of an overriding descriptor such as `Field`. \n",
    "            descriptor.__set__(self, value)     \n",
    "        else:                                 \n",
    "            self.__flag_unknown_attrs(name)\n",
    "\n",
    "\n",
    "    # Build a helpful error message listing all unexpected arguments. \n",
    "    def __flag_unknown_attrs(self, *names: str) -> NoReturn:  \n",
    "        plural = 's' if len(names) > 1 else ''\n",
    "        extra = ', '.join(f'{name!r}' for name in names)\n",
    "        cls_name = repr(self.__class__.__name__)\n",
    "        raise AttributeError(f'{cls_name} object has no attribute{plural} {extra}')\n",
    "\n",
    "\n",
    "    # Create a `dict` from the attributes of a `Movie` object. \n",
    "    def _asdict(self) -> dict[str, Any]:  \n",
    "        return {\n",
    "            name: getattr(self, name)\n",
    "            for name, attr in self.__class__.__dict__.items()\n",
    "            if isinstance(attr, Field)\n",
    "        }\n",
    "\n",
    "\n",
    "    def __repr__(self) -> str:  \n",
    "        kwargs = ', '.join(\n",
    "            f'{key}={value!r}' for key, value in self._asdict().items()\n",
    "        )\n",
    "        return f'{self.__class__.__name__}({kwargs})'"
   ]
  },
  {
   "cell_type": "markdown",
   "metadata": {},
   "source": [
    "### Why `__init_subclass__` Cannot Configure `__slots__`\n",
    "\n",
    "The `__slots__` attribute is only effective if it is one of the entries in the class namespace passed to `type.__new__`.\n",
    "\n",
    "Adding `__slots__` to an existing class has no effect. \n",
    "\n",
    "Python invokes `__init_subclass__` only after the class is built——by then it's too late to configure `__slots__`. \n",
    "[PEP 487](https://fpy.li/pep487)"
   ]
  },
  {
   "cell_type": "code",
   "execution_count": 12,
   "metadata": {},
   "outputs": [],
   "source": [
    "class Movie(Checked):\n",
    "    title: str\n",
    "    year: int\n",
    "    box_office: float"
   ]
  },
  {
   "cell_type": "code",
   "execution_count": 13,
   "metadata": {},
   "outputs": [
    {
     "name": "stdout",
     "output_type": "stream",
     "text": [
      "Well\n",
      "Movie(title='Well', year=1984, box_office=127.0)\n"
     ]
    }
   ],
   "source": [
    "moive = Movie(title=\"Well\", year=1984, box_office=127)\n",
    "print(moive.title, moive, sep='\\n')"
   ]
  },
  {
   "cell_type": "markdown",
   "metadata": {},
   "source": [
    "## [Next Section](./ClassesDecorator.ipynb)"
   ]
  }
 ],
 "metadata": {
  "kernelspec": {
   "display_name": "Python 3",
   "language": "python",
   "name": "python3"
  },
  "language_info": {
   "codemirror_mode": {
    "name": "ipython",
    "version": 3
   },
   "file_extension": ".py",
   "mimetype": "text/x-python",
   "name": "python",
   "nbconvert_exporter": "python",
   "pygments_lexer": "ipython3",
   "version": "3.10.10"
  },
  "orig_nbformat": 4
 },
 "nbformat": 4,
 "nbformat_minor": 2
}
