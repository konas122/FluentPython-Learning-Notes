{
 "cells": [
  {
   "cell_type": "markdown",
   "metadata": {},
   "source": [
    "## [Previous Section](./ClassesDecorator.ipynb)"
   ]
  },
  {
   "cell_type": "markdown",
   "metadata": {},
   "source": [
    "## A Metaclass Solution for `Checked`"
   ]
  },
  {
   "cell_type": "code",
   "execution_count": 1,
   "metadata": {},
   "outputs": [],
   "source": [
    "from collections.abc import Callable  \n",
    "from typing import Any, NoReturn, get_type_hints"
   ]
  },
  {
   "cell_type": "code",
   "execution_count": 2,
   "metadata": {},
   "outputs": [],
   "source": [
    "class Field:\n",
    "    \n",
    "    def __init__(self, name: str, constructor: Callable) -> None:\n",
    "        if not callable(constructor) or constructor is type(None):\n",
    "            raise TypeError(f'{name!r} type hint must be callable')\n",
    "        self.name = name\n",
    "        self.storage_name = '_' + name\n",
    "        self.constructor = constructor\n",
    "\n",
    "    def __get__(self, instance, owner=None):\n",
    "        # If `__get__` gets `None` as the `instance` argument, the descriptor is being read from\n",
    "        # the managed class itself, not a managed instance. So we return the decriptor. \n",
    "        if isinstance is None:\n",
    "            return self\n",
    "        # Otherwise, return the value stored in the attribute named `storage_name`. \n",
    "        return getattr(instance, self.storage_name)\n",
    "    \n",
    "    def __set__(self, instance: Any, value: Any) -> None:\n",
    "        if value is ...:\n",
    "            value = self.constructor()\n",
    "        else:\n",
    "            try:\n",
    "                value = self.constructor(value)\n",
    "            except (TypeError, ValueError) as e:\n",
    "                type_name = self.constructor.__name__\n",
    "                msg = f'{value!r} is not callable with {self.name}: {type_name}'\n",
    "                raise TypeError(msg) from e\n",
    "        setattr(instance, self.storage_name, value)"
   ]
  },
  {
   "cell_type": "code",
   "execution_count": 3,
   "metadata": {},
   "outputs": [],
   "source": [
    "class CheckedMeta(type):\n",
    "\n",
    "    def __new__(meta_cls, cls_name, bases, cls_dict):\n",
    "        if '__slots__' not in cls_dict:\n",
    "            slots = []\n",
    "            # To get the type hints in prior examples, we used `typing.get_type_hints`, \n",
    "            # but that requires an existing class as the first argument. At this point, \n",
    "            # the class we are configuring does not exist yet, so we need to retrieve the\n",
    "            # `__annotations__` directly from the `cls_dict` —— the namespace of the class under construction, \n",
    "            # which Python passes as the last argument to the metaclass `__new__`\n",
    "            type_hints = cls_dict.get('__annotations__', {})\n",
    "            for name, constructor in type_hints.items():\n",
    "                field = Field(name, constructor)\n",
    "                cls_dict[name] = field\n",
    "                slots.append(field.storage_name)\n",
    "            # populate the `__slots__` entry in `cls_dict` —— the namespace of the class under construction. \n",
    "            cls_dict['__slots__'] = slots\n",
    "\n",
    "        # Finally, we call `super().__new__`\n",
    "        return super().__new__(\n",
    "            meta_cls, cls_name, bases, cls_dict)"
   ]
  },
  {
   "cell_type": "markdown",
   "metadata": {},
   "source": [
    "The last part of this, is the `Checked` base class. \n",
    "\n",
    "The code for this version of `Checked` is the same as `Checked` in the *previous section*, with three changes:\n",
    "1. Added an empty `__slots__` to signal to `CheckedMeta.__new__` that this class doesn't require special processing. \n",
    "2. Removed `__setattr__`. Its job is now done by `CheckedMeta.__new__`. \n",
    "3. Removed `__setattr__`. It became redundant because adding `__slots__` to the user-defined class prevents setting undeclared attributes. "
   ]
  },
  {
   "cell_type": "code",
   "execution_count": 4,
   "metadata": {},
   "outputs": [],
   "source": [
    "class Checked(metaclass=CheckedMeta):\n",
    "\n",
    "    __slots__ = ()  # skip `CheckedMeta.__new__` processing\n",
    "\n",
    "    @classmethod\n",
    "    def _fields(cls) -> dict[str, type]:\n",
    "        return get_type_hints(cls)\n",
    "\n",
    "    def __init__(self, **kwargs: Any) -> None:\n",
    "        for name in self._fields():\n",
    "            value = kwargs.pop(name, ...)\n",
    "            setattr(self, name, value)\n",
    "        if kwargs:\n",
    "            self.__flag_unknown_attrs(*kwargs)\n",
    "\n",
    "    def __flag_unknown_attrs(self, *names: str) -> NoReturn:\n",
    "        plural = 's' if len(names) > 1 else ''\n",
    "        extra = ', '.join(f'{name!r}' for name in names)\n",
    "        cls_name = repr(self.__class__.__name__)\n",
    "        raise AttributeError(f'{cls_name} object has no Attribute{plural} {extra}')\n",
    "    \n",
    "    def _asdict(self) -> dict[str, Any]:\n",
    "        return {\n",
    "            name: getattr(self, name)\n",
    "            for name, attr in self.__class__.__dict__.items()\n",
    "            if isinstance(attr, Field)\n",
    "        }\n",
    "    \n",
    "    def __repr__(self) -> str:\n",
    "        kwargs = ', '.join(\n",
    "            f'{key}={value!r}' for key, value in self._asdict().items()\n",
    "        )\n",
    "        return f'{self.__class__.__name__}({kwargs})'"
   ]
  },
  {
   "cell_type": "code",
   "execution_count": 5,
   "metadata": {},
   "outputs": [],
   "source": [
    "class Movie(Checked):\n",
    "    title: str\n",
    "    year: int\n",
    "    box_office: float"
   ]
  },
  {
   "cell_type": "code",
   "execution_count": 6,
   "metadata": {},
   "outputs": [
    {
     "name": "stdout",
     "output_type": "stream",
     "text": [
      "Movie(title='The Godfather', year=1972, box_office=0.0)\n",
      "The Godfather\n"
     ]
    }
   ],
   "source": [
    "movie = Movie(title='The Godfather', year=1972)\n",
    "print(movie)\n",
    "print(movie.title)"
   ]
  },
  {
   "cell_type": "markdown",
   "metadata": {},
   "source": [
    "## A Metaclass Hack with `__prepare__`"
   ]
  },
  {
   "cell_type": "code",
   "execution_count": 7,
   "metadata": {},
   "outputs": [],
   "source": [
    "class WilyDict(dict):\n",
    "    def __init__(self, *args, **kwargs):\n",
    "        super().__init__(*args, **kwargs)\n",
    "        self.__next_value = 0\n",
    "\n",
    "    def __missing__(self, key):\n",
    "        if key.startswith('__') and key.endswith('__'):\n",
    "            raise KeyError(key)\n",
    "        self[key] = value = self.__next_value\n",
    "        self.__next_value += 1\n",
    "        return value"
   ]
  },
  {
   "cell_type": "code",
   "execution_count": 8,
   "metadata": {},
   "outputs": [],
   "source": [
    "class AutoConstMeta(type):\n",
    "    def __prepare__(name, bases, **kwargs):\n",
    "        return WilyDict()\n",
    "\n",
    "\n",
    "class AutoConst(metaclass=AutoConstMeta):\n",
    "    pass"
   ]
  },
  {
   "cell_type": "code",
   "execution_count": 9,
   "metadata": {},
   "outputs": [
    {
     "name": "stdout",
     "output_type": "stream",
     "text": [
      "Flavor.vanilla == 2\n"
     ]
    }
   ],
   "source": [
    "class Flavor(AutoConst):\n",
    "    banana\n",
    "    coconut\n",
    "    vanilla\n",
    "\n",
    "print('Flavor.vanilla ==', Flavor.vanilla)"
   ]
  },
  {
   "cell_type": "markdown",
   "metadata": {},
   "source": [
    "When Python processes the namespace of the user's class and reads `banana`, it looks up that name in the mapping provided by `__prepare__`: an instance of `WilyDict`. `WilyDict` implements `__missing__`. The `WilyDict` instance initially has no `banana` key, so the `__missing__` method returning that value. Python is happy with that, then tries retrieve `coconut`. `WilyDict` promptly adds that entry with value `1`, returning it. The same happens with `vanilla`, which is then mapped to `2`. "
   ]
  },
  {
   "cell_type": "markdown",
   "metadata": {},
   "source": [
    "## Wrapping Up\n",
    "\n",
    "Metaclasses, as well as class decorators and `__init_subclass__` are useful for:\n",
    "- Subclass registration\n",
    "- Subclass structural validation\n",
    "- Applying decorators to many methods at once\n",
    "- Object serialization\n",
    "- Object-relational mapping\n",
    "- Object-based persistence\n",
    "- Implementing special methods at the class level\n",
    "- Implementing class features found in other languages, such as [traits](https://fpy.li/24-17) and [aspect-oriented programming](https://fpy.li/24-18). "
   ]
  },
  {
   "cell_type": "code",
   "execution_count": 10,
   "metadata": {},
   "outputs": [
    {
     "name": "stdout",
     "output_type": "stream",
     "text": [
      "[<class '__main__.MyPlugin'>, <class '__main__.AnotherPlugin'>]\n"
     ]
    }
   ],
   "source": [
    "class PluginBase:\n",
    "    plugins = []\n",
    "\n",
    "    def __init_subclass__(cls, **kwargs):\n",
    "        super().__init_subclass__(**kwargs)\n",
    "        cls.plugins.append(cls)\n",
    "\n",
    "class MyPlugin(PluginBase):\n",
    "    pass\n",
    "\n",
    "class AnotherPlugin(PluginBase):\n",
    "    pass\n",
    "\n",
    "\n",
    "print(PluginBase.plugins)  "
   ]
  }
 ],
 "metadata": {
  "kernelspec": {
   "display_name": "Python 3",
   "language": "python",
   "name": "python3"
  },
  "language_info": {
   "codemirror_mode": {
    "name": "ipython",
    "version": 3
   },
   "file_extension": ".py",
   "mimetype": "text/x-python",
   "name": "python",
   "nbconvert_exporter": "python",
   "pygments_lexer": "ipython3",
   "version": "3.10.10"
  },
  "orig_nbformat": 4
 },
 "nbformat": 4,
 "nbformat_minor": 2
}
