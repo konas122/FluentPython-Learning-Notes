{
 "cells": [
  {
   "cell_type": "markdown",
   "metadata": {},
   "source": [
    "## [Previous Section](./ClassesDecorator.ipynb)"
   ]
  },
  {
   "cell_type": "markdown",
   "metadata": {},
   "source": [
    "## A Metaclass Solution for `Checked`"
   ]
  },
  {
   "cell_type": "code",
   "execution_count": 1,
   "metadata": {},
   "outputs": [],
   "source": [
    "from collections.abc import Callable  \n",
    "from typing import Any, NoReturn, get_type_hints"
   ]
  },
  {
   "cell_type": "code",
   "execution_count": 2,
   "metadata": {},
   "outputs": [],
   "source": [
    "class Field:\n",
    "    \n",
    "    def __init__(self, name: str, constructor: Callable) -> None:\n",
    "        if not callable(constructor) or constructor is type(None):\n",
    "            raise TypeError(f'{name!r} type hint must be callable')\n",
    "        self.name = name\n",
    "        self.storage_name = '_' + name\n",
    "        self.constructor = constructor\n",
    "\n",
    "    def __get__(self, instance, owner=None):\n",
    "        # If `__get__` gets `None` as the `instance` argument, the descriptor is being read from\n",
    "        # the managed class itself, not a managed instance. So we return the decriptor. \n",
    "        if isinstance is None:\n",
    "            return self\n",
    "        # Otherwise, return the value stored in the attribute named `storage_name`. \n",
    "        return getattr(instance, self.storage_name)\n",
    "    \n",
    "    def __set__(self, instance: Any, value: Any) -> None:\n",
    "        if value is ...:\n",
    "            value = self.constructor()\n",
    "        else:\n",
    "            try:\n",
    "                value = self.constructor(value)\n",
    "            except (TypeError, ValueError) as e:\n",
    "                type_name = self.constructor.__name__\n",
    "                msg = f'{value!r} is not callable with {self.name}: {type_name}'\n",
    "                raise TypeError(msg) from e\n",
    "        setattr(instance, self.storage_name, value)"
   ]
  },
  {
   "cell_type": "code",
   "execution_count": 3,
   "metadata": {},
   "outputs": [],
   "source": [
    "class CheckedMeta(type):\n",
    "\n",
    "    def __new__(meta_cls, cls_name, bases, cls_dict):\n",
    "        if '__slots__' not in cls_dict:\n",
    "            slots = []\n",
    "            # To get the type hints in prior examples, we used `typing.get_type_hints`, \n",
    "            # but that requires an existing class as the first argument. At this point, \n",
    "            # the class we are configuring does not exist yet, so we need to retrieve the\n",
    "            # `__annotations__` directly from the `cls_dict` —— the namespace of the class under construction, \n",
    "            # which Python passes as the last argument to the metaclass `__new__`\n",
    "            type_hints = cls_dict.get('__annotations__', {})\n",
    "            for name, constructor in type_hints.items():\n",
    "                field = Field(name, constructor)\n",
    "                cls_dict[name] = field\n",
    "                slots.append(field.storage_name)\n",
    "            # populate the `__slots__` entry in `cls_dict` —— the namespace of the class under construction. \n",
    "            cls_dict['__slots__'] = slots\n",
    "\n",
    "        # Finally, we call `super().__new__`\n",
    "        return super().__new__(\n",
    "            meta_cls, cls_name, bases, cls_dict)"
   ]
  },
  {
   "cell_type": "markdown",
   "metadata": {},
   "source": [
    "The last part of this, is the `Checked` base class. \n",
    "\n",
    "The code for this version of `Checked` is the same as `Checked` in the *previous section*, with three changes:\n",
    "1. Added an empty `__slots__` to signal to `CheckedMeta.__new__` that this class doesn't require special processing. \n",
    "2. Removed `__setattr__`. Its job is now done by `CheckedMeta.__new__`. \n",
    "3. Removed `__setattr__`. It became redundant because adding `__slots__` to the user-defined class prevents setting undeclared attributes. "
   ]
  },
  {
   "cell_type": "code",
   "execution_count": 4,
   "metadata": {},
   "outputs": [],
   "source": [
    "class Checked(metaclass=CheckedMeta):\n",
    "\n",
    "    __slots__ = ()  # skip `CheckedMeta.__new__` processing\n",
    "\n",
    "    @classmethod\n",
    "    def _fields(cls) -> dict[str, type]:\n",
    "        return get_type_hints(cls)\n",
    "\n",
    "    def __init__(self, **kwargs: Any) -> None:\n",
    "        for name in self._fields():\n",
    "            value = kwargs.pop(name, ...)\n",
    "            setattr(self, name, value)\n",
    "        if kwargs:\n",
    "            self.__flag_unknown_attrs(*kwargs)\n",
    "\n",
    "    def __flag_unknown_attrs(self, *names: str) -> NoReturn:\n",
    "        plural = 's' if len(names) > 1 else ''\n",
    "        extra = ', '.join(f'{name!r}' for name in names)\n",
    "        cls_name = repr(self.__class__.__name__)\n",
    "        raise AttributeError(f'{cls_name} object has no Attribute{plural} {extra}')\n",
    "    \n",
    "    def _asdict(self) -> dict[str, Any]:\n",
    "        return {\n",
    "            name: getattr(self, name)\n",
    "            for name, attr in self.__class__.__dict__.items()\n",
    "            if isinstance(attr, Field)\n",
    "        }\n",
    "    \n",
    "    def __repr__(self) -> str:\n",
    "        kwargs = ', '.join(\n",
    "            f'{key}={value!r}' for key, value in self._asdict().items()\n",
    "        )\n",
    "        return f'{self.__class__.__name__}({kwargs})'"
   ]
  },
  {
   "cell_type": "code",
   "execution_count": 5,
   "metadata": {},
   "outputs": [],
   "source": [
    "class Movie(Checked):\n",
    "    title: str\n",
    "    year: int\n",
    "    box_office: float"
   ]
  },
  {
   "cell_type": "code",
   "execution_count": 6,
   "metadata": {},
   "outputs": [
    {
     "name": "stdout",
     "output_type": "stream",
     "text": [
      "Movie(title='The Godfather', year=1972, box_office=0.0)\n",
      "The Godfather\n"
     ]
    }
   ],
   "source": [
    "movie = Movie(title='The Godfather', year=1972)\n",
    "print(movie)\n",
    "print(movie.title)"
   ]
  }
 ],
 "metadata": {
  "kernelspec": {
   "display_name": "Python 3",
   "language": "python",
   "name": "python3"
  },
  "language_info": {
   "codemirror_mode": {
    "name": "ipython",
    "version": 3
   },
   "file_extension": ".py",
   "mimetype": "text/x-python",
   "name": "python",
   "nbconvert_exporter": "python",
   "pygments_lexer": "ipython3",
   "version": "3.10.10"
  },
  "orig_nbformat": 4
 },
 "nbformat": 4,
 "nbformat_minor": 2
}
