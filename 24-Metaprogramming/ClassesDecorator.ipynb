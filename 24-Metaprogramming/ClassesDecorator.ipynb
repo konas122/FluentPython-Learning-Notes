{
 "cells": [
  {
   "cell_type": "markdown",
   "metadata": {},
   "source": [
    "## [Previous Section](./ClassesDecorator.ipynb)"
   ]
  },
  {
   "cell_type": "markdown",
   "metadata": {},
   "source": [
    "## Enhancing Classes with a Class Decorator"
   ]
  },
  {
   "cell_type": "code",
   "execution_count": 2,
   "metadata": {},
   "outputs": [],
   "source": [
    "from collections.abc import Callable  \n",
    "from typing import Any, NoReturn, get_type_hints\n",
    "\n",
    "class Field:\n",
    "    def __init__(self, name: str, constructor: Callable) -> None:\n",
    "        if not callable(constructor) or constructor is type(None):\n",
    "            raise TypeError(f'{name!r} type hint must be callable')\n",
    "        self.name = name\n",
    "        self.constructor = constructor\n",
    "\n",
    "    def __set__(self, instance: Any, value: Any) -> None:\n",
    "        if value is ...:  # <4>\n",
    "            value = self.constructor()\n",
    "        else:\n",
    "            try:\n",
    "                value = self.constructor(value) \n",
    "            except (TypeError, ValueError) as e:\n",
    "                type_name = self.constructor.__name__\n",
    "                msg = (\n",
    "                    f'{value!r} is not compatible with {self.name}:{type_name}'\n",
    "                )\n",
    "                raise TypeError(msg) from e\n",
    "        instance.__dict__[self.name] = value"
   ]
  },
  {
   "cell_type": "markdown",
   "metadata": {},
   "source": [
    "Every top-level function in this file is prefixed with an underscore, **except** the `checked` decorator. "
   ]
  },
  {
   "cell_type": "markdown",
   "metadata": {},
   "source": [
    "The methods to be injected in the decorated class. "
   ]
  },
  {
   "cell_type": "code",
   "execution_count": 3,
   "metadata": {},
   "outputs": [],
   "source": [
    "def _fields(cls: type) -> dict[str, type]:\n",
    "    return get_type_hints(cls)\n",
    "\n",
    "def __init__(self: Any, **kwargs: Any) -> None:\n",
    "    for name in self._fields():\n",
    "        value = kwargs.pop(name, ...)\n",
    "        setattr(self, name, value)\n",
    "    if kwargs:\n",
    "        self.__flag_unknown_attrs(*kwargs)\n",
    "\n",
    "def __setattr__(self: Any, name: str, value: Any) -> None:\n",
    "    if name in self._fields():\n",
    "        cls = self.__class__\n",
    "        descriptor = getattr(cls, name)\n",
    "        descriptor.__set__(self, value)\n",
    "    else:\n",
    "        self.__flag_unknown_attrs(name)\n",
    "\n",
    "def __flag_unknown_attrs(self: Any, *names: str) -> NoReturn:\n",
    "    plural = 's' if len(names) > 1 else ''\n",
    "    extra = ', '.join(f'{name!r}' for name in names)\n",
    "    cls_name = repr(self.__class__.__name__)\n",
    "    raise AttributeError(f'{cls_name} has no attribute{plural} {extra}')\n",
    "\n",
    "def _asdict(self: Any) -> dict[str, Any]:\n",
    "    return {\n",
    "        name: getattr(self, name)\n",
    "        for name, attr in self.__class__.__dict__.items()\n",
    "        if isinstance(attr, Field)\n",
    "    }\n",
    "\n",
    "def __repr__(self: Any) -> str:\n",
    "    kwargs = ', '.join(\n",
    "        f'{key}={value!r}' for key, value in self._asdict().items()\n",
    "    )\n",
    "    return f'{self.__class__.__name__}({kwargs})'\n",
    "\n",
    "\n",
    "\n",
    "\n",
    "# Recall that classes are instances of type. \n",
    "# These type hints strongly suggest this is a class decorator: \n",
    "# it takes a class and returns a class. \n",
    "def checked(cls: type) -> type:  \n",
    "    for name, constructor in _fields(cls).items():    \n",
    "        setattr(cls, name, Field(name, constructor)) \n",
    "\n",
    "    cls._fields = classmethod(_fields)  # type: ignore  \n",
    "\n",
    "    # Module-level functions that will become instance methods of the decorated class. \n",
    "    instance_methods = (  \n",
    "        __init__,\n",
    "        __repr__,\n",
    "        __setattr__,\n",
    "        _asdict,\n",
    "        __flag_unknown_attrs,\n",
    "    )\n",
    "    # Add each of the `instance_methods` to `cls`. \n",
    "    for method in instance_methods: \n",
    "        setattr(cls, method.__name__, method)\n",
    "\n",
    "    # Return the decorated `cls`, \n",
    "    # fulfilling the essential contract of a class decorator. \n",
    "    return cls"
   ]
  },
  {
   "cell_type": "code",
   "execution_count": 4,
   "metadata": {},
   "outputs": [],
   "source": [
    "@checked\n",
    "class Movie:\n",
    "    title: str\n",
    "    year: int\n",
    "    box_office: float"
   ]
  },
  {
   "cell_type": "code",
   "execution_count": 15,
   "metadata": {},
   "outputs": [
    {
     "data": {
      "text/plain": [
       "'The Godfather'"
      ]
     },
     "execution_count": 15,
     "metadata": {},
     "output_type": "execute_result"
    }
   ],
   "source": [
    "movie = Movie(title='The Godfather', year=1972, box_office=137)\n",
    "movie.title"
   ]
  },
  {
   "cell_type": "code",
   "execution_count": 6,
   "metadata": {},
   "outputs": [
    {
     "data": {
      "text/plain": [
       "Movie(title='The Godfather', year=1972, box_office=137.0)"
      ]
     },
     "execution_count": 6,
     "metadata": {},
     "output_type": "execute_result"
    }
   ],
   "source": [
    "movie"
   ]
  },
  {
   "cell_type": "markdown",
   "metadata": {},
   "source": [
    "## Metaclasses 101"
   ]
  },
  {
   "cell_type": "markdown",
   "metadata": {},
   "source": [
    "The bound method object also has a `__call__` method, which handles the actual invocation. This method calls the original function referenced in `__func__`, passing the `__self__` attribute of the method as the first argument. "
   ]
  },
  {
   "cell_type": "code",
   "execution_count": 7,
   "metadata": {},
   "outputs": [
    {
     "name": "stdout",
     "output_type": "stream",
     "text": [
      "<class 'type'> <class 'type'> <class 'type'>\n"
     ]
    }
   ],
   "source": [
    "class LineItem:\n",
    "    pass\n",
    "\n",
    "\n",
    "print(\n",
    "    str.__class__,\n",
    "    LineItem.__class__,\n",
    "    type.__class__)"
   ]
  },
  {
   "cell_type": "markdown",
   "metadata": {},
   "source": [
    "They all are subclasees of `object`. "
   ]
  },
  {
   "cell_type": "code",
   "execution_count": 8,
   "metadata": {},
   "outputs": [
    {
     "name": "stdout",
     "output_type": "stream",
     "text": [
      "<class 'abc.ABCMeta'> <class 'type'>\n"
     ]
    }
   ],
   "source": [
    "from abc import ABCMeta\n",
    "from collections.abc import Iterable\n",
    "\n",
    "print(\n",
    "    Iterable.__class__,\n",
    "    ABCMeta.__class__)"
   ]
  },
  {
   "cell_type": "markdown",
   "metadata": {},
   "source": [
    "Note that `Iterable` is an abstract class, but `ABCMeta` is a concrete class. \n",
    "\n",
    "the class of `ABCMeta` is also `type`. Every class is an instance of `type`, directly or indirectly. "
   ]
  },
  {
   "cell_type": "markdown",
   "metadata": {},
   "source": [
    "`Iterable` is a subclass of `object` and an instance of `ABCMeta`. Both `object` and `ABCMeta` are instance of `type`, but the  key relationship here is that `ABCMeta` is also a subclass of `type`, because `ABCMeta` is a metaclass. "
   ]
  },
  {
   "cell_type": "markdown",
   "metadata": {},
   "source": [
    "### Customizes a Class\n",
    "\n",
    "To use a metaclass, it's critical to understand how `__new__` works on any class. \n",
    "\n",
    "Consider this declaration:\n",
    "\n",
    "```python\n",
    "class Klass(SuperKlass, metaclass=MetaClass):\n",
    "    x = 42\n",
    "    def __init__(self, y):\n",
    "        self.y = y\n",
    "```\n",
    "\n",
    "To process that `class` statement, Python calls `MetaClass.__new__` with these arguments:\n",
    "- **`meta_cls`:** The metaclass itself(`MetaClass`), because `MetaClass.__new__` works as class method. \n",
    "- **`cls_name`:** The string `Klass`. \n",
    "- **`bases`:** The single-element tuple `(SuperKlass,)`, with more elements in the case of multiple inheritance. \n",
    "- **`cls_dict`:** A mapping like: `{x: 42, __init__:<function __init__ at 0x1009c4040>}`. \n"
   ]
  },
  {
   "cell_type": "markdown",
   "metadata": {},
   "source": [
    "\n",
    "When you implement `MetaClass.__new__`, you can inspect and change those arguments before passing them to `super().__new__`, which will eventually call `type.__new__` to create the new class object. \n",
    "\n",
    "After `super().__new__` returns, you can also apply further processing to the newly created class before returning it to Python. Python then calls `SuperClass.__init_subclass__`, passing the class you created, and then applies a class decorator to it, if one is present. Finally, Python binds the class object to its name in the surrounding namespace —— usually the gloabal namespace of a module, if the `class` statement was a top-level statement. \n",
    "\n",
    "The most common processiong made in a metaclass `__new__` is to add or replace items in the `cls_dict` —— the mapping that represents the namespace of the class under construction. For instance, before calling `super().__new__`, you can inject methods in the class under construction by adding functions to `cls_dict`. However, note that adding methods can also be done after the class is built, which is why we were able to do it using `__init_subclass__` or a class decorator. "
   ]
  },
  {
   "cell_type": "markdown",
   "metadata": {},
   "source": [
    "#### **A Metaclass Example**"
   ]
  },
  {
   "cell_type": "code",
   "execution_count": 9,
   "metadata": {},
   "outputs": [],
   "source": [
    "# To create a new metaclass, inherit from `type`\n",
    "class MetaBunch(type):\n",
    "\n",
    "    # `__new__` works as a class method. \n",
    "    def __new__(meta_cls, cls_name, bases, cls_dict):\n",
    "        # `defaults` will hold a mapping of attribute names and their default value. \n",
    "        defaults = {}\n",
    "\n",
    "        # This will be injected into the new class. \n",
    "        def __init__(self, **kwargs):\n",
    "            # Read from `defaults` and set the corresponding instance attribute with a value popped from `kwargs` or a default. \n",
    "            for name, default in defaults.items():\n",
    "                setattr(self, name, kwargs.pop(name, default))\n",
    "            # If there is still any item in `kwargs`, it means there are no slots left where we can place them. \n",
    "            # But we don't want to silently ignore extra items. A quick and effective solution is pop one item \n",
    "            # from `kwargs` and try to set it on the instance, triggering an AttributeError on purpose. \n",
    "            if kwargs:\n",
    "                extra = ', '.join(kwargs)\n",
    "                raise AttributeError(f'No slots left for: {extra!r}')\n",
    "        \n",
    "        def __repr__(self) -> str:\n",
    "            rep = ', '.join(f'{name}={value!r}'\n",
    "                        for name, default in defaults.items()\n",
    "                        if (value := getattr(self, name)) != default)\n",
    "            return f'{cls_name}({rep})'\n",
    "    \n",
    "        # Initialize namespace for the new class. \n",
    "        new_dict = dict(__slots__=[], __init__=__init__, __repr__=__repr__)\n",
    "\n",
    "        for name, value in cls_dict.items():\n",
    "            # If a dunder `name` is found, copyt the item to the new class namespace, \n",
    "            # unless it's already there. This prevents uses from overwriting `__init__`, `__repr__`\n",
    "            # and other attributes set by Python, such as `__qualname__` and `__module__`. \n",
    "            if name.startswith('__') and name.endswith('__'):\n",
    "                if name in new_dict:\n",
    "                    raise AttributeError(f\"Cant't set {name!r} in {cls_name!r}\")\n",
    "                new_dict[name] = value\n",
    "            # If not a dunder `name`, append to `__slots__` and save its `value` in `defaults`. \n",
    "            else:\n",
    "                new_dict['__slots__'].append(name)\n",
    "                defaults[name] = value\n",
    "\n",
    "        # Build and return the new class. \n",
    "        return super().__new__(meta_cls, cls_name, bases, new_dict)"
   ]
  },
  {
   "cell_type": "markdown",
   "metadata": {},
   "source": [
    "`MetaBunch` works because it is able to configure `__slots__` before calling `super().__new__` to build the final class. "
   ]
  },
  {
   "cell_type": "markdown",
   "metadata": {},
   "source": [
    "Then, we provide a base class, so users don't need to see `MetaBunch`. "
   ]
  },
  {
   "cell_type": "code",
   "execution_count": 10,
   "metadata": {},
   "outputs": [],
   "source": [
    "class Bunch(metaclass=MetaBunch):\n",
    "    pass"
   ]
  },
  {
   "cell_type": "code",
   "execution_count": 11,
   "metadata": {},
   "outputs": [],
   "source": [
    "class Point(Bunch):\n",
    "    x = 0.0\n",
    "    y = 0.0\n",
    "    color = 'gray'"
   ]
  },
  {
   "cell_type": "code",
   "execution_count": 12,
   "metadata": {},
   "outputs": [
    {
     "data": {
      "text/plain": [
       "Point(x=1.2, y=3, color='green')"
      ]
     },
     "execution_count": 12,
     "metadata": {},
     "output_type": "execute_result"
    }
   ],
   "source": [
    "Point(x=1.2, y=3, color='green')"
   ]
  },
  {
   "cell_type": "code",
   "execution_count": 13,
   "metadata": {},
   "outputs": [
    {
     "data": {
      "text/plain": [
       "(0.0, 0.0, 'gray')"
      ]
     },
     "execution_count": 13,
     "metadata": {},
     "output_type": "execute_result"
    }
   ],
   "source": [
    "p = Point()\n",
    "p.x, p.y, p.color"
   ]
  },
  {
   "cell_type": "code",
   "execution_count": 14,
   "metadata": {},
   "outputs": [
    {
     "data": {
      "text/plain": [
       "Point()"
      ]
     },
     "execution_count": 14,
     "metadata": {},
     "output_type": "execute_result"
    }
   ],
   "source": [
    "p"
   ]
  }
 ],
 "metadata": {
  "kernelspec": {
   "display_name": "Python 3",
   "language": "python",
   "name": "python3"
  },
  "language_info": {
   "codemirror_mode": {
    "name": "ipython",
    "version": 3
   },
   "file_extension": ".py",
   "mimetype": "text/x-python",
   "name": "python",
   "nbconvert_exporter": "python",
   "pygments_lexer": "ipython3",
   "version": "3.10.10"
  },
  "orig_nbformat": 4
 },
 "nbformat": 4,
 "nbformat_minor": 2
}
