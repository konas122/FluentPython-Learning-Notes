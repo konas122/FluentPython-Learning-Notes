{
 "cells": [
  {
   "cell_type": "markdown",
   "metadata": {},
   "source": [
    "## [Previous Section](./ClassesDecorator.ipynb)"
   ]
  },
  {
   "cell_type": "markdown",
   "metadata": {},
   "source": [
    "## Enhancing Classes with a Class Decorator"
   ]
  },
  {
   "cell_type": "code",
   "execution_count": 7,
   "metadata": {},
   "outputs": [],
   "source": [
    "from collections.abc import Callable  \n",
    "from typing import Any, NoReturn, get_type_hints\n",
    "\n",
    "class Field:\n",
    "    def __init__(self, name: str, constructor: Callable) -> None:\n",
    "        if not callable(constructor) or constructor is type(None):\n",
    "            raise TypeError(f'{name!r} type hint must be callable')\n",
    "        self.name = name\n",
    "        self.constructor = constructor\n",
    "\n",
    "    def __set__(self, instance: Any, value: Any) -> None:\n",
    "        if value is ...:  # <4>\n",
    "            value = self.constructor()\n",
    "        else:\n",
    "            try:\n",
    "                value = self.constructor(value) \n",
    "            except (TypeError, ValueError) as e:\n",
    "                type_name = self.constructor.__name__\n",
    "                msg = (\n",
    "                    f'{value!r} is not compatible with {self.name}:{type_name}'\n",
    "                )\n",
    "                raise TypeError(msg) from e\n",
    "        instance.__dict__[self.name] = value"
   ]
  },
  {
   "cell_type": "markdown",
   "metadata": {},
   "source": [
    "Every top-level function in this file is prefixed with an underscore, **except** the `checked` decorator. "
   ]
  },
  {
   "cell_type": "markdown",
   "metadata": {},
   "source": [
    "The methods to be injected in the decorated class. "
   ]
  },
  {
   "cell_type": "code",
   "execution_count": 8,
   "metadata": {},
   "outputs": [],
   "source": [
    "def _fields(cls: type) -> dict[str, type]:\n",
    "    return get_type_hints(cls)\n",
    "\n",
    "def __init__(self: Any, **kwargs: Any) -> None:\n",
    "    for name in self._fields():\n",
    "        value = kwargs.pop(name, ...)\n",
    "        setattr(self, name, value)\n",
    "    if kwargs:\n",
    "        self.__flag_unknown_attrs(*kwargs)\n",
    "\n",
    "def __setattr__(self: Any, name: str, value: Any) -> None:\n",
    "    if name in self._fields():\n",
    "        cls = self.__class__\n",
    "        descriptor = getattr(cls, name)\n",
    "        descriptor.__set__(self, value)\n",
    "    else:\n",
    "        self.__flag_unknown_attrs(name)\n",
    "\n",
    "def __flag_unknown_attrs(self: Any, *names: str) -> NoReturn:\n",
    "    plural = 's' if len(names) > 1 else ''\n",
    "    extra = ', '.join(f'{name!r}' for name in names)\n",
    "    cls_name = repr(self.__class__.__name__)\n",
    "    raise AttributeError(f'{cls_name} has no attribute{plural} {extra}')\n",
    "\n",
    "def _asdict(self: Any) -> dict[str, Any]:\n",
    "    return {\n",
    "        name: getattr(self, name)\n",
    "        for name, attr in self.__class__.__dict__.items()\n",
    "        if isinstance(attr, Field)\n",
    "    }\n",
    "\n",
    "def __repr__(self: Any) -> str:\n",
    "    kwargs = ', '.join(\n",
    "        f'{key}={value!r}' for key, value in self._asdict().items()\n",
    "    )\n",
    "    return f'{self.__class__.__name__}({kwargs})'\n",
    "\n",
    "\n",
    "\n",
    "\n",
    "# Recall that classes are instances of type. \n",
    "# These type hints strongly suggest this is a class decorator: \n",
    "# it takes a class and returns a class. \n",
    "def checked(cls: type) -> type:  \n",
    "    for name, constructor in _fields(cls).items():    \n",
    "        setattr(cls, name, Field(name, constructor)) \n",
    "\n",
    "    cls._fields = classmethod(_fields)  # type: ignore  \n",
    "\n",
    "    # Module-level functions that will become instance methods of the decorated class. \n",
    "    instance_methods = (  \n",
    "        __init__,\n",
    "        __repr__,\n",
    "        __setattr__,\n",
    "        _asdict,\n",
    "        __flag_unknown_attrs,\n",
    "    )\n",
    "    # Add each of the `instance_methods` to `cls`. \n",
    "    for method in instance_methods: \n",
    "        setattr(cls, method.__name__, method)\n",
    "\n",
    "    # Return the decorated `cls`, \n",
    "    # fulfilling the essential contract of a class decorator. \n",
    "    return cls"
   ]
  },
  {
   "cell_type": "code",
   "execution_count": 9,
   "metadata": {},
   "outputs": [],
   "source": [
    "@checked\n",
    "class Movie:\n",
    "    title: str\n",
    "    year: int\n",
    "    box_office: float"
   ]
  },
  {
   "cell_type": "code",
   "execution_count": 10,
   "metadata": {},
   "outputs": [
    {
     "data": {
      "text/plain": [
       "'The Godfather'"
      ]
     },
     "execution_count": 10,
     "metadata": {},
     "output_type": "execute_result"
    }
   ],
   "source": [
    "movie = Movie(title='The Godfather', year=1972, box_office=137)\n",
    "movie.title"
   ]
  },
  {
   "cell_type": "code",
   "execution_count": 11,
   "metadata": {},
   "outputs": [
    {
     "data": {
      "text/plain": [
       "Movie(title='The Godfather', year=1972, box_office=137.0)"
      ]
     },
     "execution_count": 11,
     "metadata": {},
     "output_type": "execute_result"
    }
   ],
   "source": [
    "movie"
   ]
  }
 ],
 "metadata": {
  "kernelspec": {
   "display_name": "Python 3",
   "language": "python",
   "name": "python3"
  },
  "language_info": {
   "codemirror_mode": {
    "name": "ipython",
    "version": 3
   },
   "file_extension": ".py",
   "mimetype": "text/x-python",
   "name": "python",
   "nbconvert_exporter": "python",
   "pygments_lexer": "ipython3",
   "version": "3.10.10"
  },
  "orig_nbformat": 4
 },
 "nbformat": 4,
 "nbformat_minor": 2
}
