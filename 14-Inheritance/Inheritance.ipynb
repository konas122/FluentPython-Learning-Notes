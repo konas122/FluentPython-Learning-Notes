{
 "cells": [
  {
   "cell_type": "markdown",
   "metadata": {},
   "source": [
    "# Inheritance"
   ]
  },
  {
   "cell_type": "code",
   "execution_count": 5,
   "metadata": {},
   "outputs": [],
   "source": [
    "class Root:\n",
    "    def ping(self):\n",
    "        print(f'{self}.ping() in Root')\n",
    "\n",
    "    def pong(self):\n",
    "        print(f'{self}.pong() in Root')\n",
    "    \n",
    "    def __repr__(self) -> str:\n",
    "        cls_name = type(self).__name__\n",
    "        return f'<instance of {cls_name}>'\n",
    "    \n",
    "\n",
    "class A(Root):\n",
    "    def ping(self):\n",
    "        print(f'{self}.ping() in A')\n",
    "        super().ping()\n",
    "\n",
    "    def pong(self):\n",
    "        print(f'{self}.pong() in A')\n",
    "        super().pong()\n",
    "\n",
    "    \n",
    "class B(Root):\n",
    "    def ping(self):\n",
    "        print(f'{self}.ping() in B')\n",
    "        super().ping()\n",
    "\n",
    "    def pong(self):\n",
    "        print(f'{self}.pong() in B')\n",
    "    \n",
    "\n",
    "class Leaf(A, B):\n",
    "    def ping(self):\n",
    "        print(f'{self}.ping() in Leaf')\n",
    "        super().ping()"
   ]
  },
  {
   "cell_type": "code",
   "execution_count": 7,
   "metadata": {},
   "outputs": [
    {
     "name": "stdout",
     "output_type": "stream",
     "text": [
      "<instance of Leaf>.ping() in Leaf\n",
      "<instance of Leaf>.ping() in A\n",
      "<instance of Leaf>.ping() in B\n",
      "<instance of Leaf>.ping() in Root\n"
     ]
    }
   ],
   "source": [
    "leaf1 = Leaf()\n",
    "\n",
    "leaf1.ping()"
   ]
  },
  {
   "cell_type": "code",
   "execution_count": 8,
   "metadata": {},
   "outputs": [
    {
     "name": "stdout",
     "output_type": "stream",
     "text": [
      "<instance of Leaf>.pong() in A\n",
      "<instance of Leaf>.pong() in B\n"
     ]
    }
   ],
   "source": [
    "leaf1.pong()"
   ]
  },
  {
   "cell_type": "markdown",
   "metadata": {},
   "source": [
    "Every class has an attribute call `__mro__` holding a tuple of references to the superclasses in the method resolution order. "
   ]
  },
  {
   "cell_type": "code",
   "execution_count": 10,
   "metadata": {},
   "outputs": [
    {
     "data": {
      "text/plain": [
       "(__main__.Leaf, __main__.A, __main__.B, __main__.Root, object)"
      ]
     },
     "execution_count": 10,
     "metadata": {},
     "output_type": "execute_result"
    }
   ],
   "source": [
    "Leaf.__mro__"
   ]
  },
  {
   "cell_type": "code",
   "execution_count": 11,
   "metadata": {},
   "outputs": [
    {
     "name": "stdout",
     "output_type": "stream",
     "text": [
      "Leaf, A, B, Root, object\n"
     ]
    }
   ],
   "source": [
    "def print_mro(cls):\n",
    "    print(', '.join(c.__name__ for c in cls.__mro__))\n",
    "\n",
    "print_mro(Leaf)"
   ]
  }
 ],
 "metadata": {
  "kernelspec": {
   "display_name": "Python 3",
   "language": "python",
   "name": "python3"
  },
  "language_info": {
   "codemirror_mode": {
    "name": "ipython",
    "version": 3
   },
   "file_extension": ".py",
   "mimetype": "text/x-python",
   "name": "python",
   "nbconvert_exporter": "python",
   "pygments_lexer": "ipython3",
   "version": "3.10.10"
  },
  "orig_nbformat": 4
 },
 "nbformat": 4,
 "nbformat_minor": 2
}
