{
 "cells": [
  {
   "cell_type": "code",
   "execution_count": 2,
   "metadata": {},
   "outputs": [],
   "source": [
    "import json\n",
    "import typing\n",
    "from typing import ClassVar\n",
    "from collections import namedtuple\n",
    "from dataclasses import dataclass, field"
   ]
  },
  {
   "cell_type": "code",
   "execution_count": 9,
   "metadata": {},
   "outputs": [
    {
     "name": "stdout",
     "output_type": "stream",
     "text": [
      "True\n",
      "True\n"
     ]
    }
   ],
   "source": [
    "Coordinate = namedtuple('Coordinate', 'lat lon')\n",
    "print(issubclass(Coordinate, tuple))\n",
    "\n",
    "moscow = Coordinate(lat=55.756, lon=37.617)\n",
    "print(moscow == Coordinate(lat=55.756, lon=37.617))\n"
   ]
  },
  {
   "cell_type": "code",
   "execution_count": 10,
   "metadata": {},
   "outputs": [
    {
     "name": "stdout",
     "output_type": "stream",
     "text": [
      "True\n",
      "{'lat': <class 'float'>, 'lon': <class 'float'>}\n"
     ]
    }
   ],
   "source": [
    "Coordinate = typing.NamedTuple('Coordinate', [('lat', float), ('lon', float)])\n",
    "print(issubclass(Coordinate, tuple))\n",
    "print(typing.get_type_hints(Coordinate))"
   ]
  },
  {
   "cell_type": "code",
   "execution_count": 11,
   "metadata": {},
   "outputs": [
    {
     "name": "stdout",
     "output_type": "stream",
     "text": [
      "City(name='tokyo', country='JP', population=36.933, coordinates=(35.689722, 139.691667)) 36.933\n",
      "<class '__main__.City'>\n",
      "\n",
      "('name', 'country', 'population', 'coordinates')\n"
     ]
    }
   ],
   "source": [
    "City = namedtuple('City', 'name country population coordinates')\n",
    "tokyo = City('tokyo', country='JP', population=36.933, coordinates=(35.689722, 139.691667))\n",
    "print(tokyo, tokyo[2])\n",
    "print(type(tokyo))\n",
    "\n",
    "print()\n",
    "print(City._fields)                                 # ._fields is a tuple with the field names of the class\n"
   ]
  },
  {
   "cell_type": "code",
   "execution_count": 12,
   "metadata": {},
   "outputs": [
    {
     "name": "stdout",
     "output_type": "stream",
     "text": [
      "City(name='Dh', country='IN', population=21.935, coordinates=(28.61, 77.21))\n",
      "{'name': 'Dh', 'country': 'IN', 'population': 21.935, 'coordinates': (28.61, 77.21)}\n",
      "{\"name\": \"Dh\", \"country\": \"IN\", \"population\": 21.935, \"coordinates\": [28.61, 77.21]}\n"
     ]
    }
   ],
   "source": [
    "dh = ('Dh', 'IN', 21.935, (28.61, 77.21))\n",
    "delhi = City._make(dh)\n",
    "print(delhi)\n",
    "print(delhi._asdict())\n",
    "\n",
    "js = json.dumps(delhi._asdict())\n",
    "print(js)"
   ]
  },
  {
   "cell_type": "code",
   "execution_count": 13,
   "metadata": {},
   "outputs": [
    {
     "name": "stdout",
     "output_type": "stream",
     "text": [
      "{'a': <class 'int'>, 'b': <class 'float'>}\n",
      "DemoNTClass(a, b)\n",
      "_tuplegetter(0, 'Alias for field number 0')\n",
      "_tuplegetter(1, 'Alias for field number 1')\n",
      "\n",
      "it fails with expression \"DemoNTClass(1, 2, 'ss')\"\n",
      "it works with expression \"DemoNTClass(1, 2)\": DemoNTClass(a=1, b=2)\n"
     ]
    }
   ],
   "source": [
    "class DemoNTClass(typing.NamedTuple):\n",
    "    a: int\n",
    "    b: float = 1.1\n",
    "    c = 'spam'                                          # c is just a plain old class attribute, no annotation will refer to it\n",
    "\n",
    "\n",
    "print(DemoNTClass.__annotations__)\n",
    "print(DemoNTClass.__doc__)\n",
    "print(DemoNTClass.a)\n",
    "print(DemoNTClass.b)\n",
    "print()\n",
    "\n",
    "try:\n",
    "    nt = DemoNTClass(1, 2, 'ss')\n",
    "    print(nt)\n",
    "except:\n",
    "    print(f'it fails with expression \"DemoNTClass(1, 2, \\'ss\\')\"')\n",
    "    nt = DemoNTClass(1, 2)\n",
    "    print(f'it works with expression \"DemoNTClass(1, 2)\": {nt}')"
   ]
  },
  {
   "cell_type": "code",
   "execution_count": 14,
   "metadata": {},
   "outputs": [
    {
     "name": "stdout",
     "output_type": "stream",
     "text": [
      "{'a': <class 'int'>, 'b': <class 'float'>}\n",
      "DemoDataClass(a: int, b: float = 1.1)\n"
     ]
    }
   ],
   "source": [
    "@dataclass\n",
    "class DemoDataClass:\n",
    "    a: int\n",
    "    b: float = 1.1\n",
    "    c = 'spam'                                          # c is just a plain old class attribute, no annotation will refer to it\n",
    "\n",
    "\n",
    "print(DemoDataClass.__annotations__)\n",
    "print(DemoDataClass.__doc__)"
   ]
  },
  {
   "cell_type": "code",
   "execution_count": 15,
   "metadata": {},
   "outputs": [
    {
     "name": "stdout",
     "output_type": "stream",
     "text": [
      "<class '__main__.ClubMember'>\n",
      "{'name': <class 'str'>, 'guests': list[str]}\n",
      "ClubMember(name: str, guests: list[str] = <factory>)\n"
     ]
    }
   ],
   "source": [
    "@dataclass\n",
    "class ClubMember:\n",
    "    name: str\n",
    "    guests: list[str] = field(default_factory=list)     # \"list[str]\" means a list of str, this generic type is accepted since 3.9\n",
    "\n",
    "\n",
    "print(ClubMember)\n",
    "print(ClubMember.__annotations__)\n",
    "print(ClubMember.__doc__)"
   ]
  },
  {
   "cell_type": "code",
   "execution_count": 17,
   "metadata": {},
   "outputs": [
    {
     "name": "stdout",
     "output_type": "stream",
     "text": [
      "HackerClubMember(name='Anna Ravenscroft', guests=[], handle='AnnaRaven')\n",
      "HackerClubMember(name='Leo Rochael', guests=[], handle='Leo')\n",
      "{'AnnaRaven', 'Leo'}\n"
     ]
    }
   ],
   "source": [
    "@dataclass\n",
    "class HackerClubMember(ClubMember):\n",
    "    all_handles: ClassVar[set[str]] = set()\n",
    "    handle: str = ''\n",
    "\n",
    "    def __post_init__(self):\n",
    "        cls = self.__class__\n",
    "        if self.handle == '':\n",
    "            self.handle = self.name.split()[0]\n",
    "        if self.handle in cls.all_handles:\n",
    "            msg = f'handle {self.handle!r} already exit. '\n",
    "            raise ValueError(msg)\n",
    "        cls.all_handles.add(self.handle)\n",
    "\n",
    "\n",
    "anna = HackerClubMember('Anna Ravenscroft', handle='AnnaRaven')\n",
    "leo = HackerClubMember('Leo Rochael')\n",
    "print(f'{anna}\\n{leo}')\n",
    "print(HackerClubMember.all_handles)\n",
    "\n",
    "# leo2 = HackerClubMember('Leo Davinci')        throws wrong!"
   ]
  }
 ],
 "metadata": {
  "kernelspec": {
   "display_name": "Python 3",
   "language": "python",
   "name": "python3"
  },
  "language_info": {
   "codemirror_mode": {
    "name": "ipython",
    "version": 3
   },
   "file_extension": ".py",
   "mimetype": "text/x-python",
   "name": "python",
   "nbconvert_exporter": "python",
   "pygments_lexer": "ipython3",
   "version": "3.10.10"
  }
 },
 "nbformat": 4,
 "nbformat_minor": 2
}
