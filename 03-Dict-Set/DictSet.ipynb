{
 "cells": [
  {
   "cell_type": "code",
   "execution_count": 55,
   "metadata": {},
   "outputs": [],
   "source": [
    "import collections\n",
    "from collections import abc\n",
    "from unicodedata import name\n",
    "from collections import ChainMap\n",
    "from types import MappingProxyType"
   ]
  },
  {
   "cell_type": "code",
   "execution_count": 56,
   "metadata": {},
   "outputs": [],
   "source": [
    "def get_creators(record : dict) -> list:\n",
    "    match record:\n",
    "        case {'type': 'book', 'api': 2, 'authors': [*names]}:\n",
    "            return names\n",
    "        case {'type': 'book', 'api': 1, 'author': name}:\n",
    "            return [name]\n",
    "        case {'type': 'book'}:\n",
    "            raise ValueError(f\"Invalid 'book' record: {record!r}\")\n",
    "        case {'type': 'movie', 'director': name}:\n",
    "            return [name]\n",
    "        case _:\n",
    "            raise ValueError(f'Invalid record: {record!r}')"
   ]
  },
  {
   "cell_type": "code",
   "execution_count": 57,
   "metadata": {},
   "outputs": [
    {
     "name": "stdout",
     "output_type": "stream",
     "text": [
      "['Douglas']\n"
     ]
    }
   ],
   "source": [
    "b1 = dict(api=1, author='Douglas', type='book', title=\"Bach\")\n",
    "print(get_creators(b1))"
   ]
  },
  {
   "cell_type": "code",
   "execution_count": 58,
   "metadata": {},
   "outputs": [
    {
     "name": "stdout",
     "output_type": "stream",
     "text": [
      "is it type of Mapping: True\n",
      "is it type of MutableMapping: True\n"
     ]
    }
   ],
   "source": [
    "my_dict = {}\n",
    "print('is it type of Mapping:', isinstance(my_dict, abc.Mapping))\n",
    "print(\"is it type of MutableMapping:\", isinstance(my_dict, abc.MutableMapping))"
   ]
  },
  {
   "cell_type": "code",
   "execution_count": 59,
   "metadata": {},
   "outputs": [
    {
     "name": "stdout",
     "output_type": "stream",
     "text": [
      "-7147732260165919647\n",
      "\n",
      "mutable objects is not hashable, so we use \"frozenset()\"\n",
      "2997140081635778748\n"
     ]
    }
   ],
   "source": [
    "print(hash((3, 2, (1, 4))))             # my_dict and b1 are mutable, so they are unhashable\n",
    "\n",
    "print()\n",
    "try:\n",
    "    print(hash((3, 2, [1, 4])))\n",
    "except:\n",
    "    print('mutable objects is not hashable, so we use \"frozenset()\"')\n",
    "    print(hash((3, 2, frozenset([1, 4]))))"
   ]
  },
  {
   "cell_type": "code",
   "execution_count": 60,
   "metadata": {},
   "outputs": [],
   "source": [
    "class StrKeyDict0(dict):\n",
    "\n",
    "    def __missing__(self, key):\n",
    "        if isinstance(key, str):\n",
    "            raise KeyError(key)\n",
    "        return self[str(key)]\n",
    "    \n",
    "    def get(self, key, default=None):\n",
    "        try:\n",
    "            return self[key]            # this expression may call the __missing__ method\n",
    "        except KeyError:\n",
    "            return default\n",
    "\n",
    "    def __contains__(self, key):\n",
    "        return key in self.keys() or str(key) in self.keys()"
   ]
  },
  {
   "cell_type": "markdown",
   "metadata": {},
   "source": [
    "## ChainMap"
   ]
  },
  {
   "cell_type": "code",
   "execution_count": 61,
   "metadata": {},
   "outputs": [
    {
     "name": "stdout",
     "output_type": "stream",
     "text": [
      "ChainMap chain['a']: 1\n",
      "ChainMap chain['c']: 6\n"
     ]
    }
   ],
   "source": [
    "d1 = dict(a=1, b=3)\n",
    "d2 = dict(a=2, b=4, c=6)\n",
    "chain = ChainMap(d1, d2)\n",
    "print(\"ChainMap chain['a']:\", chain['a'])\n",
    "print(\"ChainMap chain['c']:\", chain['c'])"
   ]
  },
  {
   "cell_type": "markdown",
   "metadata": {},
   "source": [
    "## Counter"
   ]
  },
  {
   "cell_type": "code",
   "execution_count": 62,
   "metadata": {},
   "outputs": [
    {
     "name": "stdout",
     "output_type": "stream",
     "text": [
      "Counter({'k': 3, 'd': 2, 'l': 2, 's': 2, 'j': 2, 'a': 1, 'f': 1, 'v': 1})\n",
      "Counter({'a': 5, 'k': 3, 'z': 3, 'd': 2, 'l': 2, 's': 2, 'j': 2, 'f': 1, 'v': 1})\n",
      "[('a', 5), ('k', 3), ('z', 3)]\n"
     ]
    }
   ],
   "source": [
    "ct = collections.Counter('akdlsjfkdsjklv')\n",
    "print(ct)\n",
    "ct.update('aaaazzz')\n",
    "print(ct)\n",
    "print(ct.most_common(3))"
   ]
  },
  {
   "cell_type": "markdown",
   "metadata": {},
   "source": [
    "## UserDict"
   ]
  },
  {
   "cell_type": "code",
   "execution_count": 63,
   "metadata": {},
   "outputs": [],
   "source": [
    "class StrKeyDict(collections.UserDict):\n",
    "\n",
    "    def __missing__(self, key):\n",
    "        if isinstance(key, str):\n",
    "            raise KeyError(key)\n",
    "        return self[str(key)]\n",
    "    \n",
    "    def __contains__(self, key):\n",
    "        return str(key) in self.data\n",
    "    \n",
    "    def __setitem__(self, key, item):\n",
    "        self.data[str(key)] = item"
   ]
  },
  {
   "cell_type": "markdown",
   "metadata": {},
   "source": [
    "## read-only dict"
   ]
  },
  {
   "cell_type": "code",
   "execution_count": 64,
   "metadata": {},
   "outputs": [
    {
     "name": "stdout",
     "output_type": "stream",
     "text": [
      "inital d_proxy {1: 'A'}\n",
      "d_proxy[1]: A\n",
      "TypeError: d_proxy is read-only\n",
      "d_proxy[2]: B\n"
     ]
    }
   ],
   "source": [
    "d = {1: 'A'}\n",
    "d_proxy = MappingProxyType(d)           # d_proxy is read-only\n",
    "print(\"inital d_proxy\", d_proxy)\n",
    "print(\"d_proxy[1]:\", d_proxy[1])\n",
    "\n",
    "try:\n",
    "    d_proxy[2] = 'x'\n",
    "except TypeError:\n",
    "    print(f\"TypeError: d_proxy is read-only\")\n",
    "\n",
    "d[2] = 'B'\n",
    "print(\"d_proxy[2]:\", d_proxy[2])"
   ]
  },
  {
   "cell_type": "markdown",
   "metadata": {},
   "source": [
    "## dict view"
   ]
  },
  {
   "cell_type": "code",
   "execution_count": 65,
   "metadata": {},
   "outputs": [
    {
     "name": "stdout",
     "output_type": "stream",
     "text": [
      "dict_keys(['a', 'b', 'c'])\n",
      "dict_values([10, 20, 30])\n",
      "dict_items([('a', 10), ('b', 20), ('c', 30)])\n",
      "TypeError: can't use [] to get items from a view\n"
     ]
    }
   ],
   "source": [
    "d = dict(a=10, b=20, c=30)\n",
    "values = d.values()\n",
    "print(d.keys())\n",
    "print(values)\n",
    "print(d.items())\n",
    "\n",
    "try:\n",
    "    print(values[0])\n",
    "except TypeError:\n",
    "    print(f\"TypeError: can't use [] to get items from a view\")"
   ]
  },
  {
   "cell_type": "markdown",
   "metadata": {},
   "source": [
    "## set"
   ]
  },
  {
   "cell_type": "code",
   "execution_count": 66,
   "metadata": {},
   "outputs": [
    {
     "name": "stdout",
     "output_type": "stream",
     "text": [
      "{'eggs', 'spam', 'bacon'}\n",
      "['eggs', 'spam', 'bacon']\n",
      "dict_keys(['spam', 'eggs', 'bacon'])\n",
      "e & l: {'eggs', 'bacon'}\n",
      "e.pop(): eggs apples\n"
     ]
    }
   ],
   "source": [
    "e = ['apples', 'apples', 'bacon', 'bacon', 'eggs']\n",
    "l = ['spam', 'spam', 'spam', 'eggs', 'bacon', 'eggs']\n",
    "print(set(l))\n",
    "print(list(set(l)))\n",
    "print(dict.fromkeys(l).keys())\n",
    "print(\"e & l:\", set(e) & set(l))\n",
    "print(\"e.pop():\", e.pop(), set(e).pop())"
   ]
  },
  {
   "cell_type": "markdown",
   "metadata": {},
   "source": [
    "## set comprehensions"
   ]
  },
  {
   "cell_type": "code",
   "execution_count": 67,
   "metadata": {},
   "outputs": [
    {
     "name": "stdout",
     "output_type": "stream",
     "text": [
      "{'#', '$', '+', '>', '±', '©', '§', '%', '¤', '=', '¥', '¢', '¶', '÷', '¬', '®', '£', '×', '<', '°', 'µ'}\n"
     ]
    }
   ],
   "source": [
    "print({chr(i) for i in range(32, 256) if 'SIGN' in name(chr(i), '')})"
   ]
  }
 ],
 "metadata": {
  "kernelspec": {
   "display_name": "Python 3",
   "language": "python",
   "name": "python3"
  },
  "language_info": {
   "codemirror_mode": {
    "name": "ipython",
    "version": 3
   },
   "file_extension": ".py",
   "mimetype": "text/x-python",
   "name": "python",
   "nbconvert_exporter": "python",
   "pygments_lexer": "ipython3",
   "version": "3.10.10"
  }
 },
 "nbformat": 4,
 "nbformat_minor": 2
}
