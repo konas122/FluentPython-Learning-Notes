{
 "cells": [
  {
   "cell_type": "markdown",
   "metadata": {},
   "source": [
    "# Decorators and Closures"
   ]
  },
  {
   "cell_type": "code",
   "execution_count": 10,
   "metadata": {},
   "outputs": [],
   "source": [
    "import time\n",
    "import functools\n",
    "from dis import dis"
   ]
  },
  {
   "cell_type": "markdown",
   "metadata": {},
   "source": [
    "## Decorators 101"
   ]
  },
  {
   "cell_type": "code",
   "execution_count": 11,
   "metadata": {},
   "outputs": [
    {
     "name": "stdout",
     "output_type": "stream",
     "text": [
      "running inner()\n",
      "<function deco.<locals>.inner at 0x000001D2BE364430>\n"
     ]
    }
   ],
   "source": [
    "def deco(func):\n",
    "    def inner():\n",
    "        print('running inner()')\n",
    "    return inner\n",
    "\n",
    "\n",
    "@deco\n",
    "def target():\n",
    "    print('running target()')\n",
    "\n",
    "\n",
    "target()        # invoking the decorated `target` actually runs `inner`\n",
    "print(target)\n"
   ]
  },
  {
   "cell_type": "markdown",
   "metadata": {},
   "source": [
    "function decorators are executed as soon as the model is imported"
   ]
  },
  {
   "cell_type": "code",
   "execution_count": 12,
   "metadata": {},
   "outputs": [
    {
     "name": "stdout",
     "output_type": "stream",
     "text": [
      "running register(<function f1 at 0x000001D2BE2B7AC0>)\n",
      "running register(<function f2 at 0x000001D2BE2B7760>)\n",
      "running main()\n",
      "registry -> [<function f1 at 0x000001D2BE2B7AC0>, <function f2 at 0x000001D2BE2B7760>]\n",
      "running f1()\n",
      "running f2()\n",
      "running f3()\n"
     ]
    }
   ],
   "source": [
    "registry = []  \n",
    "\n",
    "\n",
    "def register(func):  \n",
    "    print(f'running register({func})') \n",
    "    registry.append(func) \n",
    "    return func  \n",
    "\n",
    "\n",
    "@register  \n",
    "def f1():\n",
    "    print('running f1()')\n",
    "\n",
    "\n",
    "@register\n",
    "def f2():\n",
    "    print('running f2()')\n",
    "\n",
    "\n",
    "def f3():  \n",
    "    print('running f3()')\n",
    "\n",
    "\n",
    "print('running main()')\n",
    "print('registry ->', registry)\n",
    "f1()\n",
    "f2()\n",
    "f3()\n"
   ]
  },
  {
   "cell_type": "code",
   "execution_count": 13,
   "metadata": {},
   "outputs": [
    {
     "name": "stdout",
     "output_type": "stream",
     "text": [
      "3\n",
      "6\n",
      "  6           0 LOAD_GLOBAL              0 (print)\n",
      "              2 LOAD_FAST                0 (a)\n",
      "              4 CALL_FUNCTION            1\n",
      "              6 POP_TOP\n",
      "\n",
      "  7           8 LOAD_GLOBAL              0 (print)\n",
      "             10 LOAD_GLOBAL              1 (b)\n",
      "             12 CALL_FUNCTION            1\n",
      "             14 POP_TOP\n",
      "             16 LOAD_CONST               0 (None)\n",
      "             18 RETURN_VALUE\n"
     ]
    }
   ],
   "source": [
    "b = 6\n",
    "\n",
    "\n",
    "def f(a):\n",
    "    global b    # if not this statement, `print(b)` will throw error\n",
    "    print(a)\n",
    "    print(b)\n",
    "\n",
    "\n",
    "f(3)\n",
    "dis(f)\n"
   ]
  },
  {
   "cell_type": "markdown",
   "metadata": {},
   "source": [
    "## Closures"
   ]
  },
  {
   "cell_type": "code",
   "execution_count": 14,
   "metadata": {},
   "outputs": [],
   "source": [
    "def make_averager():\n",
    "    series = []                 # closure\n",
    "\n",
    "    def averager(value):\n",
    "        series.append(value)    # free variable\n",
    "        total = sum(series)\n",
    "        return total / len(series)\n",
    "\n",
    "    return averager\n"
   ]
  },
  {
   "cell_type": "markdown",
   "metadata": {},
   "source": [
    "When invoked, `make_averager` returns an `averager` function object. \n",
    "Each time an `averager` is called, it appends the passed argument to the series. \n",
    "`avg` is a inner function, `averager`. "
   ]
  },
  {
   "cell_type": "code",
   "execution_count": 15,
   "metadata": {},
   "outputs": [
    {
     "name": "stdout",
     "output_type": "stream",
     "text": [
      "10.0\n",
      "10.5\n",
      "11.0 \n",
      "\n",
      "('value', 'total')\n",
      "('series',)\n",
      "(<cell at 0x000001D2BE1FBE80: list object at 0x000001D2BE24C3C0>,)\n",
      "[10, 11, 12]\n"
     ]
    }
   ],
   "source": [
    "avg = make_averager()\n",
    "print(avg(10))\n",
    "print(avg(11))\n",
    "print(avg(12), \"\\n\")\n",
    "\n",
    "print(avg.__code__.co_varnames)\n",
    "print(avg.__code__.co_freevars)\n",
    "print(avg.__closure__)\n",
    "print(avg.__closure__[0].cell_contents)"
   ]
  },
  {
   "cell_type": "markdown",
   "metadata": {},
   "source": [
    "## The `nonlocal` Declaration"
   ]
  },
  {
   "cell_type": "code",
   "execution_count": 16,
   "metadata": {},
   "outputs": [
    {
     "name": "stdout",
     "output_type": "stream",
     "text": [
      "15\n"
     ]
    }
   ],
   "source": [
    "def outer_function():\n",
    "    x = 10\n",
    "\n",
    "    def inner_function():\n",
    "        nonlocal x\n",
    "        x += 5\n",
    "        print(x)\n",
    "\n",
    "    inner_function()\n",
    "\n",
    "\n",
    "outer_function()  # output 15"
   ]
  },
  {
   "cell_type": "code",
   "execution_count": 17,
   "metadata": {},
   "outputs": [
    {
     "name": "stdout",
     "output_type": "stream",
     "text": [
      "**************************************** Calling snooze(.123)\n",
      "[0.13056040s] snooze(0.123) -> None\n",
      "**************************************** Calling factorial(6)\n",
      "[0.00000050s] factorial(1) -> 1\n",
      "[0.00000880s] factorial(2) -> 2\n",
      "[0.00001360s] factorial(3) -> 6\n",
      "[0.00001790s] factorial(4) -> 24\n",
      "[0.00002220s] factorial(5) -> 120\n",
      "[0.00002710s] factorial(6) -> 720\n",
      "6 != 720\n"
     ]
    }
   ],
   "source": [
    "def clock(fun):\n",
    "    def clocked(*args):\n",
    "        t0 = time.perf_counter()\n",
    "        result = fun(*args)\n",
    "        elapsed = time.perf_counter() - t0\n",
    "        name = fun.__name__\n",
    "        arg_str = ', '.join(repr(arg) for arg in args)\n",
    "        print(f'[{elapsed:0.8f}s] {name}({arg_str}) -> {result!r}')\n",
    "        return result\n",
    "    return clocked\n",
    "\n",
    "\n",
    "@clock\n",
    "def snooze(seconds):\n",
    "    time.sleep(seconds)\n",
    "\n",
    "@clock\n",
    "def factorial(n):\n",
    "    return 1 if n < 2 else n * factorial(n - 1)\n",
    "\n",
    "print('*' * 40, 'Calling snooze(.123)')\n",
    "snooze(.123)\n",
    "print('*' * 40, 'Calling factorial(6)')\n",
    "print('6 !=', factorial(6))\n"
   ]
  },
  {
   "cell_type": "markdown",
   "metadata": {},
   "source": [
    "## Decorators in the Standard Library\n",
    "### @cache"
   ]
  },
  {
   "cell_type": "code",
   "execution_count": 18,
   "metadata": {},
   "outputs": [
    {
     "name": "stdout",
     "output_type": "stream",
     "text": [
      "[0.00000060s] fibonacci(0) -> 0\n",
      "[0.00000080s] fibonacci(1) -> 1\n",
      "[0.00032490s] fibonacci(2) -> 1\n",
      "[0.00000070s] fibonacci(3) -> 2\n",
      "[0.00034110s] fibonacci(4) -> 3\n",
      "[0.00000050s] fibonacci(5) -> 5\n",
      "[0.00035280s] fibonacci(6) -> 8\n",
      "\n"
     ]
    }
   ],
   "source": [
    "@functools.cache\n",
    "@clock              # `@cache` is applied on the function returned by `@clock`\n",
    "def fibonacci(n):\n",
    "    if n < 2:\n",
    "        return n\n",
    "    return fibonacci(n - 2) + fibonacci(n - 1)\n",
    "\n",
    "\n",
    "fibonacci(6)"
   ]
  },
  {
   "cell_type": "markdown",
   "metadata": {},
   "source": [
    "### @lru_cache"
   ]
  },
  {
   "cell_type": "code",
   "execution_count": 24,
   "metadata": {},
   "outputs": [
    {
     "name": "stdout",
     "output_type": "stream",
     "text": [
      "[0.00000090s] fibonacci(0) -> 0\n",
      "[0.00000080s] fibonacci(1) -> 1\n",
      "[0.00048810s] fibonacci(2) -> 1\n",
      "[0.00000030s] fibonacci(1) -> 1\n",
      "[0.00000040s] fibonacci(0) -> 0\n",
      "[0.00000030s] fibonacci(1) -> 1\n",
      "[0.00001060s] fibonacci(2) -> 1\n",
      "[0.00002060s] fibonacci(3) -> 2\n",
      "[0.00051970s] fibonacci(4) -> 3\n",
      "[0.00000030s] fibonacci(1) -> 1\n",
      "[0.00000020s] fibonacci(0) -> 0\n",
      "[0.00000020s] fibonacci(1) -> 1\n",
      "[0.00000990s] fibonacci(2) -> 1\n",
      "[0.00002050s] fibonacci(3) -> 2\n",
      "[0.00000020s] fibonacci(0) -> 0\n",
      "[0.00000020s] fibonacci(1) -> 1\n",
      "[0.00001000s] fibonacci(2) -> 1\n",
      "[0.00000030s] fibonacci(1) -> 1\n",
      "[0.00000090s] fibonacci(0) -> 0\n",
      "[0.00000020s] fibonacci(1) -> 1\n",
      "[0.00001200s] fibonacci(2) -> 1\n",
      "[0.00002260s] fibonacci(3) -> 2\n",
      "[0.00004350s] fibonacci(4) -> 3\n",
      "[0.00007420s] fibonacci(5) -> 5\n",
      "[0.00060530s] fibonacci(6) -> 8\n",
      "\n"
     ]
    }
   ],
   "source": [
    "functools.lru_cache(maxsize=2**5, typed=False)\n",
    "@clock              \n",
    "def fibonacci(n):\n",
    "    if n < 2:\n",
    "        return n\n",
    "    return fibonacci(n - 2) + fibonacci(n - 1)\n",
    "\n",
    "\n",
    "fibonacci(6)"
   ]
  },
  {
   "cell_type": "code",
   "execution_count": 28,
   "metadata": {},
   "outputs": [
    {
     "name": "stdout",
     "output_type": "stream",
     "text": [
      "<pre>{1, 2, 3}</pre>\n",
      "<pre>[&#x27;alpha&#x27;, 66, {1, 2, 3}]</pre>\n",
      "<pre>&lt;built-in function abs&gt;</pre>\n",
      "<pre>42</pre>\n",
      "<pre>True</pre>\n",
      "<pre>0.6666666666666666</pre>\n",
      "<pre>Decimal(&#x27;0.02380953&#x27;)</pre>\n"
     ]
    }
   ],
   "source": [
    "import html\n",
    "import decimal\n",
    "\n",
    "\n",
    "def htmlize(obj):\n",
    "    content = html.escape(repr(obj))\n",
    "    return f'<pre>{content}</pre>'\n",
    "\n",
    "\n",
    "print(htmlize({1, 2, 3}))\n",
    "print(htmlize(['alpha', 66, {3, 2, 1}]))\n",
    "print(htmlize(abs))\n",
    "print(htmlize(42))\n",
    "print(htmlize(True))\n",
    "print(htmlize(2 / 3))\n",
    "print(htmlize(decimal.Decimal('0.02380953')))\n"
   ]
  },
  {
   "cell_type": "markdown",
   "metadata": {},
   "source": [
    "### @singledispatch\n",
    "**Overloading**"
   ]
  },
  {
   "cell_type": "code",
   "execution_count": 29,
   "metadata": {},
   "outputs": [
    {
     "name": "stdout",
     "output_type": "stream",
     "text": [
      "<pre>{1, 2, 3}</pre>\n",
      "<ul>\n",
      "<li><p>alpha</p></li>\n",
      "<li><pre>66 (0x42)</pre></li>\n",
      "<li><pre>{1, 2, 3}</pre></li>\n",
      "</ul>\n",
      "<pre>&lt;built-in function abs&gt;</pre>\n",
      "<pre>42 (0x2a)</pre>\n",
      "<pre>True</pre>\n",
      "<pre>0.6666666666666666 (2/3)</pre>\n",
      "<pre>0.02380953 (1/42)</pre>\n"
     ]
    }
   ],
   "source": [
    "from functools import singledispatch\n",
    "from collections import abc\n",
    "import fractions\n",
    "import numbers\n",
    "\n",
    "@singledispatch  \n",
    "def htmlize(obj: object) -> str:\n",
    "    content = html.escape(repr(obj))\n",
    "    return f'<pre>{content}</pre>'\n",
    "\n",
    "@htmlize.register  \n",
    "def _(text: str) -> str:  \n",
    "    content = html.escape(text).replace('\\n', '<br/>\\n')\n",
    "    return f'<p>{content}</p>'\n",
    "\n",
    "@htmlize.register  \n",
    "def _(seq: abc.Sequence) -> str:\n",
    "    inner = '</li>\\n<li>'.join(htmlize(item) for item in seq)\n",
    "    return '<ul>\\n<li>' + inner + '</li>\\n</ul>'\n",
    "\n",
    "@htmlize.register  \n",
    "def _(n: numbers.Integral) -> str:\n",
    "    return f'<pre>{n} (0x{n:x})</pre>'\n",
    "\n",
    "@htmlize.register  \n",
    "def _(n: bool) -> str:\n",
    "    return f'<pre>{n}</pre>'\n",
    "\n",
    "@htmlize.register(fractions.Fraction) \n",
    "def _(x) -> str:\n",
    "    frac = fractions.Fraction(x)\n",
    "    return f'<pre>{frac.numerator}/{frac.denominator}</pre>'\n",
    "\n",
    "@htmlize.register(decimal.Decimal) \n",
    "@htmlize.register(float)\n",
    "def _(x) -> str:\n",
    "    frac = fractions.Fraction(x).limit_denominator()\n",
    "    return f'<pre>{x} ({frac.numerator}/{frac.denominator})</pre>'\n",
    "\n",
    "\n",
    "print(htmlize({1, 2, 3}))\n",
    "print(htmlize(['alpha', 66, {3, 2, 1}]))\n",
    "print(htmlize(abs))\n",
    "print(htmlize(42))\n",
    "print(htmlize(True))\n",
    "print(htmlize(2 / 3))\n",
    "print(htmlize(decimal.Decimal('0.02380953')))"
   ]
  },
  {
   "cell_type": "markdown",
   "metadata": {},
   "source": [
    "## Parameterized Decorators\n",
    "Now `registry` is a `set`, so adding and removing functions is faster. "
   ]
  },
  {
   "cell_type": "code",
   "execution_count": 10,
   "metadata": {},
   "outputs": [
    {
     "name": "stdout",
     "output_type": "stream",
     "text": [
      "running register(active=False)->decorate(<function f1 at 0x000001F8A03B0430>)\n",
      "running register(active=True)->decorate(<function f2 at 0x000001F8A0310F70>)\n",
      "running f1()\n",
      "running f2()\n",
      "running f3()\n",
      "{<function f2 at 0x000001F8A0310F70>} \n",
      "\n",
      "running register(active=True)->decorate(<function f3 at 0x000001F8A0313010>)\n",
      "\n",
      "running register(active=False)->decorate(<function f2 at 0x000001F8A0310F70>)\n"
     ]
    },
    {
     "data": {
      "text/plain": [
       "<function __main__.f2()>"
      ]
     },
     "execution_count": 10,
     "metadata": {},
     "output_type": "execute_result"
    }
   ],
   "source": [
    "registry = set() \n",
    "\n",
    "\n",
    "def register(active=True):  \n",
    "    def decorator(func):\n",
    "        print(f'running register'\n",
    "              f'(active={active})->decorate({func})') \n",
    "        if active:\n",
    "            registry.add(func) \n",
    "        else:\n",
    "            registry.discard(func)\n",
    "        return func  \n",
    "    return decorator\n",
    "\n",
    "\n",
    "@register(active=False) \n",
    "def f1():\n",
    "    print('running f1()')\n",
    "\n",
    "\n",
    "@register()\n",
    "def f2():\n",
    "    print('running f2()')\n",
    "\n",
    "\n",
    "def f3():  \n",
    "    print('running f3()')\n",
    "\n",
    "\n",
    "f1()\n",
    "f2()\n",
    "f3()\n",
    "\n",
    "print(registry, \"\\n\")\n",
    "register()(f3)\n",
    "\n",
    "print()\n",
    "register(active=False)(f2)\n"
   ]
  },
  {
   "cell_type": "markdown",
   "metadata": {},
   "source": [
    "Using `**locals()` below allows any local variable of `clocked` to be referenced in the `fmt`. "
   ]
  },
  {
   "cell_type": "code",
   "execution_count": 9,
   "metadata": {},
   "outputs": [
    {
     "name": "stdout",
     "output_type": "stream",
     "text": [
      "[0.12544630s] snooze1(0.123) -> None\n",
      "[0.12433910s] snooze1(0.123) -> None\n",
      "[0.12558620s] snooze1(0.123) -> None\n",
      "snooze2: 0.12385730000005424s\n",
      "snooze2: 0.12471880000020974s\n",
      "snooze2: 0.12444709999999759s\n"
     ]
    }
   ],
   "source": [
    "import time\n",
    "\n",
    "DEFAULT_FMT = '[{elapsed:0.8f}s] {name}({args}) -> {result}'\n",
    "\n",
    "\n",
    "def clock(fmt=DEFAULT_FMT):\n",
    "    def decorate(func):\n",
    "        def clocked(*_args):\n",
    "            t0 = time.perf_counter()\n",
    "            _result = func(*_args)\n",
    "            elapsed = time.perf_counter() - t0\n",
    "            name = func.__name__\n",
    "            args = ', '.join(repr(arg) for arg in _args)\n",
    "            result = repr(_result)\n",
    "            print(fmt.format(**locals()))\n",
    "            return _result\n",
    "        return clocked\n",
    "    return decorate\n",
    "\n",
    "\n",
    "@clock()        \n",
    "def snooze1(second):\n",
    "    time.sleep(second)\n",
    "\n",
    "\n",
    "@clock('{name}: {elapsed}s')\n",
    "def snooze2(second):\n",
    "    time.sleep(second)\n",
    "\n",
    "for i in range(3):\n",
    "    snooze1(.123)\n",
    "for i in range(3):\n",
    "    snooze2(.123)"
   ]
  },
  {
   "cell_type": "markdown",
   "metadata": {},
   "source": [
    "### A Class-Based Decorator"
   ]
  },
  {
   "cell_type": "code",
   "execution_count": 12,
   "metadata": {},
   "outputs": [
    {
     "name": "stdout",
     "output_type": "stream",
     "text": [
      "[0.12692720s] snooze1(0.123) -> None\n",
      "[0.13574420s] snooze1(0.123) -> None\n",
      "[0.12297400s] snooze1(0.123) -> None\n",
      "snooze2: 0.12984659999983705s\n",
      "snooze2: 0.12850049999997282s\n",
      "snooze2: 0.12944830000014917s\n"
     ]
    }
   ],
   "source": [
    "import time\n",
    "\n",
    "\n",
    "DEFAULT_FMT = '[{elapsed:0.8f}s] {name}({args}) -> {result}'\n",
    "\n",
    "\n",
    "class clock_1:\n",
    "\n",
    "    def __init__(self, fmt = DEFAULT_FMT):\n",
    "        self.fmt = fmt\n",
    "    \n",
    "    def __call__(self, func):\n",
    "        def clocked(*_args):\n",
    "            t0 = time.perf_counter()\n",
    "            _result = func(*_args)\n",
    "            elapsed = time.perf_counter() - t0\n",
    "            name = func.__name__\n",
    "            args = ', '.join(repr(arg) for arg in _args)\n",
    "            result = repr(_result)\n",
    "            print(self.fmt.format(**locals()))\n",
    "            return _result\n",
    "        return clocked\n",
    "\n",
    "\n",
    "@clock_1()        \n",
    "def snooze1(second):\n",
    "    time.sleep(second)\n",
    "\n",
    "\n",
    "@clock_1('{name}: {elapsed}s')\n",
    "def snooze2(second):\n",
    "    time.sleep(second)\n",
    "\n",
    "for i in range(3):\n",
    "    snooze1(.123)\n",
    "for i in range(3):\n",
    "    snooze2(.123)"
   ]
  }
 ],
 "metadata": {
  "kernelspec": {
   "display_name": "Python 3",
   "language": "python",
   "name": "python3"
  },
  "language_info": {
   "codemirror_mode": {
    "name": "ipython",
    "version": 3
   },
   "file_extension": ".py",
   "mimetype": "text/x-python",
   "name": "python",
   "nbconvert_exporter": "python",
   "pygments_lexer": "ipython3",
   "version": "3.10.10"
  },
  "orig_nbformat": 4
 },
 "nbformat": 4,
 "nbformat_minor": 2
}
