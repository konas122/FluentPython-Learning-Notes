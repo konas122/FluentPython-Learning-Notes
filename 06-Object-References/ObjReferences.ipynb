{
 "cells": [
  {
   "cell_type": "markdown",
   "metadata": {},
   "source": [
    "# Object References, Mutability, and Recycling"
   ]
  },
  {
   "cell_type": "code",
   "execution_count": 16,
   "metadata": {},
   "outputs": [],
   "source": [
    "import weakref"
   ]
  },
  {
   "cell_type": "code",
   "execution_count": 17,
   "metadata": {},
   "outputs": [],
   "source": [
    "a = [1, 2, 3]\n",
    "b = a"
   ]
  },
  {
   "cell_type": "markdown",
   "metadata": {},
   "source": [
    "Here the `b = a` statement does not copy the contents of box `a` into box `b`. \n",
    "It attaches the label `b` to the object that already has the label `a`. "
   ]
  },
  {
   "cell_type": "code",
   "execution_count": 18,
   "metadata": {},
   "outputs": [
    {
     "name": "stdout",
     "output_type": "stream",
     "text": [
      "a: [1, 2, 3, 4]\n",
      "b: [1, 2, 3, 4]\n",
      "c: [1, 2, 3, 4]\n",
      "a is b: True\n",
      "b is c: False\n",
      "b == c: True\n",
      "a id: 1896273691072\n",
      "b id: 1896273691072\n",
      "c id: 1896267872256\n"
     ]
    }
   ],
   "source": [
    "a.append(4)\n",
    "c = [1, 2, 3, 4]\n",
    "print(f'a: {a}\\nb: {b}\\nc: {c}')\n",
    "print(\"a is b:\", a is b)\n",
    "print(\"b is c:\", b is c)\n",
    "print(\"b == c:\", b == c)\n",
    "print(f'a id: {id(a)}\\nb id: {id(b)}\\nc id: {id(c)}')"
   ]
  },
  {
   "cell_type": "code",
   "execution_count": 19,
   "metadata": {},
   "outputs": [
    {
     "name": "stdout",
     "output_type": "stream",
     "text": [
      "Gizmo id: 1896272476336\n",
      "Gizmo id: 1896272773616\n",
      "x is y: False\n",
      "['__class__', '__delattr__', '__dict__', '__dir__', '__doc__', '__eq__', '__format__', '__ge__', '__getattribute__', '__gt__', '__hash__', '__init__', '__init_subclass__', '__le__', '__lt__', '__module__', '__ne__', '__new__', '__reduce__', '__reduce_ex__', '__repr__', '__setattr__', '__sizeof__', '__str__', '__subclasshook__', '__weakref__']\n"
     ]
    }
   ],
   "source": [
    "class Gizmo:\n",
    "    def __init__(self):\n",
    "        print(f'Gizmo id: {id(self)}')\n",
    "\n",
    "\n",
    "x = Gizmo()\n",
    "y = Gizmo()\n",
    "print(\"x is y:\", x is y)\n",
    "print(dir(Gizmo))"
   ]
  },
  {
   "cell_type": "code",
   "execution_count": 20,
   "metadata": {},
   "outputs": [
    {
     "name": "stdout",
     "output_type": "stream",
     "text": [
      "t1 is t2: False\n",
      "t1 == t2: True \n",
      "\n",
      "1896273501568\n",
      "1896273501568 \n",
      "\n",
      "t1 == t2: False\n"
     ]
    }
   ],
   "source": [
    "t1 = (1, 2, [30, 40])\n",
    "t2 = (1, 2, [30, 40])\n",
    "print(\"t1 is t2:\", t1 is t2)\n",
    "print(\"t1 == t2:\", t1 == t2, \"\\n\")\n",
    "\n",
    "s = id(t1[-1])\n",
    "print(s)\n",
    "t1[-1].append(99)\n",
    "print(id(t1[-1]), \"\\n\")\n",
    "print(\"t1 == t2:\", t1 == t2)"
   ]
  },
  {
   "cell_type": "code",
   "execution_count": 21,
   "metadata": {},
   "outputs": [
    {
     "name": "stdout",
     "output_type": "stream",
     "text": [
      "l2: [3, [55, 44], (7, 8, 9)]\n",
      "l3: [3, [55, 44], (7, 8, 9)]\n",
      "l2 == l1: True\n",
      "l3 == l2: True\n",
      "l2 is l1: False\n",
      "l3 is l1: False\n"
     ]
    }
   ],
   "source": [
    "l1 = [3, [55, 44], (7, 8, 9)]\n",
    "l2 = list(l1)   # `l2` is a copy of `l1`\n",
    "l3 = l1[:]      # `[:]` statement else makes copy\n",
    "print(\"l2:\", l2)\n",
    "print(\"l3:\", l3)\n",
    "print(\"l2 == l1:\", l2 == l1)\n",
    "print(\"l3 == l2:\", l2 == l3)\n",
    "print(\"l2 is l1:\", l1 is l2)\n",
    "print(\"l3 is l1:\", l3 is l1)"
   ]
  },
  {
   "cell_type": "code",
   "execution_count": 22,
   "metadata": {},
   "outputs": [
    {
     "name": "stdout",
     "output_type": "stream",
     "text": [
      "l1[1] is l2[1]: True\n",
      "l1[2] is l1[2]: True\n",
      "l1: [3, [66, 55, 44], (7, 8, 9)]\n",
      "l2: [3, [66, 55, 44], (7, 8, 9)] \n",
      "\n",
      "l1: [3, [66, 55, 44], (7, 8, 9), 100]\n",
      "l2: [3, [66, 55, 44], (7, 8, 9)] \n",
      "\n",
      "l1: [3, [66, 44], (7, 8, 9), 100]\n",
      "l2: [3, [66, 44], (7, 8, 9)] \n",
      "\n",
      "l1[1] is l2[1]: True\n",
      "l1[2] is l1[2]: False\n",
      "l1: [3, [66, 44, 33, 22], (7, 8, 9), 100]\n",
      "l2: [3, [66, 44, 33, 22], (7, 8, 9, 10, 11)]\n"
     ]
    }
   ],
   "source": [
    "l1 = [3, [66, 55, 44], (7, 8, 9)]\n",
    "l2 = list(l1)\n",
    "print(\"l1[1] is l2[1]:\", l1[1] is l2[1])\n",
    "print(\"l1[2] is l1[2]:\", l1[2] is l2[2])\n",
    "print(\"l1:\", l1)\n",
    "print(\"l2:\", l2, \"\\n\")\n",
    "\n",
    "l1.append(100)\n",
    "print(\"l1:\", l1)\n",
    "print(\"l2:\", l2, \"\\n\")\n",
    "\n",
    "l1[1].remove(55)\n",
    "print(\"l1:\", l1)\n",
    "print(\"l2:\", l2, \"\\n\")\n",
    "\n",
    "l1[1] += [33, 22]  # `l1[1]` is a list, a mutable object. The operator `+=` changes the list in place\n",
    "l2[2] += (10, 11)  # `l2[2]` is a tuple, an immutable object. This statement will create another object for `l2`\n",
    "print(\"l1[1] is l2[1]:\", l1[1] is l2[1])\n",
    "print(\"l1[2] is l1[2]:\", l1[2] is l2[2])\n",
    "print(\"l1:\", l1)\n",
    "print(\"l2:\", l2)"
   ]
  },
  {
   "cell_type": "code",
   "execution_count": 23,
   "metadata": {},
   "outputs": [
    {
     "name": "stdout",
     "output_type": "stream",
     "text": [
      "1 2\n",
      "[1, 2, 3, 4] [3, 4]\n",
      "(10, 20) (30, 40)\n"
     ]
    }
   ],
   "source": [
    "def f(a, b):\n",
    "    a += b\n",
    "    return a\n",
    "\n",
    "\n",
    "x, y = 1, 2\n",
    "f(x, y)  # number `x` is unchanged\n",
    "print(x, y)\n",
    "\n",
    "a, b = [1, 2], [3, 4]\n",
    "f(a, b)  # list `a` is changed\n",
    "print(a, b)\n",
    "\n",
    "t, u = (10, 20), (30, 40)\n",
    "f(t, u)  # tuple `t` is unchanged\n",
    "print(t, u)"
   ]
  },
  {
   "cell_type": "markdown",
   "metadata": {},
   "source": [
    "here is a good example, when passing a mutable object to a method, or the default parameter is a mutable object"
   ]
  },
  {
   "cell_type": "code",
   "execution_count": 24,
   "metadata": {},
   "outputs": [],
   "source": [
    "class TwilightBus:\n",
    "\n",
    "    def __init__(self, passengers=None):\n",
    "        if passengers is None:\n",
    "            self.passengers = []\n",
    "        else:\n",
    "            self.passengers = list(passengers)\n",
    "            # make a copy of the list, or convert it to a list if it's not one"
   ]
  },
  {
   "cell_type": "code",
   "execution_count": 25,
   "metadata": {},
   "outputs": [
    {
     "name": "stdout",
     "output_type": "stream",
     "text": [
      "[1, 2]\n"
     ]
    }
   ],
   "source": [
    "a = [1, 2]\n",
    "b = a\n",
    "del a\n",
    "print(b)    # [1, 2] was not affected"
   ]
  },
  {
   "cell_type": "markdown",
   "metadata": {},
   "source": [
    "watching the end of an object when no more references point to it"
   ]
  },
  {
   "cell_type": "code",
   "execution_count": 26,
   "metadata": {},
   "outputs": [
    {
     "name": "stdout",
     "output_type": "stream",
     "text": [
      "True\n",
      "True\n",
      "Goodbye! \n",
      "False\n"
     ]
    }
   ],
   "source": [
    "s1 = {1, 2, 3}\n",
    "s2 = s1\n",
    "\n",
    "\n",
    "def bye():\n",
    "    print('Goodbye! ')\n",
    "\n",
    "ender = weakref.finalize(s1, bye)\n",
    "print(ender.alive)\n",
    "del s1          # the {1, 2, 3} object is not destroyed\n",
    "print(ender.alive)\n",
    "s2 = 'spam'     # the {1, 2, 3} object is destroyed\n",
    "print(ender.alive)"
   ]
  },
  {
   "cell_type": "code",
   "execution_count": 27,
   "metadata": {},
   "outputs": [
    {
     "name": "stdout",
     "output_type": "stream",
     "text": [
      "t1 is t2: True\n",
      "t1 is t3: True\n",
      "t1 is t4: True\n",
      "t1 is t5: False\n"
     ]
    }
   ],
   "source": [
    "t1 = (1, 2, 3)\n",
    "t2 = t1\n",
    "print(\"t1 is t2:\", t1 is t2)\n",
    "t3 = tuple(t1)  # unlike the list() function\n",
    "print(\"t1 is t3:\", t1 is t3)\n",
    "t4 = t1[:]\n",
    "print(\"t1 is t4:\", t1 is t4)\n",
    "\n",
    "t5 = (1, 2, 3)\n",
    "print(\"t1 is t5:\", t5 is t1)"
   ]
  },
  {
   "cell_type": "code",
   "execution_count": 28,
   "metadata": {},
   "outputs": [
    {
     "name": "stdout",
     "output_type": "stream",
     "text": [
      "s1 is s2: True\n"
     ]
    }
   ],
   "source": [
    "s1 = 'ABc'\n",
    "s2 = 'ABc'\n",
    "print(\"s1 is s2:\", s1 is s2)"
   ]
  },
  {
   "cell_type": "code",
   "execution_count": 29,
   "metadata": {},
   "outputs": [
    {
     "name": "stdout",
     "output_type": "stream",
     "text": [
      "2\n",
      "2\n"
     ]
    }
   ],
   "source": [
    "a = 2\n",
    "\n",
    "def f():\n",
    "    print(a)\n",
    "\n",
    "f()         # print 2\n",
    "print(a)    # print 2"
   ]
  },
  {
   "cell_type": "code",
   "execution_count": 30,
   "metadata": {},
   "outputs": [
    {
     "name": "stdout",
     "output_type": "stream",
     "text": [
      "1\n",
      "2\n"
     ]
    }
   ],
   "source": [
    "a = 2\n",
    "\n",
    "def f():\n",
    "    a = 1\n",
    "    print(a)\n",
    "\n",
    "f()         # print 1\n",
    "print(a)    # print 2"
   ]
  }
 ],
 "metadata": {
  "kernelspec": {
   "display_name": "Python 3",
   "language": "python",
   "name": "python3"
  },
  "language_info": {
   "codemirror_mode": {
    "name": "ipython",
    "version": 3
   },
   "file_extension": ".py",
   "mimetype": "text/x-python",
   "name": "python",
   "nbconvert_exporter": "python",
   "pygments_lexer": "ipython3",
   "version": "3.10.10"
  },
  "orig_nbformat": 4
 },
 "nbformat": 4,
 "nbformat_minor": 2
}
