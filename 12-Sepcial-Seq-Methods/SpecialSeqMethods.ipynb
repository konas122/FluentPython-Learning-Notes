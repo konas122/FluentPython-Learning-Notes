{
 "cells": [
  {
   "cell_type": "markdown",
   "metadata": {},
   "source": [
    "# Special Methods for Sequences"
   ]
  },
  {
   "cell_type": "markdown",
   "metadata": {},
   "source": [
    "## Dynamic Attribute Access\n",
    "\n",
    "\n",
    "```python\n",
    "__match_args__ = ('x', 'y', 'z', 't')\n",
    "\n",
    "def __getattr__(self, name):\n",
    "    cls = type(self)\n",
    "    try:\n",
    "        pos = cls.__match_args__.index(name)\n",
    "    except ValueError:\n",
    "        pos = -1\n",
    "    if 0 <= pos < len(self._components):\n",
    "        return self._components[pos]\n",
    "    msg = f'{cls.__name__!r} object has no attribute {name!r}'\n",
    "    raise AttributeError(msg)\n",
    "\n",
    "def __setattr__(self, name, value):\n",
    "        cls = type(self)\n",
    "        if len(name) == 1:  \n",
    "            if name in cls.__match_args__:  \n",
    "                error = 'readonly attribute {attr_name!r}'\n",
    "            elif name.islower():  \n",
    "                error = \"can't set attributes 'a' to 'z' in {cls_name!r}\"\n",
    "            else:\n",
    "                error = ''  \n",
    "            if error:  \n",
    "                msg = error.format(cls_name=cls.__name__, attr_name=name)\n",
    "                raise AttributeError(msg)\n",
    "        super().__setattr__(name, value)    # Defualt case: call `__setattr__` on superclass for standard behavior. \n",
    "```\n",
    "\n",
    "then\n",
    "\n",
    "\n",
    "```python\n",
    ">>> v = Vector(range(5))\n",
    ">>> v\n",
    "Vector([0.0, 1.0, 2.0, 3.0, 4.0])\n",
    ">>> v.x\n",
    "0.0\n",
    ">>> v.x = 10\n",
    "Vector([10.0, 1.0, 2.0, 3.0, 4.0])\n",
    "\n",
    "```"
   ]
  },
  {
   "cell_type": "markdown",
   "metadata": {},
   "source": [
    "## Hashing and a Faster `==`"
   ]
  },
  {
   "cell_type": "markdown",
   "metadata": {},
   "source": [
    "```python\n",
    "def __hash__(self):\n",
    "    hashes = map(hash, self._components)\n",
    "    return functools.reduce(operator.xor, hashes)\n",
    "```"
   ]
  },
  {
   "cell_type": "markdown",
   "metadata": {},
   "source": [
    "```python\n",
    "def __eq__(self, other):\n",
    "    return len(self) == len(other) and all(a == b for a, b in zip(self, other))\n",
    "```"
   ]
  },
  {
   "cell_type": "markdown",
   "metadata": {},
   "source": [
    "## The Awesome `zip`"
   ]
  },
  {
   "cell_type": "code",
   "execution_count": 1,
   "metadata": {},
   "outputs": [
    {
     "data": {
      "text/plain": [
       "<zip at 0x150a55f3dc0>"
      ]
     },
     "execution_count": 1,
     "metadata": {},
     "output_type": "execute_result"
    }
   ],
   "source": [
    "zip(range(3), 'ABC')"
   ]
  },
  {
   "cell_type": "code",
   "execution_count": 2,
   "metadata": {},
   "outputs": [
    {
     "data": {
      "text/plain": [
       "[(0, 'A'), (1, 'B'), (2, 'C')]"
      ]
     },
     "execution_count": 2,
     "metadata": {},
     "output_type": "execute_result"
    }
   ],
   "source": [
    "list(zip(range(3), 'ABC'))"
   ]
  },
  {
   "cell_type": "code",
   "execution_count": 4,
   "metadata": {},
   "outputs": [
    {
     "data": {
      "text/plain": [
       "[(0, 'A', 0.0), (1, 'B', 1.1), (2, 'C', 2.2)]"
      ]
     },
     "execution_count": 4,
     "metadata": {},
     "output_type": "execute_result"
    }
   ],
   "source": [
    "list(zip(range(3), 'ABC', [0.0, 1.1, 2.2, 3.3]))"
   ]
  },
  {
   "cell_type": "code",
   "execution_count": 3,
   "metadata": {},
   "outputs": [
    {
     "data": {
      "text/plain": [
       "[(0, 'A', 0.0), (1, 'B', 1.1), (2, 'C', 2.2), (-1, -1, 3.3)]"
      ]
     },
     "execution_count": 3,
     "metadata": {},
     "output_type": "execute_result"
    }
   ],
   "source": [
    "from itertools import zip_longest\n",
    "\n",
    "list(zip_longest(range(3), 'ABC', [0.0, 1.1, 2.2, 3.3], fillvalue=-1))"
   ]
  },
  {
   "cell_type": "code",
   "execution_count": 6,
   "metadata": {},
   "outputs": [
    {
     "name": "stdout",
     "output_type": "stream",
     "text": [
      "a: [(1, 4), (2, 5), (3, 6)]\n",
      "b: [(1, 3, 5), (2, 4, 6)]\n"
     ]
    }
   ],
   "source": [
    "a = [(1, 2, 3), (4, 5, 6)]\n",
    "b = [(1, 2), (3, 4), (5, 6)]\n",
    "\n",
    "print(\"a:\", list(zip(*a)))\n",
    "print(\"b:\", list(zip(*b)))"
   ]
  }
 ],
 "metadata": {
  "kernelspec": {
   "display_name": "Python 3",
   "language": "python",
   "name": "python3"
  },
  "language_info": {
   "codemirror_mode": {
    "name": "ipython",
    "version": 3
   },
   "file_extension": ".py",
   "mimetype": "text/x-python",
   "name": "python",
   "nbconvert_exporter": "python",
   "pygments_lexer": "ipython3",
   "version": "3.10.10"
  },
  "orig_nbformat": 4
 },
 "nbformat": 4,
 "nbformat_minor": 2
}
