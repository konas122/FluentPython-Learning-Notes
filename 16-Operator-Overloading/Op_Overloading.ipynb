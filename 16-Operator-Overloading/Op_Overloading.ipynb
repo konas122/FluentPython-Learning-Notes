{
 "cells": [
  {
   "cell_type": "markdown",
   "metadata": {},
   "source": [
    "# Operator Overloading"
   ]
  },
  {
   "cell_type": "markdown",
   "metadata": {},
   "source": [
    "## Unary Operators"
   ]
  },
  {
   "cell_type": "markdown",
   "metadata": {},
   "source": [
    "`__neg__`"
   ]
  },
  {
   "cell_type": "code",
   "execution_count": 1,
   "metadata": {},
   "outputs": [
    {
     "data": {
      "text/plain": [
       "2"
      ]
     },
     "execution_count": 1,
     "metadata": {},
     "output_type": "execute_result"
    }
   ],
   "source": [
    "x = -2\n",
    "-x"
   ]
  },
  {
   "cell_type": "markdown",
   "metadata": {},
   "source": [
    "`__pos__`"
   ]
  },
  {
   "cell_type": "code",
   "execution_count": 2,
   "metadata": {},
   "outputs": [
    {
     "data": {
      "text/plain": [
       "-2"
      ]
     },
     "execution_count": 2,
     "metadata": {},
     "output_type": "execute_result"
    }
   ],
   "source": [
    "+x"
   ]
  },
  {
   "cell_type": "markdown",
   "metadata": {},
   "source": [
    "`__invert__`\n",
    "\n",
    "`~x == -(x + 1)`"
   ]
  },
  {
   "cell_type": "code",
   "execution_count": 3,
   "metadata": {},
   "outputs": [
    {
     "data": {
      "text/plain": [
       "1"
      ]
     },
     "execution_count": 3,
     "metadata": {},
     "output_type": "execute_result"
    }
   ],
   "source": [
    "~x"
   ]
  },
  {
   "cell_type": "markdown",
   "metadata": {},
   "source": [
    "`Vector.py`: unary operators\n",
    "```python\n",
    "def __abs__(self):\n",
    "    return math.hypot(*self)\n",
    "\n",
    "def __neg__(self):\n",
    "    return Vector(-x for x in self)\n",
    "\n",
    "def __pos__(self):\n",
    "    return Vector(self)\n",
    "````"
   ]
  },
  {
   "cell_type": "markdown",
   "metadata": {},
   "source": [
    "## When `x` and `+x` Are Not Equal"
   ]
  },
  {
   "cell_type": "code",
   "execution_count": 4,
   "metadata": {},
   "outputs": [
    {
     "data": {
      "text/plain": [
       "Decimal('0.3333333333333333333333333333333333333333')"
      ]
     },
     "execution_count": 4,
     "metadata": {},
     "output_type": "execute_result"
    }
   ],
   "source": [
    "import decimal\n",
    "\n",
    "ctx = decimal.getcontext()\n",
    "ctx.prec = 40\n",
    "\n",
    "one_third = decimal.Decimal('1') / decimal.Decimal('3')\n",
    "one_third"
   ]
  },
  {
   "cell_type": "code",
   "execution_count": 5,
   "metadata": {},
   "outputs": [
    {
     "data": {
      "text/plain": [
       "True"
      ]
     },
     "execution_count": 5,
     "metadata": {},
     "output_type": "execute_result"
    }
   ],
   "source": [
    "one_third == +one_third"
   ]
  },
  {
   "cell_type": "code",
   "execution_count": 6,
   "metadata": {},
   "outputs": [
    {
     "data": {
      "text/plain": [
       "False"
      ]
     },
     "execution_count": 6,
     "metadata": {},
     "output_type": "execute_result"
    }
   ],
   "source": [
    "ctx.prec = 28\n",
    "one_third == +one_third"
   ]
  },
  {
   "cell_type": "code",
   "execution_count": 7,
   "metadata": {},
   "outputs": [
    {
     "data": {
      "text/plain": [
       "Decimal('0.3333333333333333333333333333')"
      ]
     },
     "execution_count": 7,
     "metadata": {},
     "output_type": "execute_result"
    }
   ],
   "source": [
    "+one_third"
   ]
  },
  {
   "cell_type": "code",
   "execution_count": 11,
   "metadata": {},
   "outputs": [
    {
     "data": {
      "text/plain": [
       "Counter({'a': 3,\n",
       "         'b': 2,\n",
       "         'f': 2,\n",
       "         's': 1,\n",
       "         ';': 1,\n",
       "         'l': 1,\n",
       "         'c': 1,\n",
       "         'm': 1,\n",
       "         'd': 0,\n",
       "         'r': -3})"
      ]
     },
     "execution_count": 11,
     "metadata": {},
     "output_type": "execute_result"
    }
   ],
   "source": [
    "from collections import Counter\n",
    "\n",
    "\n",
    "ct = Counter('abrasdf;lcadfbm')\n",
    "ct['r'] = -3\n",
    "ct['d'] = 0\n",
    "ct"
   ]
  },
  {
   "cell_type": "code",
   "execution_count": 12,
   "metadata": {},
   "outputs": [
    {
     "data": {
      "text/plain": [
       "False"
      ]
     },
     "execution_count": 12,
     "metadata": {},
     "output_type": "execute_result"
    }
   ],
   "source": [
    "ct == +ct"
   ]
  },
  {
   "cell_type": "code",
   "execution_count": 9,
   "metadata": {},
   "outputs": [
    {
     "data": {
      "text/plain": [
       "Counter({'a': 3,\n",
       "         'b': 2,\n",
       "         'd': 2,\n",
       "         'f': 2,\n",
       "         'r': 1,\n",
       "         's': 1,\n",
       "         ';': 1,\n",
       "         'l': 1,\n",
       "         'c': 1,\n",
       "         'm': 1})"
      ]
     },
     "execution_count": 9,
     "metadata": {},
     "output_type": "execute_result"
    }
   ],
   "source": [
    "+ct"
   ]
  },
  {
   "cell_type": "markdown",
   "metadata": {},
   "source": [
    "## Concate: Overloading `+`\n",
    "\n",
    "`Vector.py`: \n",
    "\n",
    "```python\n",
    "def __add__(self, other):\n",
    "    try:\n",
    "        pairs = itertools.zip_longest(self, other, fillvalue=0.0)\n",
    "        return Vector(a + b for a, b in pairs)\n",
    "    except TypeError:\n",
    "        return NotImplemented\n",
    "\n",
    "def __radd__(self, other):\n",
    "    return self + other\n",
    "```\n",
    "\n",
    "Or\n",
    "\n",
    "```python\n",
    "__radd__ == __add__\n",
    "```"
   ]
  },
  {
   "cell_type": "markdown",
   "metadata": {},
   "source": [
    "# Using `@` as an Infix Operator\n",
    "\n",
    "```python\n",
    ">>> va = Vector([1, 2, 3])\n",
    ">>> vz = Vector([5, 6, 7])\n",
    ">>> va @ vz == 38.0\n",
    "True\n",
    "```\n",
    "\n",
    "```python \n",
    "def __matmul__(self, other):\n",
    "    # Both operands must implement `__len__` and `__iter__`\n",
    "    if (isinstance(other, abc.Sized) and    \n",
    "        isinstance(other, abc.Iterable)):\n",
    "        if len(self) == len(other):\n",
    "            return sum(a * b for a, b in zip(self, other))\n",
    "        else:\n",
    "            raise ValueError('@ require vectors of equal length. ')\n",
    "    else:\n",
    "        return NotImplemented\n",
    "\n",
    "def __rmatmul__(self, other)\n",
    "    return self @ other\n",
    "```"
   ]
  },
  {
   "cell_type": "markdown",
   "metadata": {},
   "source": [
    "### New `zip()` Feature in Python3.10\n",
    "\n",
    "When `strict=True`, the function raises `ValueError` when the iterables have differen lengths. "
   ]
  },
  {
   "cell_type": "markdown",
   "metadata": {},
   "source": [
    "\n",
    "```python\n",
    "def __eq__(self, other):\n",
    "    if isinstance(other, Vector):\n",
    "        return (len(self) == len(other)) and\n",
    "            all(a== b for a, b in zip(self, other))\n",
    "    else:\n",
    "        return NotImplemented\n",
    "\n",
    "def __ne__(self, other)\n",
    "    eq_result = self == other\n",
    "    if eq_result is NotImplemented:\n",
    "        return NotImplemented\n",
    "    return not eq_result\n",
    "```"
   ]
  }
 ],
 "metadata": {
  "kernelspec": {
   "display_name": "Python 3",
   "language": "python",
   "name": "python3"
  },
  "language_info": {
   "codemirror_mode": {
    "name": "ipython",
    "version": 3
   },
   "file_extension": ".py",
   "mimetype": "text/x-python",
   "name": "python",
   "nbconvert_exporter": "python",
   "pygments_lexer": "ipython3",
   "version": "3.10.10"
  },
  "orig_nbformat": 4
 },
 "nbformat": 4,
 "nbformat_minor": 2
}
