{
 "cells": [
  {
   "cell_type": "markdown",
   "metadata": {},
   "source": [
    "# Iterations, Generations, and Classic Coroutines"
   ]
  },
  {
   "cell_type": "code",
   "execution_count": 1,
   "metadata": {},
   "outputs": [],
   "source": [
    "class Spam:\n",
    "    def __getitem__(self, i):\n",
    "        print('->', i)\n",
    "        raise IndexError()\n"
   ]
  },
  {
   "cell_type": "markdown",
   "metadata": {},
   "source": [
    "If a class provides `__getitem__`, the `iter()` built-in accepts an instance of that class as iterable and builds an iterator from the instance. \n",
    "\n",
    "Python' s iteration machinery will call `__getitem__` with indexes starting from 0. "
   ]
  },
  {
   "cell_type": "code",
   "execution_count": 2,
   "metadata": {},
   "outputs": [
    {
     "data": {
      "text/plain": [
       "<iterator at 0x1b607dad7b0>"
      ]
     },
     "execution_count": 2,
     "metadata": {},
     "output_type": "execute_result"
    }
   ],
   "source": [
    "spam_can = Spam()\n",
    "iter(spam_can)"
   ]
  },
  {
   "cell_type": "code",
   "execution_count": 3,
   "metadata": {},
   "outputs": [
    {
     "name": "stdout",
     "output_type": "stream",
     "text": [
      "-> 0\n"
     ]
    },
    {
     "data": {
      "text/plain": [
       "[]"
      ]
     },
     "execution_count": 3,
     "metadata": {},
     "output_type": "execute_result"
    }
   ],
   "source": [
    "list(spam_can)"
   ]
  },
  {
   "cell_type": "code",
   "execution_count": 4,
   "metadata": {},
   "outputs": [
    {
     "data": {
      "text/plain": [
       "False"
      ]
     },
     "execution_count": 4,
     "metadata": {},
     "output_type": "execute_result"
    }
   ],
   "source": [
    "from collections import abc\n",
    "\n",
    "isinstance(spam_can, abc.Iterable)"
   ]
  },
  {
   "cell_type": "code",
   "execution_count": 5,
   "metadata": {},
   "outputs": [
    {
     "data": {
      "text/plain": [
       "True"
      ]
     },
     "execution_count": 5,
     "metadata": {},
     "output_type": "execute_result"
    }
   ],
   "source": [
    "class GooseSpam:\n",
    "    def __iter__(self):\n",
    "        pass\n",
    "\n",
    "issubclass(GooseSpam, abc.Iterable)"
   ]
  },
  {
   "cell_type": "markdown",
   "metadata": {},
   "source": [
    "## Using `iter` with a Callable"
   ]
  },
  {
   "cell_type": "code",
   "execution_count": 6,
   "metadata": {},
   "outputs": [
    {
     "name": "stdout",
     "output_type": "stream",
     "text": [
      "2\n",
      "4\n"
     ]
    }
   ],
   "source": [
    "from random import randint\n",
    "\n",
    "def d6():\n",
    "    return randint(1, 6)\n",
    "\n",
    "d6_iter = iter(d6, 1)\n",
    "\n",
    "for roll in d6_iter:\n",
    "    print(roll)"
   ]
  },
  {
   "cell_type": "markdown",
   "metadata": {},
   "source": [
    "## Iterable VS Iterator"
   ]
  },
  {
   "cell_type": "code",
   "execution_count": 7,
   "metadata": {},
   "outputs": [
    {
     "name": "stdout",
     "output_type": "stream",
     "text": [
      "A\n",
      "B\n",
      "C\n"
     ]
    }
   ],
   "source": [
    "s = 'ABC'\n",
    "for char in s:\n",
    "    print(char)"
   ]
  },
  {
   "cell_type": "markdown",
   "metadata": {},
   "source": [
    "If there was no `for` statement and we had to emulate the `for` machinery by hand with a `while` loop. "
   ]
  },
  {
   "cell_type": "code",
   "execution_count": 8,
   "metadata": {},
   "outputs": [
    {
     "name": "stdout",
     "output_type": "stream",
     "text": [
      "A\n",
      "B\n",
      "C\n"
     ]
    }
   ],
   "source": [
    "it = iter(s)\n",
    "while True:\n",
    "    try:\n",
    "        print(next(it))\n",
    "    except StopIteration:\n",
    "        del it\n",
    "        break"
   ]
  },
  {
   "cell_type": "markdown",
   "metadata": {},
   "source": [
    "Python's standard interface for an iterator has two methods: `__next__` and `__iter__`. \n",
    "\n",
    "`__iter__` method just returns itself. "
   ]
  },
  {
   "cell_type": "code",
   "execution_count": 9,
   "metadata": {},
   "outputs": [],
   "source": [
    "from collections import abc\n",
    "from abc import abstractmethod\n",
    "\n",
    "\n",
    "class Iterator(abc.Iterable):\n",
    "\n",
    "    __slots__ = ()\n",
    "\n",
    "    @abstractmethod\n",
    "    def __next__(self):\n",
    "        'Return the next item from the iterator. When exhausted, raise StopIteration. '\n",
    "        raise StopIteration\n",
    "    \n",
    "    def __iter__(self):\n",
    "        return self\n",
    "\n",
    "    @classmethod\n",
    "    def __subclasshook__(cls, C): \n",
    "        if cls is Iterator:\n",
    "            return _check_methods(C, '__iter__', '__next__')\n",
    "        return NotImplemented\n"
   ]
  },
  {
   "cell_type": "markdown",
   "metadata": {},
   "source": [
    "## `Sentence` Classes with `__iter__`"
   ]
  },
  {
   "cell_type": "code",
   "execution_count": 10,
   "metadata": {},
   "outputs": [],
   "source": [
    "import re\n",
    "import reprlib\n",
    "\n",
    "RE_WORD = re.compile(r'\\w+')\n",
    "\n",
    "\n",
    "class Sentence:\n",
    "\n",
    "    def __init__(self, text):\n",
    "        self.text = text\n",
    "        self.words = RE_WORD.findall(text)\n",
    "\n",
    "    def __repr__(self):\n",
    "        return f'Sentence({reprlib.repr(self.text)})'\n",
    "\n",
    "    def __iter__(self):  \n",
    "        return SentenceIterator(self.words)  \n",
    "\n",
    "\n",
    "class SentenceIterator:\n",
    "\n",
    "    def __init__(self, words):\n",
    "        self.words = words  \n",
    "        self.index = 0  \n",
    "\n",
    "    def __next__(self):\n",
    "        try:\n",
    "            word = self.words[self.index]  \n",
    "        except IndexError:\n",
    "            raise StopIteration()  \n",
    "        self.index += 1  \n",
    "        return word  \n",
    "\n",
    "    def __iter__(self):  \n",
    "        return self\n"
   ]
  },
  {
   "cell_type": "code",
   "execution_count": 11,
   "metadata": {},
   "outputs": [
    {
     "data": {
      "text/plain": [
       "'Life'"
      ]
     },
     "execution_count": 11,
     "metadata": {},
     "output_type": "execute_result"
    }
   ],
   "source": [
    "s = Sentence('Life of Brian')\n",
    "it = iter(s)\n",
    "next(it)"
   ]
  },
  {
   "cell_type": "code",
   "execution_count": 12,
   "metadata": {},
   "outputs": [
    {
     "name": "stdout",
     "output_type": "stream",
     "text": [
      "of\n",
      "Brian\n"
     ]
    }
   ],
   "source": [
    "for c in it:\n",
    "    print(c)"
   ]
  },
  {
   "cell_type": "markdown",
   "metadata": {},
   "source": [
    "**Iterables** have an `__iter__` method that instantiates a new iterator every time. \n",
    "\n",
    "**Iterators** implement a `__next__` method that returns individual items, and an `__iter__` method returns itself `self`. \n",
    "\n",
    "Therefore, iterators are also iterables, but iterables are not iterators. "
   ]
  },
  {
   "cell_type": "markdown",
   "metadata": {},
   "source": [
    "### #`Sentence` takes a Generator Function \n",
    "\n",
    "No need for a separate iterator class! "
   ]
  },
  {
   "cell_type": "code",
   "execution_count": 13,
   "metadata": {},
   "outputs": [],
   "source": [
    "class Sentence:\n",
    "\n",
    "    def __init__(self, text):\n",
    "        self.text = text\n",
    "        self.words = RE_WORD.findall(text)\n",
    "\n",
    "    def __repr__(self):\n",
    "        return f'Sentence({reprlib.repr(self.text)})'\n",
    "\n",
    "    def __iter__(self):  \n",
    "        for word in self.words:\n",
    "            yield word"
   ]
  },
  {
   "cell_type": "code",
   "execution_count": 14,
   "metadata": {},
   "outputs": [
    {
     "data": {
      "text/plain": [
       "'Life'"
      ]
     },
     "execution_count": 14,
     "metadata": {},
     "output_type": "execute_result"
    }
   ],
   "source": [
    "s = Sentence('Life of Brian')\n",
    "it = iter(s)\n",
    "next(it)"
   ]
  },
  {
   "cell_type": "code",
   "execution_count": 15,
   "metadata": {},
   "outputs": [
    {
     "name": "stdout",
     "output_type": "stream",
     "text": [
      "of\n",
      "Brian\n"
     ]
    }
   ],
   "source": [
    "for c in it:\n",
    "    print(c)"
   ]
  },
  {
   "cell_type": "markdown",
   "metadata": {},
   "source": [
    "##### How Generator Works"
   ]
  },
  {
   "cell_type": "code",
   "execution_count": 16,
   "metadata": {},
   "outputs": [
    {
     "name": "stdout",
     "output_type": "stream",
     "text": [
      "1\n",
      "2\n",
      "3\n"
     ]
    }
   ],
   "source": [
    "def gen_123():\n",
    "    yield 1\n",
    "    yield 2\n",
    "    yield 3\n",
    "\n",
    "for i in gen_123():\n",
    "    print(i)"
   ]
  },
  {
   "cell_type": "code",
   "execution_count": 17,
   "metadata": {},
   "outputs": [
    {
     "data": {
      "text/plain": [
       "1"
      ]
     },
     "execution_count": 17,
     "metadata": {},
     "output_type": "execute_result"
    }
   ],
   "source": [
    "g = gen_123()\n",
    "next(g)"
   ]
  },
  {
   "cell_type": "code",
   "execution_count": 18,
   "metadata": {},
   "outputs": [
    {
     "data": {
      "text/plain": [
       "2"
      ]
     },
     "execution_count": 18,
     "metadata": {},
     "output_type": "execute_result"
    }
   ],
   "source": [
    "next(g)"
   ]
  },
  {
   "cell_type": "code",
   "execution_count": 19,
   "metadata": {},
   "outputs": [
    {
     "data": {
      "text/plain": [
       "3"
      ]
     },
     "execution_count": 19,
     "metadata": {},
     "output_type": "execute_result"
    }
   ],
   "source": [
    "next(g)"
   ]
  },
  {
   "cell_type": "code",
   "execution_count": 20,
   "metadata": {},
   "outputs": [
    {
     "name": "stdout",
     "output_type": "stream",
     "text": [
      "<class 'StopIteration'>\n"
     ]
    }
   ],
   "source": [
    "try: \n",
    "    next(g)\n",
    "except StopIteration:\n",
    "    print(StopIteration)"
   ]
  },
  {
   "cell_type": "code",
   "execution_count": 21,
   "metadata": {},
   "outputs": [
    {
     "name": "stdout",
     "output_type": "stream",
     "text": [
      "Start\n",
      "-> A\n",
      "Continue\n",
      "-> B\n",
      "End\n"
     ]
    }
   ],
   "source": [
    "def gen_AB():\n",
    "    print('Start')\n",
    "    yield 'A'\n",
    "    print('Continue')\n",
    "    yield 'B'\n",
    "    print('End')\n",
    "\n",
    "for c in gen_AB():  # equals to g = iter(gen_AB())\n",
    "    print('->', c)  # The loop prints -> and the value returned by next(g)"
   ]
  },
  {
   "cell_type": "markdown",
   "metadata": {},
   "source": [
    "When it prints 'End', iteration continues with a third call to `next(g)`, while `g = iter(gen_AB())`, advancing to the end of the body of the function, the text 'End'. \n"
   ]
  },
  {
   "cell_type": "markdown",
   "metadata": {},
   "source": [
    "### #`Sentence` takes a Lazy Generator"
   ]
  },
  {
   "cell_type": "code",
   "execution_count": 22,
   "metadata": {},
   "outputs": [],
   "source": [
    "class Sentence:\n",
    "\n",
    "    def __init__(self, text):\n",
    "        self.text = text\n",
    "\n",
    "    def __repr__(self):\n",
    "        return f'Sentence({reprlib.repr(self.text)})'\n",
    "\n",
    "    def __iter__(self):  \n",
    "        for match in RE_WORD.finditer(self.text): \n",
    "            yield match.group()"
   ]
  },
  {
   "cell_type": "markdown",
   "metadata": {},
   "source": [
    "Here, `finditer` builds an iterator over the matches of `RE_WORD` on `self.text`, yeilding `MatchObject` instances. \n",
    "\n",
    "And the `match.group()` extracts the matched text from the `MatchObject` instance. "
   ]
  },
  {
   "cell_type": "markdown",
   "metadata": {},
   "source": [
    "### #`Sentence` takes Lazy Generator Expression"
   ]
  },
  {
   "cell_type": "code",
   "execution_count": 23,
   "metadata": {},
   "outputs": [],
   "source": [
    "def gen_AB():\n",
    "    print('Start')\n",
    "    yield 'A'\n",
    "    print('Continue')\n",
    "    yield 'B'\n",
    "    print('End')"
   ]
  },
  {
   "cell_type": "code",
   "execution_count": 24,
   "metadata": {},
   "outputs": [
    {
     "name": "stdout",
     "output_type": "stream",
     "text": [
      "Start\n",
      "Continue\n",
      "End\n"
     ]
    }
   ],
   "source": [
    ">>> res1 = [x*3 for x in gen_AB()]"
   ]
  },
  {
   "cell_type": "markdown",
   "metadata": {},
   "source": [
    "The list comprehension eagerly iterates over the item yielded by the generator object returned by `gen_AB()`: 'A' and 'B'. \n",
    "\n",
    "Note the output in the next lines: 'Start', 'Continue' and 'End'. "
   ]
  },
  {
   "cell_type": "code",
   "execution_count": 25,
   "metadata": {},
   "outputs": [
    {
     "name": "stdout",
     "output_type": "stream",
     "text": [
      "--> AAA\n",
      "--> BBB\n"
     ]
    }
   ],
   "source": [
    "for i in res1:\n",
    "    print('-->', i)"
   ]
  },
  {
   "cell_type": "markdown",
   "metadata": {},
   "source": [
    "This `for` loop iterates over the `res1` list built by the list comprehension. "
   ]
  },
  {
   "cell_type": "code",
   "execution_count": 26,
   "metadata": {},
   "outputs": [
    {
     "data": {
      "text/plain": [
       "<generator object <genexpr> at 0x000001B607E20740>"
      ]
     },
     "execution_count": 26,
     "metadata": {},
     "output_type": "execute_result"
    }
   ],
   "source": [
    ">>> res2 = (x*3 for x in gen_AB())\n",
    ">>> res2"
   ]
  },
  {
   "cell_type": "markdown",
   "metadata": {},
   "source": [
    "The generator expression returns `res2`, a generator object. "
   ]
  },
  {
   "cell_type": "code",
   "execution_count": 27,
   "metadata": {},
   "outputs": [
    {
     "name": "stdout",
     "output_type": "stream",
     "text": [
      "Start\n",
      "--> AAA\n",
      "Continue\n",
      "--> BBB\n",
      "End\n"
     ]
    }
   ],
   "source": [
    "for i in res2:\n",
    "    print('-->', i)"
   ]
  },
  {
   "cell_type": "markdown",
   "metadata": {},
   "source": [
    "Only when the `for` loop iterates over `res2`, this generator gets items from `gen_AB()`. Each iteration of the `for` loop implicitly calls `next(res2)`, which in turn calls `next()` on the generator object returned by `gen_AB()`, advancing it to the next `yield`. "
   ]
  },
  {
   "cell_type": "code",
   "execution_count": 28,
   "metadata": {},
   "outputs": [],
   "source": [
    "class Sentence:\n",
    "\n",
    "    def __init__(self, text):\n",
    "        self.text = text\n",
    "\n",
    "    def __repr__(self):\n",
    "        return f'Sentence({reprlib.repr(self.text)})'\n",
    "\n",
    "    def __iter__(self):  \n",
    "        return (match.group() for match in RE_WORD.finditer(self.text))"
   ]
  },
  {
   "cell_type": "markdown",
   "metadata": {},
   "source": [
    "## An Arithmetic Progression Generator"
   ]
  },
  {
   "cell_type": "code",
   "execution_count": 29,
   "metadata": {},
   "outputs": [],
   "source": [
    "class ArithmeticProgression:\n",
    "\n",
    "    def __init__(self, begin, step, end=None):\n",
    "        self.begin = begin\n",
    "        self.step = step\n",
    "        self.end = end\n",
    "\n",
    "    def __iter__(self):\n",
    "        res_type = type(self.begin + self.step)\n",
    "        res = res_type(self.begin)\n",
    "        forever = self.end is None\n",
    "        index = 0\n",
    "        while forever or res < self.end:\n",
    "            yield result\n",
    "            index += 1\n",
    "            res = self.begin + self.step * index\n"
   ]
  },
  {
   "cell_type": "markdown",
   "metadata": {},
   "source": [
    "### `itertools`"
   ]
  },
  {
   "cell_type": "code",
   "execution_count": 30,
   "metadata": {},
   "outputs": [],
   "source": [
    "import itertools\n",
    "\n",
    "gen = itertools.count(1, .5)"
   ]
  },
  {
   "cell_type": "code",
   "execution_count": 31,
   "metadata": {},
   "outputs": [
    {
     "data": {
      "text/plain": [
       "1"
      ]
     },
     "execution_count": 31,
     "metadata": {},
     "output_type": "execute_result"
    }
   ],
   "source": [
    "next(gen)"
   ]
  },
  {
   "cell_type": "code",
   "execution_count": 32,
   "metadata": {},
   "outputs": [
    {
     "data": {
      "text/plain": [
       "1.5"
      ]
     },
     "execution_count": 32,
     "metadata": {},
     "output_type": "execute_result"
    }
   ],
   "source": [
    "next(gen)"
   ]
  },
  {
   "cell_type": "code",
   "execution_count": 33,
   "metadata": {},
   "outputs": [
    {
     "data": {
      "text/plain": [
       "[1, 1.5, 2.0, 2.5]"
      ]
     },
     "execution_count": 33,
     "metadata": {},
     "output_type": "execute_result"
    }
   ],
   "source": [
    "gen = itertools.takewhile(lambda n: n < 3, itertools.count(1, .5))\n",
    "list(gen)"
   ]
  },
  {
   "cell_type": "code",
   "execution_count": 34,
   "metadata": {},
   "outputs": [],
   "source": [
    "def aritprog(begin, step, end=None):\n",
    "    first = type(begin + step)(begin)\n",
    "    ap_gen = itertools.cout(first, step)\n",
    "    if end is None:\n",
    "        return ap_gen\n",
    "    return itertools.takewhile(lambda n: n < end, ap_gen)\n"
   ]
  },
  {
   "cell_type": "markdown",
   "metadata": {},
   "source": [
    "## Generator Functions in the Standard Library"
   ]
  },
  {
   "cell_type": "code",
   "execution_count": 35,
   "metadata": {},
   "outputs": [
    {
     "data": {
      "text/plain": [
       "['A', 'a', 'a']"
      ]
     },
     "execution_count": 35,
     "metadata": {},
     "output_type": "execute_result"
    }
   ],
   "source": [
    "def vowel(c : str):\n",
    "    return c.lower() in 'aeious'\n",
    "\n",
    "list(filter(vowel, 'Aardvark'))"
   ]
  },
  {
   "cell_type": "code",
   "execution_count": 36,
   "metadata": {},
   "outputs": [
    {
     "data": {
      "text/plain": [
       "['r', 'd', 'v', 'r', 'k']"
      ]
     },
     "execution_count": 36,
     "metadata": {},
     "output_type": "execute_result"
    }
   ],
   "source": [
    "import itertools\n",
    "\n",
    "list(itertools.filterfalse(vowel, 'Aardvark'))"
   ]
  },
  {
   "cell_type": "code",
   "execution_count": 37,
   "metadata": {},
   "outputs": [
    {
     "data": {
      "text/plain": [
       "['r', 'd', 'v', 'a', 'r', 'k']"
      ]
     },
     "execution_count": 37,
     "metadata": {},
     "output_type": "execute_result"
    }
   ],
   "source": [
    "list(itertools.dropwhile(vowel, 'Aardvark'))"
   ]
  },
  {
   "cell_type": "code",
   "execution_count": 38,
   "metadata": {},
   "outputs": [
    {
     "data": {
      "text/plain": [
       "['A', 'a']"
      ]
     },
     "execution_count": 38,
     "metadata": {},
     "output_type": "execute_result"
    }
   ],
   "source": [
    "list(itertools.takewhile(vowel, 'Aardvark'))"
   ]
  },
  {
   "cell_type": "code",
   "execution_count": 39,
   "metadata": {},
   "outputs": [
    {
     "data": {
      "text/plain": [
       "['A', 'r', 'd', 'a']"
      ]
     },
     "execution_count": 39,
     "metadata": {},
     "output_type": "execute_result"
    }
   ],
   "source": [
    "list(itertools.compress('Aardvark', (1, 0, 1, 1, 0, 1)))"
   ]
  },
  {
   "cell_type": "code",
   "execution_count": 40,
   "metadata": {},
   "outputs": [
    {
     "data": {
      "text/plain": [
       "['A', 'a', 'r', 'd']"
      ]
     },
     "execution_count": 40,
     "metadata": {},
     "output_type": "execute_result"
    }
   ],
   "source": [
    "list(itertools.islice('Aardvark', 4))"
   ]
  },
  {
   "cell_type": "code",
   "execution_count": 41,
   "metadata": {},
   "outputs": [
    {
     "data": {
      "text/plain": [
       "['v', 'a', 'r']"
      ]
     },
     "execution_count": 41,
     "metadata": {},
     "output_type": "execute_result"
    }
   ],
   "source": [
    "list(itertools.islice('Aardvark', 4, 7))"
   ]
  },
  {
   "cell_type": "code",
   "execution_count": 42,
   "metadata": {},
   "outputs": [
    {
     "data": {
      "text/plain": [
       "['a', 'd', 'a']"
      ]
     },
     "execution_count": 42,
     "metadata": {},
     "output_type": "execute_result"
    }
   ],
   "source": [
    "list(itertools.islice('Aardvark', 1, 7, 2))"
   ]
  },
  {
   "cell_type": "markdown",
   "metadata": {},
   "source": [
    "-------------------------------------------------------------------------------------------------------------------------------------------------------"
   ]
  },
  {
   "cell_type": "code",
   "execution_count": 43,
   "metadata": {},
   "outputs": [
    {
     "data": {
      "text/plain": [
       "[5, 9, 11, 19, 26, 32, 35, 35, 44, 45]"
      ]
     },
     "execution_count": 43,
     "metadata": {},
     "output_type": "execute_result"
    }
   ],
   "source": [
    "sample = [5, 4, 2, 8, 7, 6, 3, 0, 9, 1]\n",
    "\n",
    "list(itertools.accumulate(sample))"
   ]
  },
  {
   "cell_type": "code",
   "execution_count": 44,
   "metadata": {},
   "outputs": [
    {
     "data": {
      "text/plain": [
       "[5, 4, 2, 2, 2, 2, 2, 0, 0, 0]"
      ]
     },
     "execution_count": 44,
     "metadata": {},
     "output_type": "execute_result"
    }
   ],
   "source": [
    "list(itertools.accumulate(sample, min))"
   ]
  },
  {
   "cell_type": "code",
   "execution_count": 45,
   "metadata": {},
   "outputs": [
    {
     "data": {
      "text/plain": [
       "[5, 5, 5, 8, 8, 8, 8, 8, 9, 9]"
      ]
     },
     "execution_count": 45,
     "metadata": {},
     "output_type": "execute_result"
    }
   ],
   "source": [
    "list(itertools.accumulate(sample, max))"
   ]
  },
  {
   "cell_type": "code",
   "execution_count": 46,
   "metadata": {},
   "outputs": [
    {
     "data": {
      "text/plain": [
       "[5, 20, 40, 320, 2240, 13440, 40320, 0, 0, 0]"
      ]
     },
     "execution_count": 46,
     "metadata": {},
     "output_type": "execute_result"
    }
   ],
   "source": [
    "import operator\n",
    "\n",
    "list(itertools.accumulate(sample, operator.mul))"
   ]
  },
  {
   "cell_type": "markdown",
   "metadata": {},
   "source": [
    "-------------------------------------------------------------------------------------------------------------------------------------------------------"
   ]
  },
  {
   "cell_type": "code",
   "execution_count": 47,
   "metadata": {},
   "outputs": [
    {
     "data": {
      "text/plain": [
       "[(0, 'a'),\n",
       " (1, 'l'),\n",
       " (2, 'd'),\n",
       " (3, 'f'),\n",
       " (4, 's'),\n",
       " (5, 'f'),\n",
       " (6, 's'),\n",
       " (7, 'f'),\n",
       " (8, 'd'),\n",
       " (9, 'd')]"
      ]
     },
     "execution_count": 47,
     "metadata": {},
     "output_type": "execute_result"
    }
   ],
   "source": [
    "list(enumerate('aldfsfsfdd'))"
   ]
  },
  {
   "cell_type": "code",
   "execution_count": 48,
   "metadata": {},
   "outputs": [
    {
     "data": {
      "text/plain": [
       "[(1, 'a'),\n",
       " (2, 'l'),\n",
       " (3, 'd'),\n",
       " (4, 'f'),\n",
       " (5, 's'),\n",
       " (6, 'f'),\n",
       " (7, 's'),\n",
       " (8, 'f'),\n",
       " (9, 'd'),\n",
       " (10, 'd')]"
      ]
     },
     "execution_count": 48,
     "metadata": {},
     "output_type": "execute_result"
    }
   ],
   "source": [
    "list(enumerate('aldfsfsfdd', 1))"
   ]
  },
  {
   "cell_type": "code",
   "execution_count": 49,
   "metadata": {},
   "outputs": [
    {
     "data": {
      "text/plain": [
       "[0, 1, 4, 9]"
      ]
     },
     "execution_count": 49,
     "metadata": {},
     "output_type": "execute_result"
    }
   ],
   "source": [
    "list(map(operator.mul, range(11), range(4)))"
   ]
  },
  {
   "cell_type": "markdown",
   "metadata": {},
   "source": [
    "-------------------------------------------------------------------------------------------------------------------------------------------------------"
   ]
  },
  {
   "cell_type": "code",
   "execution_count": 50,
   "metadata": {},
   "outputs": [
    {
     "data": {
      "text/plain": [
       "[(1, 'a'), (2, 'l'), (3, 'd'), (4, 'd'), (5, 'd')]"
      ]
     },
     "execution_count": 50,
     "metadata": {},
     "output_type": "execute_result"
    }
   ],
   "source": [
    "list(itertools.chain(enumerate('alddd', 1)))"
   ]
  },
  {
   "cell_type": "code",
   "execution_count": 51,
   "metadata": {},
   "outputs": [
    {
     "data": {
      "text/plain": [
       "[1, 'a', 2, 'l', 3, 'd', 4, 'd', 5, 'd']"
      ]
     },
     "execution_count": 51,
     "metadata": {},
     "output_type": "execute_result"
    }
   ],
   "source": [
    "list(itertools.chain.from_iterable(enumerate('alddd', 1)))"
   ]
  },
  {
   "cell_type": "code",
   "execution_count": 52,
   "metadata": {},
   "outputs": [
    {
     "data": {
      "text/plain": [
       "[(0, 0), (1, 1), (2, 2), (3, 3), (4, None), (5, None), (6, None)]"
      ]
     },
     "execution_count": 52,
     "metadata": {},
     "output_type": "execute_result"
    }
   ],
   "source": [
    "list(itertools.zip_longest(range(7), range(4)))"
   ]
  },
  {
   "cell_type": "markdown",
   "metadata": {},
   "source": [
    "-------------------------------------------------------------------------------------------------------------------------------------------------------"
   ]
  },
  {
   "cell_type": "code",
   "execution_count": 53,
   "metadata": {},
   "outputs": [
    {
     "data": {
      "text/plain": [
       "[(0, 0), (1, 1), (2, 2), (3, 3), (4, '?'), (5, '?'), (6, '?')]"
      ]
     },
     "execution_count": 53,
     "metadata": {},
     "output_type": "execute_result"
    }
   ],
   "source": [
    "list(itertools.zip_longest(range(7), range(4), fillvalue='?'))"
   ]
  },
  {
   "cell_type": "code",
   "execution_count": 54,
   "metadata": {},
   "outputs": [
    {
     "data": {
      "text/plain": [
       "[('A', 0), ('A', 1), ('B', 0), ('B', 1), ('C', 0), ('C', 1)]"
      ]
     },
     "execution_count": 54,
     "metadata": {},
     "output_type": "execute_result"
    }
   ],
   "source": [
    "list(itertools.product('ABC', range(2)))"
   ]
  },
  {
   "cell_type": "markdown",
   "metadata": {},
   "source": [
    "-------------------------------------------------------------------------------------------------------------------------------------------------------"
   ]
  },
  {
   "cell_type": "code",
   "execution_count": 55,
   "metadata": {},
   "outputs": [
    {
     "data": {
      "text/plain": [
       "0"
      ]
     },
     "execution_count": 55,
     "metadata": {},
     "output_type": "execute_result"
    }
   ],
   "source": [
    "ct = itertools.count()\n",
    "\n",
    "next(ct)"
   ]
  },
  {
   "cell_type": "code",
   "execution_count": 56,
   "metadata": {},
   "outputs": [
    {
     "data": {
      "text/plain": [
       "(1, 2, 3)"
      ]
     },
     "execution_count": 56,
     "metadata": {},
     "output_type": "execute_result"
    }
   ],
   "source": [
    "next(ct), next(ct), next(ct)"
   ]
  },
  {
   "cell_type": "code",
   "execution_count": 57,
   "metadata": {},
   "outputs": [
    {
     "data": {
      "text/plain": [
       "[8, 8, 8, 8]"
      ]
     },
     "execution_count": 57,
     "metadata": {},
     "output_type": "execute_result"
    }
   ],
   "source": [
    "list(itertools.repeat(8, 4))"
   ]
  },
  {
   "cell_type": "markdown",
   "metadata": {},
   "source": [
    "-------------------------------------------------------------------------------------------------------------------------------------------------------"
   ]
  },
  {
   "cell_type": "code",
   "execution_count": 58,
   "metadata": {},
   "outputs": [
    {
     "data": {
      "text/plain": [
       "[('A', 'B'), ('A', 'C'), ('B', 'C')]"
      ]
     },
     "execution_count": 58,
     "metadata": {},
     "output_type": "execute_result"
    }
   ],
   "source": [
    "list(itertools.combinations('ABC', 2))"
   ]
  },
  {
   "cell_type": "code",
   "execution_count": 59,
   "metadata": {},
   "outputs": [
    {
     "data": {
      "text/plain": [
       "[('A', 'A'), ('A', 'B'), ('A', 'C'), ('B', 'B'), ('B', 'C'), ('C', 'C')]"
      ]
     },
     "execution_count": 59,
     "metadata": {},
     "output_type": "execute_result"
    }
   ],
   "source": [
    "list(itertools.combinations_with_replacement('ABC', 2))"
   ]
  },
  {
   "cell_type": "markdown",
   "metadata": {},
   "source": [
    "-------------------------------------------------------------------------------------------------------------------------------------------------------"
   ]
  },
  {
   "cell_type": "code",
   "execution_count": 60,
   "metadata": {},
   "outputs": [
    {
     "data": {
      "text/plain": [
       "[('L', <itertools._grouper at 0x1b607d8b190>),\n",
       " ('A', <itertools._grouper at 0x1b607ce4f10>),\n",
       " ('G', <itertools._grouper at 0x1b607ce4b50>)]"
      ]
     },
     "execution_count": 60,
     "metadata": {},
     "output_type": "execute_result"
    }
   ],
   "source": [
    "list(itertools.groupby('LLLLAAGGG'))"
   ]
  },
  {
   "cell_type": "code",
   "execution_count": 61,
   "metadata": {},
   "outputs": [
    {
     "name": "stdout",
     "output_type": "stream",
     "text": [
      "L --> ['L', 'L', 'L', 'L']\n",
      "A --> ['A', 'A']\n",
      "G --> ['G', 'G', 'G']\n"
     ]
    }
   ],
   "source": [
    "for char, group in itertools.groupby('LLLLAAGGG'):\n",
    "    print(char, '-->', list(group))"
   ]
  },
  {
   "cell_type": "code",
   "execution_count": 62,
   "metadata": {},
   "outputs": [
    {
     "name": "stdout",
     "output_type": "stream",
     "text": [
      "3 --> ['rat']\n",
      "4 --> ['duck']\n",
      "5 --> ['shark']\n",
      "4 --> ['bear']\n",
      "6 --> ['dophin']\n",
      "4 --> ['lion']\n",
      "3 --> ['bat']\n",
      "5 --> ['eagle']\n"
     ]
    }
   ],
   "source": [
    "animals = ['rat', 'duck', 'shark', 'bear', 'dophin', 'lion', 'bat', 'eagle']\n",
    "for length, group in itertools.groupby(animals, len):\n",
    "    print(length, '-->', list(group))"
   ]
  },
  {
   "cell_type": "code",
   "execution_count": 63,
   "metadata": {},
   "outputs": [
    {
     "name": "stdout",
     "output_type": "stream",
     "text": [
      "3 --> ['rat', 'bat']\n",
      "4 --> ['duck', 'bear', 'lion']\n",
      "5 --> ['shark', 'eagle']\n",
      "6 --> ['dophin']\n"
     ]
    }
   ],
   "source": [
    "animals = ['rat', 'duck', 'shark', 'bear', 'dophin', 'lion', 'bat', 'eagle']\n",
    "animals.sort(key=len)\n",
    "for length, group in itertools.groupby(animals, len):\n",
    "    print(length, '-->', list(group))"
   ]
  },
  {
   "cell_type": "markdown",
   "metadata": {},
   "source": [
    "-------------------------------------------------------------------------------------------------------------------------------------------------------"
   ]
  },
  {
   "cell_type": "code",
   "execution_count": 64,
   "metadata": {},
   "outputs": [
    {
     "data": {
      "text/plain": [
       "[<itertools._tee at 0x1b607e39bc0>, <itertools._tee at 0x1b607e39740>]"
      ]
     },
     "execution_count": 64,
     "metadata": {},
     "output_type": "execute_result"
    }
   ],
   "source": [
    "list(itertools.tee('ABC'))"
   ]
  },
  {
   "cell_type": "code",
   "execution_count": 65,
   "metadata": {},
   "outputs": [
    {
     "data": {
      "text/plain": [
       "[('A', 'A'), ('B', 'B'), ('C', 'C')]"
      ]
     },
     "execution_count": 65,
     "metadata": {},
     "output_type": "execute_result"
    }
   ],
   "source": [
    "list(zip(*itertools.tee('ABC')))"
   ]
  },
  {
   "cell_type": "markdown",
   "metadata": {},
   "source": [
    "-------------------------------------------------------------------------------------------------------------------------------------------------------"
   ]
  },
  {
   "cell_type": "code",
   "execution_count": 66,
   "metadata": {},
   "outputs": [
    {
     "data": {
      "text/plain": [
       "True"
      ]
     },
     "execution_count": 66,
     "metadata": {},
     "output_type": "execute_result"
    }
   ],
   "source": [
    "all([1, 2, 3])"
   ]
  },
  {
   "cell_type": "code",
   "execution_count": 67,
   "metadata": {},
   "outputs": [
    {
     "data": {
      "text/plain": [
       "False"
      ]
     },
     "execution_count": 67,
     "metadata": {},
     "output_type": "execute_result"
    }
   ],
   "source": [
    "all([1, 0, 2])"
   ]
  },
  {
   "cell_type": "code",
   "execution_count": 68,
   "metadata": {},
   "outputs": [
    {
     "data": {
      "text/plain": [
       "True"
      ]
     },
     "execution_count": 68,
     "metadata": {},
     "output_type": "execute_result"
    }
   ],
   "source": [
    "all([])"
   ]
  },
  {
   "cell_type": "code",
   "execution_count": 69,
   "metadata": {},
   "outputs": [
    {
     "data": {
      "text/plain": [
       "True"
      ]
     },
     "execution_count": 69,
     "metadata": {},
     "output_type": "execute_result"
    }
   ],
   "source": [
    "any([1, 2, 3])"
   ]
  },
  {
   "cell_type": "code",
   "execution_count": 70,
   "metadata": {},
   "outputs": [
    {
     "data": {
      "text/plain": [
       "True"
      ]
     },
     "execution_count": 70,
     "metadata": {},
     "output_type": "execute_result"
    }
   ],
   "source": [
    "any([1, 0, 2])"
   ]
  },
  {
   "cell_type": "code",
   "execution_count": 71,
   "metadata": {},
   "outputs": [
    {
     "data": {
      "text/plain": [
       "False"
      ]
     },
     "execution_count": 71,
     "metadata": {},
     "output_type": "execute_result"
    }
   ],
   "source": [
    "any([])"
   ]
  },
  {
   "cell_type": "code",
   "execution_count": 72,
   "metadata": {},
   "outputs": [
    {
     "data": {
      "text/plain": [
       "True"
      ]
     },
     "execution_count": 72,
     "metadata": {},
     "output_type": "execute_result"
    }
   ],
   "source": [
    "g = (n for n in [0, 0.0, 7, 8])\n",
    "any(g)"
   ]
  },
  {
   "cell_type": "markdown",
   "metadata": {},
   "source": [
    "`any` iterabed over `g` until yielded `7`; then `any` stopped and returned `True`. "
   ]
  },
  {
   "cell_type": "code",
   "execution_count": 73,
   "metadata": {},
   "outputs": [
    {
     "data": {
      "text/plain": [
       "8"
      ]
     },
     "execution_count": 73,
     "metadata": {},
     "output_type": "execute_result"
    }
   ],
   "source": [
    "next(g)"
   ]
  },
  {
   "cell_type": "markdown",
   "metadata": {},
   "source": [
    "That's why `8` was still remaining. "
   ]
  },
  {
   "cell_type": "markdown",
   "metadata": {},
   "source": [
    "## Subgenerator with `yield from`"
   ]
  },
  {
   "cell_type": "code",
   "execution_count": 74,
   "metadata": {},
   "outputs": [
    {
     "name": "stdout",
     "output_type": "stream",
     "text": [
      "<generator object gen at 0x000001B607E235A0>\n",
      "1\n",
      "1.1\n",
      "1.2\n",
      "2\n"
     ]
    }
   ],
   "source": [
    "def sub_gen():\n",
    "    yield 1.1\n",
    "    yield 1.2\n",
    "\n",
    "def gen():\n",
    "    yield 1\n",
    "    for i in sub_gen():\n",
    "        yield i\n",
    "    yield 2\n",
    "\n",
    "print(gen())\n",
    "for x in gen():\n",
    "    print(x)"
   ]
  },
  {
   "cell_type": "code",
   "execution_count": 75,
   "metadata": {},
   "outputs": [
    {
     "name": "stdout",
     "output_type": "stream",
     "text": [
      "<generator object gen at 0x000001B607E23BC0>\n",
      "1\n",
      "1.1\n",
      "1.2\n",
      "2\n"
     ]
    }
   ],
   "source": [
    "def sub_gen():\n",
    "    yield 1.1\n",
    "    yield 1.2\n",
    "\n",
    "def gen():\n",
    "    yield 1\n",
    "    yield from sub_gen()\n",
    "    yield 2\n",
    "\n",
    "print(gen())\n",
    "for x in gen():\n",
    "    print(x)"
   ]
  },
  {
   "cell_type": "markdown",
   "metadata": {},
   "source": [
    "`yield from` pausees `gen`, and `sub_gen` tackes over until it is exhausted. "
   ]
  },
  {
   "cell_type": "code",
   "execution_count": 76,
   "metadata": {},
   "outputs": [
    {
     "name": "stdout",
     "output_type": "stream",
     "text": [
      "1\n",
      "1.1\n",
      "1.2\n",
      "--> Done\n",
      "2\n"
     ]
    }
   ],
   "source": [
    "def sub_gen():\n",
    "    yield 1.1\n",
    "    yield 1.2\n",
    "    return 'Done'\n",
    "\n",
    "def gen():\n",
    "    yield 1\n",
    "    result = yield from sub_gen()\n",
    "    print('-->', result)\n",
    "    yield 2\n",
    "\n",
    "for x in gen():\n",
    "    print(x)"
   ]
  },
  {
   "cell_type": "markdown",
   "metadata": {},
   "source": [
    "### Reinventing chain"
   ]
  },
  {
   "cell_type": "code",
   "execution_count": 77,
   "metadata": {},
   "outputs": [
    {
     "data": {
      "text/plain": [
       "['A', 'B', 'C', 0, 1, 2]"
      ]
     },
     "execution_count": 77,
     "metadata": {},
     "output_type": "execute_result"
    }
   ],
   "source": [
    "def chain(*iterables):\n",
    "    for it in iterables:\n",
    "        for i in it:\n",
    "            yield i\n",
    "\n",
    "s = 'ABC'\n",
    "r = range(3)\n",
    "list(chain(s, r))"
   ]
  },
  {
   "cell_type": "code",
   "execution_count": 78,
   "metadata": {},
   "outputs": [
    {
     "data": {
      "text/plain": [
       "['A', 'B', 'C', 0, 1, 2]"
      ]
     },
     "execution_count": 78,
     "metadata": {},
     "output_type": "execute_result"
    }
   ],
   "source": [
    "def chain(*iterables):\n",
    "    for i in iterables:\n",
    "        yield from i\n",
    "\n",
    "s = 'ABC'\n",
    "r = range(3)\n",
    "list(chain(s, r))"
   ]
  },
  {
   "cell_type": "markdown",
   "metadata": {},
   "source": [
    "### Traversing a Tree"
   ]
  },
  {
   "cell_type": "code",
   "execution_count": 79,
   "metadata": {},
   "outputs": [
    {
     "name": "stdout",
     "output_type": "stream",
     "text": [
      "BaseException\n",
      "\tException\n",
      "\t\tTypeError\n",
      "\t\t\tFloatOperation\n",
      "\t\t\tMultipartConversionError\n",
      "\t\tStopAsyncIteration\n",
      "\t\tStopIteration\n",
      "\t\tImportError\n",
      "\t\t\tModuleNotFoundError\n",
      "\t\t\t\tPackageNotFoundError\n",
      "\t\t\tZipImportError\n",
      "\t\tOSError\n",
      "\t\t\tConnectionError\n",
      "\t\t\t\tBrokenPipeError\n",
      "\t\t\t\tConnectionAbortedError\n",
      "\t\t\t\tConnectionRefusedError\n",
      "\t\t\t\tConnectionResetError\n",
      "\t\t\t\t\tRemoteDisconnected\n",
      "\t\t\tBlockingIOError\n",
      "\t\t\tChildProcessError\n",
      "\t\t\tFileExistsError\n",
      "\t\t\tFileNotFoundError\n",
      "\t\t\tIsADirectoryError\n",
      "\t\t\tNotADirectoryError\n",
      "\t\t\tInterruptedError\n",
      "\t\t\t\tInterruptedSystemCall\n",
      "\t\t\tPermissionError\n",
      "\t\t\tProcessLookupError\n",
      "\t\t\tTimeoutError\n",
      "\t\t\tUnsupportedOperation\n",
      "\t\t\therror\n",
      "\t\t\tgaierror\n",
      "\t\t\tSSLError\n",
      "\t\t\t\tSSLCertVerificationError\n",
      "\t\t\t\tSSLZeroReturnError\n",
      "\t\t\t\tSSLWantWriteError\n",
      "\t\t\t\tSSLWantReadError\n",
      "\t\t\t\tSSLSyscallError\n",
      "\t\t\t\tSSLEOFError\n",
      "\t\t\tError\n",
      "\t\t\t\tSameFileError\n",
      "\t\t\tSpecialFileError\n",
      "\t\t\tExecError\n",
      "\t\t\tReadError\n",
      "\t\t\tURLError\n",
      "\t\t\t\tHTTPError\n",
      "\t\t\t\tContentTooShortError\n",
      "\t\t\tBadGzipFile\n",
      "\t\tEOFError\n",
      "\t\t\tIncompleteReadError\n",
      "\t\tRuntimeError\n",
      "\t\t\tRecursionError\n",
      "\t\t\tNotImplementedError\n",
      "\t\t\t\tZMQVersionError\n",
      "\t\t\t\tStdinNotImplementedError\n",
      "\t\t\t_DeadlockError\n",
      "\t\t\tBrokenBarrierError\n",
      "\t\t\tBrokenExecutor\n",
      "\t\t\t\tBrokenThreadPool\n",
      "\t\t\tSendfileNotAvailableError\n",
      "\t\t\tExtractionError\n",
      "\t\t\tVariableError\n",
      "\t\tNameError\n",
      "\t\t\tUnboundLocalError\n",
      "\t\tAttributeError\n",
      "\t\t\tFrozenInstanceError\n",
      "\t\tSyntaxError\n",
      "\t\t\tIndentationError\n",
      "\t\t\t\tTabError\n",
      "\t\tLookupError\n",
      "\t\t\tIndexError\n",
      "\t\t\tKeyError\n",
      "\t\t\t\tNoSuchKernel\n",
      "\t\t\t\tUnknownBackend\n",
      "\t\t\tCodecRegistryError\n",
      "\t\tValueError\n",
      "\t\t\tUnicodeError\n",
      "\t\t\t\tUnicodeEncodeError\n",
      "\t\t\t\tUnicodeDecodeError\n",
      "\t\t\t\tUnicodeTranslateError\n",
      "\t\t\tUnsupportedOperation\n",
      "\t\t\tJSONDecodeError\n",
      "\t\t\tSSLCertVerificationError\n",
      "\t\t\tError\n",
      "\t\t\tUnsupportedDigestmodError\n",
      "\t\t\tIllegalMonthError\n",
      "\t\t\tIllegalWeekdayError\n",
      "\t\t\tParserError\n",
      "\t\t\tMessageDefect\n",
      "\t\t\t\tNoBoundaryInMultipartDefect\n",
      "\t\t\t\tStartBoundaryNotFoundDefect\n",
      "\t\t\t\tCloseBoundaryNotFoundDefect\n",
      "\t\t\t\tFirstHeaderLineIsContinuationDefect\n",
      "\t\t\t\tMisplacedEnvelopeHeaderDefect\n",
      "\t\t\t\tMissingHeaderBodySeparatorDefect\n",
      "\t\t\t\tMultipartInvariantViolationDefect\n",
      "\t\t\t\tInvalidMultipartContentTransferEncodingDefect\n",
      "\t\t\t\tUndecodableBytesDefect\n",
      "\t\t\t\tInvalidBase64PaddingDefect\n",
      "\t\t\t\tInvalidBase64CharactersDefect\n",
      "\t\t\t\tInvalidBase64LengthDefect\n",
      "\t\t\t\tHeaderDefect\n",
      "\t\t\t\t\tInvalidHeaderDefect\n",
      "\t\t\t\t\tHeaderMissingRequiredValue\n",
      "\t\t\t\t\tNonPrintableDefect\n",
      "\t\t\t\t\tObsoleteHeaderDefect\n",
      "\t\t\t\t\tNonASCIILocalPartDefect\n",
      "\t\t\t\t\tInvalidDateDefect\n",
      "\t\t\tClassNotFound\n",
      "\t\t\tClipboardEmpty\n",
      "\t\t\tMacroToEdit\n",
      "\t\t\tInvalidFileException\n",
      "\t\t\tUnequalIterablesError\n",
      "\t\t\tInvalidVersion\n",
      "\t\t\t_InvalidELFFileHeader\n",
      "\t\t\tInvalidWheelFilename\n",
      "\t\t\tInvalidSdistFilename\n",
      "\t\t\tInvalidSpecifier\n",
      "\t\t\tInvalidMarker\n",
      "\t\t\tUndefinedComparison\n",
      "\t\t\tUndefinedEnvironmentName\n",
      "\t\t\tInvalidRequirement\n",
      "\t\t\t\tRequirementParseError\n",
      "\t\t\tInvalidVersion\n",
      "\t\tAssertionError\n",
      "\t\tArithmeticError\n",
      "\t\t\tFloatingPointError\n",
      "\t\t\tOverflowError\n",
      "\t\t\tZeroDivisionError\n",
      "\t\t\t\tDivisionByZero\n",
      "\t\t\t\tDivisionUndefined\n",
      "\t\t\tDecimalException\n",
      "\t\t\t\tClamped\n",
      "\t\t\t\tRounded\n",
      "\t\t\t\t\tUnderflow\n",
      "\t\t\t\t\tOverflow\n",
      "\t\t\t\tInexact\n",
      "\t\t\t\t\tUnderflow\n",
      "\t\t\t\t\tOverflow\n",
      "\t\t\t\tSubnormal\n",
      "\t\t\t\t\tUnderflow\n",
      "\t\t\t\tDivisionByZero\n",
      "\t\t\t\tFloatOperation\n",
      "\t\t\t\tInvalidOperation\n",
      "\t\t\t\t\tConversionSyntax\n",
      "\t\t\t\t\tDivisionImpossible\n",
      "\t\t\t\t\tDivisionUndefined\n",
      "\t\t\t\t\tInvalidContext\n",
      "\t\tSystemError\n",
      "\t\t\tCodecRegistryError\n",
      "\t\tReferenceError\n",
      "\t\tMemoryError\n",
      "\t\tBufferError\n",
      "\t\tWarning\n",
      "\t\t\tUserWarning\n",
      "\t\t\t\tGetPassWarning\n",
      "\t\t\t\tFormatterWarning\n",
      "\t\t\tEncodingWarning\n",
      "\t\t\tDeprecationWarning\n",
      "\t\t\t\tProvisionalWarning\n",
      "\t\t\tPendingDeprecationWarning\n",
      "\t\t\tSyntaxWarning\n",
      "\t\t\tRuntimeWarning\n",
      "\t\t\t\tProactorSelectorThreadWarning\n",
      "\t\t\t\tUnknownTimezoneWarning\n",
      "\t\t\t\tPEP440Warning\n",
      "\t\t\tFutureWarning\n",
      "\t\t\t\tProvisionalCompleterWarning\n",
      "\t\t\tImportWarning\n",
      "\t\t\tUnicodeWarning\n",
      "\t\t\tBytesWarning\n",
      "\t\t\tResourceWarning\n",
      "\t\t\tDeprecatedTzFormatWarning\n",
      "\t\t\tPkgResourcesDeprecationWarning\n",
      "\t\t_OptionError\n",
      "\t\t_Error\n",
      "\t\terror\n",
      "\t\tVerbose\n",
      "\t\tError\n",
      "\t\tSubprocessError\n",
      "\t\t\tCalledProcessError\n",
      "\t\t\tTimeoutExpired\n",
      "\t\tZMQBaseError\n",
      "\t\t\tZMQError\n",
      "\t\t\t\tContextTerminated\n",
      "\t\t\t\tAgain\n",
      "\t\t\t\tInterruptedSystemCall\n",
      "\t\t\tZMQBindError\n",
      "\t\t\tNotDone\n",
      "\t\tError\n",
      "\t\terror\n",
      "\t\tPickleError\n",
      "\t\t\tPicklingError\n",
      "\t\t\tUnpicklingError\n",
      "\t\t_Stop\n",
      "\t\tTokenError\n",
      "\t\tStopTokenizing\n",
      "\t\tError\n",
      "\t\t\tCancelledError\n",
      "\t\t\tTimeoutError\n",
      "\t\t\tInvalidStateError\n",
      "\t\t_GiveupOnSendfile\n",
      "\t\tIncomplete\n",
      "\t\tClassFoundException\n",
      "\t\tEndOfBlock\n",
      "\t\tTimeoutError\n",
      "\t\tInvalidStateError\n",
      "\t\tLimitOverrunError\n",
      "\t\tQueueEmpty\n",
      "\t\tQueueFull\n",
      "\t\terror\n",
      "\t\tLZMAError\n",
      "\t\tRegistryError\n",
      "\t\t_GiveupOnFastCopy\n",
      "\t\tTraitError\n",
      "\t\tEmpty\n",
      "\t\tFull\n",
      "\t\tArgumentError\n",
      "\t\tCOMError\n",
      "\t\tReturnValueIgnoredError\n",
      "\t\tArgumentError\n",
      "\t\tArgumentTypeError\n",
      "\t\tConfigError\n",
      "\t\t\tConfigLoaderError\n",
      "\t\t\t\tArgumentError\n",
      "\t\t\tConfigFileNotFound\n",
      "\t\tConfigurableError\n",
      "\t\t\tMultipleInstanceError\n",
      "\t\tApplicationError\n",
      "\t\tInvalidPortNumber\n",
      "\t\tNoIPAddresses\n",
      "\t\tError\n",
      "\t\tBadZipFile\n",
      "\t\tLargeZipFile\n",
      "\t\tError\n",
      "\t\tMessageError\n",
      "\t\t\tMessageParseError\n",
      "\t\t\t\tHeaderParseError\n",
      "\t\t\t\tBoundaryError\n",
      "\t\t\tMultipartConversionError\n",
      "\t\t\tCharsetError\n",
      "\t\tDuplicateKernelError\n",
      "\t\tErrorDuringImport\n",
      "\t\tNotOneValueFound\n",
      "\t\tCannotEval\n",
      "\t\tOptionError\n",
      "\t\tBdbQuit\n",
      "\t\tRestart\n",
      "\t\tFindCmdError\n",
      "\t\tHomeDirError\n",
      "\t\tProfileDirError\n",
      "\t\tIPythonCoreError\n",
      "\t\t\tTryNext\n",
      "\t\t\tUsageError\n",
      "\t\t\tStdinNotImplementedError\n",
      "\t\tInputRejected\n",
      "\t\tGetoptError\n",
      "\t\tErrorToken\n",
      "\t\tPrefilterError\n",
      "\t\tAliasError\n",
      "\t\t\tInvalidAliasError\n",
      "\t\tError\n",
      "\t\t\tInterfaceError\n",
      "\t\t\tDatabaseError\n",
      "\t\t\t\tInternalError\n",
      "\t\t\t\tOperationalError\n",
      "\t\t\t\tProgrammingError\n",
      "\t\t\t\tIntegrityError\n",
      "\t\t\t\tDataError\n",
      "\t\t\t\tNotSupportedError\n",
      "\t\tWarning\n",
      "\t\tSpaceInInput\n",
      "\t\tDOMException\n",
      "\t\t\tIndexSizeErr\n",
      "\t\t\tDomstringSizeErr\n",
      "\t\t\tHierarchyRequestErr\n",
      "\t\t\tWrongDocumentErr\n",
      "\t\t\tInvalidCharacterErr\n",
      "\t\t\tNoDataAllowedErr\n",
      "\t\t\tNoModificationAllowedErr\n",
      "\t\t\tNotFoundErr\n",
      "\t\t\tNotSupportedErr\n",
      "\t\t\tInuseAttributeErr\n",
      "\t\t\tInvalidStateErr\n",
      "\t\t\tSyntaxErr\n",
      "\t\t\tInvalidModificationErr\n",
      "\t\t\tNamespaceErr\n",
      "\t\t\tInvalidAccessErr\n",
      "\t\t\tValidationErr\n",
      "\t\tValidationError\n",
      "\t\tEditReadOnlyBuffer\n",
      "\t\t_Retry\n",
      "\t\tInvalidLayoutError\n",
      "\t\tHeightIsUnknownError\n",
      "\t\tGuardRejection\n",
      "\t\tParserSyntaxError\n",
      "\t\tInternalParseError\n",
      "\t\t_PositionUpdatingFinished\n",
      "\t\tSimpleGetItemNotFound\n",
      "\t\tUncaughtAttributeError\n",
      "\t\tHasNoContext\n",
      "\t\tParamIssue\n",
      "\t\t_JediError\n",
      "\t\t\tInternalError\n",
      "\t\t\tWrongVersion\n",
      "\t\t\tRefactoringError\n",
      "\t\tOnErrorLeaf\n",
      "\t\tInvalidPythonEnvironment\n",
      "\t\tHTTPException\n",
      "\t\t\tNotConnected\n",
      "\t\t\tInvalidURL\n",
      "\t\t\tUnknownProtocol\n",
      "\t\t\tUnknownTransferEncoding\n",
      "\t\t\tUnimplementedFileMode\n",
      "\t\t\tIncompleteRead\n",
      "\t\t\tImproperConnectionState\n",
      "\t\t\t\tCannotSendRequest\n",
      "\t\t\t\tCannotSendHeader\n",
      "\t\t\t\tResponseNotReady\n",
      "\t\t\tBadStatusLine\n",
      "\t\t\t\tRemoteDisconnected\n",
      "\t\t\tLineTooLong\n",
      "\t\tInteractivelyDefined\n",
      "\t\tKillEmbedded\n",
      "\t\tError\n",
      "\t\t\tNoSuchProcess\n",
      "\t\t\t\tZombieProcess\n",
      "\t\t\tAccessDenied\n",
      "\t\t\tTimeoutExpired\n",
      "\t\tError\n",
      "\t\tTimeoutExpired\n",
      "\t\tTimeoutAbandoned\n",
      "\t\tKeyReuseError\n",
      "\t\tUnknownKeyError\n",
      "\t\tLeakedCallbackError\n",
      "\t\tBadYieldError\n",
      "\t\tReturnValueIgnoredError\n",
      "\t\tReturn\n",
      "\t\tQueueEmpty\n",
      "\t\tQueueFull\n",
      "\t\tDebuggerInitializationError\n",
      "\t\tExpatError\n",
      "\t\tError\n",
      "\t\t\tProtocolError\n",
      "\t\t\tResponseError\n",
      "\t\t\tFault\n",
      "\t\terror\n",
      "\t\tcom_error\n",
      "\t\tinternal_error\n",
      "\t\tParseBaseException\n",
      "\t\t\tParseException\n",
      "\t\t\tParseFatalException\n",
      "\t\t\t\tParseSyntaxException\n",
      "\t\tRecursiveGrammarException\n",
      "\t\tResolutionError\n",
      "\t\t\tVersionConflict\n",
      "\t\t\t\tContextualVersionConflict\n",
      "\t\t\tDistributionNotFound\n",
      "\t\t\tUnknownExtra\n",
      "\t\t_Error\n",
      "\t\tUnableToResolveVariableException\n",
      "\t\tInvalidTypeInArgsException\n",
      "\tGeneratorExit\n",
      "\tSystemExit\n",
      "\tKeyboardInterrupt\n",
      "\tCancelledError\n",
      "\tAbortThread\n"
     ]
    }
   ],
   "source": [
    "def tree(cls, level=0):\n",
    "    yield cls.__name__, level\n",
    "    for sub_cls in cls.__subclasses__():\n",
    "        yield from tree(sub_cls, level+1)\n",
    "\n",
    "def display(cls):\n",
    "    for cls_name, level in tree(cls):\n",
    "        indent = '\\t' * level\n",
    "        print(f'{indent}{cls_name}')\n",
    "\n",
    "display(BaseException)"
   ]
  },
  {
   "cell_type": "code",
   "execution_count": 80,
   "metadata": {},
   "outputs": [],
   "source": [
    "from keyword import kwlist\n",
    "from collections.abc import Iterator\n",
    "\n",
    "short_kw = (k for k in kwlist if len(k) < 5)                # type: abc.Generator\n",
    "\n",
    "long_kw : Iterator[str] = (k for k in kwlist if len(k) < 5) # type: abc.Iterator"
   ]
  },
  {
   "cell_type": "markdown",
   "metadata": {},
   "source": [
    "## Coroutine"
   ]
  },
  {
   "cell_type": "code",
   "execution_count": 94,
   "metadata": {},
   "outputs": [],
   "source": [
    "from collections.abc import Generator\n",
    "\n",
    "def averager() -> Generator[float, float, None]:\n",
    "    total = 0.0\n",
    "    count = 0\n",
    "    average = 0.0\n",
    "    while True:\n",
    "        term = yield average\n",
    "        total += term\n",
    "        count += 1\n",
    "        average = total / count\n",
    "    "
   ]
  },
  {
   "cell_type": "code",
   "execution_count": 95,
   "metadata": {},
   "outputs": [
    {
     "data": {
      "text/plain": [
       "0.0"
      ]
     },
     "execution_count": 95,
     "metadata": {},
     "output_type": "execute_result"
    }
   ],
   "source": [
    "coro_avg = averager()\n",
    "next(coro_avg)"
   ]
  },
  {
   "cell_type": "markdown",
   "metadata": {},
   "source": [
    "Create the coroutine object and start it. "
   ]
  },
  {
   "cell_type": "code",
   "execution_count": 96,
   "metadata": {},
   "outputs": [
    {
     "data": {
      "text/plain": [
       "10.0"
      ]
     },
     "execution_count": 96,
     "metadata": {},
     "output_type": "execute_result"
    }
   ],
   "source": [
    "coro_avg.send(10)"
   ]
  },
  {
   "cell_type": "code",
   "execution_count": 97,
   "metadata": {},
   "outputs": [
    {
     "data": {
      "text/plain": [
       "20.0"
      ]
     },
     "execution_count": 97,
     "metadata": {},
     "output_type": "execute_result"
    }
   ],
   "source": [
    "coro_avg.send(30)"
   ]
  },
  {
   "cell_type": "code",
   "execution_count": 98,
   "metadata": {},
   "outputs": [
    {
     "data": {
      "text/plain": [
       "15.0"
      ]
     },
     "execution_count": 98,
     "metadata": {},
     "output_type": "execute_result"
    }
   ],
   "source": [
    "coro_avg.send(5)"
   ]
  },
  {
   "cell_type": "code",
   "execution_count": 99,
   "metadata": {},
   "outputs": [],
   "source": [
    "coro_avg.close()"
   ]
  }
 ],
 "metadata": {
  "kernelspec": {
   "display_name": "Python 3",
   "language": "python",
   "name": "python3"
  },
  "language_info": {
   "codemirror_mode": {
    "name": "ipython",
    "version": 3
   },
   "file_extension": ".py",
   "mimetype": "text/x-python",
   "name": "python",
   "nbconvert_exporter": "python",
   "pygments_lexer": "ipython3",
   "version": "3.10.10"
  },
  "orig_nbformat": 4
 },
 "nbformat": 4,
 "nbformat_minor": 2
}
