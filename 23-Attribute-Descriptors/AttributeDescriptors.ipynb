{
 "cells": [
  {
   "cell_type": "markdown",
   "metadata": {},
   "source": [
    "# Attribute Descriptors"
   ]
  },
  {
   "cell_type": "markdown",
   "metadata": {},
   "source": [
    "The interpreter calls `__set_name__` on each descriptor it finds in a `class` body —— if the descriptor implements it. \n",
    "\n",
    "In this example the `LineItem` descriptor class doesn't need an `__init__`. Instead, `__set_name__` saves the same name of the storage attribute. "
   ]
  },
  {
   "cell_type": "code",
   "execution_count": 1,
   "metadata": {},
   "outputs": [],
   "source": [
    "class Quantity:\n",
    "\n",
    "    # `self` is the descriptor instance (not the managed instance), \n",
    "    # `owner` is the managed class, and `name` is the name of the attribute of `owner` \n",
    "    # to which this descriptor instance was assigned in the class body of `owner`. \n",
    "    def __set_name__(self, owner, name):\n",
    "        self.storage_name = name\n",
    "    \n",
    "    def __set__(self, instance, value):\n",
    "        if value > 0:\n",
    "            instance.__dict__[self.storage_name] = value\n",
    "        else:\n",
    "            msg = f'{self.storage_name} must be > 0'\n",
    "            raise ValueError(msg)\n",
    "    \n",
    "    def __get__(self, instance, owner):\n",
    "        return instance.__dict__[self.storage_name]"
   ]
  },
  {
   "cell_type": "markdown",
   "metadata": {},
   "source": [
    "`__set__` is called when there is an attempt to assign to the managed attribute. Here, `self` is the descriptor instance (e.g., `LineItem.weight` or `LineItem.price`), `instance` is the managed instance (a `LineItem` instance), and the `value` is the value being assigned. \n",
    "\n",
    "Note that `__get__` receives three arguments: `self`, `instance` and `owner`. The `owner` argument is a reference to the managed class (e.g., `LineItem`). "
   ]
  },
  {
   "cell_type": "code",
   "execution_count": 2,
   "metadata": {},
   "outputs": [],
   "source": [
    "class LineItem:\n",
    "    weight = Quantity()\n",
    "    price = Quantity()\n",
    "\n",
    "    def __init__(self, description, weight, price):\n",
    "        self.descripton = description\n",
    "        self.weight = weight\n",
    "        self.price = price\n",
    "\n",
    "    def subtotal(self):\n",
    "        return self.weight * self.price"
   ]
  },
  {
   "cell_type": "code",
   "execution_count": 3,
   "metadata": {},
   "outputs": [
    {
     "name": "stdout",
     "output_type": "stream",
     "text": [
      "Opps\n"
     ]
    }
   ],
   "source": [
    "try:\n",
    "    li = LineItem('as', -1, 0)\n",
    "except ValueError:\n",
    "    print('Opps')"
   ]
  },
  {
   "cell_type": "code",
   "execution_count": 4,
   "metadata": {},
   "outputs": [
    {
     "data": {
      "text/plain": [
       "2"
      ]
     },
     "execution_count": 4,
     "metadata": {},
     "output_type": "execute_result"
    }
   ],
   "source": [
    "li = LineItem(\"as\", 1, 2)\n",
    "li.subtotal()"
   ]
  },
  {
   "cell_type": "markdown",
   "metadata": {},
   "source": [
    "### A New Descriptor Type"
   ]
  },
  {
   "cell_type": "code",
   "execution_count": 5,
   "metadata": {},
   "outputs": [],
   "source": [
    "import abc\n",
    "\n",
    "class Validated(abc.ABC):\n",
    "\n",
    "    def __set_name__(self, owner, name):\n",
    "        self.storage_name = name\n",
    "\n",
    "    def __set__(self, instance, value):\n",
    "        value = self.validated(self.storage_name, value)\n",
    "        instance.__dict__[self.storage_name] = value\n",
    "\n",
    "    @abc.abstractmethod\n",
    "    def validated(self, name, value):\n",
    "        \"\"\"return validate value or raise ValueError\"\"\""
   ]
  },
  {
   "cell_type": "markdown",
   "metadata": {},
   "source": [
    "`__set__` delegates validation to the `validate` method, then uses the returned `value` to update the stored value. \n",
    "\n",
    "`validate` is an abstract method; this is the template method. "
   ]
  },
  {
   "cell_type": "markdown",
   "metadata": {},
   "source": [
    "## Overriding Versus Nonoverriding Descriptors"
   ]
  },
  {
   "cell_type": "code",
   "execution_count": 6,
   "metadata": {},
   "outputs": [],
   "source": [
    "def cls_name(obj_or_cls):\n",
    "    cls = type(obj_or_cls)\n",
    "    if cls is type:\n",
    "        cls = obj_or_cls\n",
    "    return cls.__name__.split('.')[-1]\n",
    "\n",
    "def display(obj):\n",
    "    cls = type(obj)\n",
    "    if cls is type:\n",
    "        return f'<class {obj.__name__}>'\n",
    "    elif cls in [type(None), int]:\n",
    "        return repr(obj)\n",
    "    else:\n",
    "        return f'<{cls_name(obj)} object>'\n",
    "\n",
    "def print_args(name, *args):\n",
    "    pseudo_args = ', '.join(display(x) for x in args)\n",
    "    print(f'-> {cls_name(args[0])}.__{name}__({pseudo_args})')"
   ]
  },
  {
   "cell_type": "markdown",
   "metadata": {},
   "source": [
    "A descriptor that implements the `__set__` method is an *overriding descriptor*. \n",
    "\n",
    "An overriding descriptor can have no `__get__` method. \n",
    "\n",
    "A descriptor that does not implements the `__set__` method is an *nonoverriding descriptor*. "
   ]
  },
  {
   "cell_type": "code",
   "execution_count": 7,
   "metadata": {},
   "outputs": [],
   "source": [
    "class Overriding:\n",
    "    \"\"\"a.k.a. data descriptor or enforced descriptor\"\"\"\n",
    "\n",
    "    def __get__(self, instance, owner):\n",
    "        print_args('get', self, instance, owner) \n",
    "\n",
    "    def __set__(self, instance, value):\n",
    "        print_args('set', self, instance, value)\n",
    "\n",
    "\n",
    "class OverridingNoGet:  \n",
    "    \"\"\"an overriding descriptor without `__get__` \"\"\"\n",
    "\n",
    "    def __set__(self, instance, value):\n",
    "        print_args('set', self, instance, value)\n",
    "\n",
    "\n",
    "class NonOverriding: \n",
    "    \"\"\"a.k.a. non-data or shadowable descriptor\"\"\"\n",
    "\n",
    "    def __get__(self, instance, owner):\n",
    "        print_args('get', self, instance, owner)\n",
    "\n",
    "\n",
    "class Managed: \n",
    "    over = Overriding()\n",
    "    over_no_get = OverridingNoGet()\n",
    "    non_over = NonOverriding()\n",
    "\n",
    "    def spam(self): \n",
    "        print(f'-> Managed.spam({display(self)})')"
   ]
  },
  {
   "cell_type": "code",
   "execution_count": 8,
   "metadata": {},
   "outputs": [
    {
     "name": "stdout",
     "output_type": "stream",
     "text": [
      "-> Overriding.__get__(<Overriding object>, <Managed object>, <class Managed>)\n",
      "-> Overriding.__get__(<Overriding object>, None, <class Managed>)\n",
      "-> Overriding.__set__(<Overriding object>, <Managed object>, 7)\n",
      "-> Overriding.__get__(<Overriding object>, <Managed object>, <class Managed>)\n",
      "-> Overriding.__get__(<Overriding object>, <Managed object>, <class Managed>)\n",
      "{'over': 8}\n"
     ]
    }
   ],
   "source": [
    "obj = Managed()  \n",
    "obj.over\n",
    "Managed.over\n",
    "obj.over = 7\n",
    "obj.over\n",
    "obj.__dict__['over'] = 8\n",
    "\n",
    "obj.over\n",
    "print(vars(obj))"
   ]
  },
  {
   "cell_type": "code",
   "execution_count": 9,
   "metadata": {},
   "outputs": [
    {
     "name": "stdout",
     "output_type": "stream",
     "text": [
      "-> OverridingNoGet.__set__(<OverridingNoGet object>, <Managed object>, 7)\n",
      "9\n",
      "-> OverridingNoGet.__set__(<OverridingNoGet object>, <Managed object>, 7)\n",
      "9\n"
     ]
    }
   ],
   "source": [
    "obj.over_no_get\n",
    "Managed.over_no_get\n",
    "obj.over_no_get = 7\n",
    "obj.over_no_get\n",
    "obj.__dict__['over_no_get'] = 9\n",
    "print(obj.over_no_get)\n",
    "obj.over_no_get = 7\n",
    "print(obj.over_no_get)"
   ]
  },
  {
   "cell_type": "code",
   "execution_count": 10,
   "metadata": {},
   "outputs": [
    {
     "name": "stdout",
     "output_type": "stream",
     "text": [
      "-> NonOverriding.__get__(<NonOverriding object>, <Managed object>, <class Managed>)\n",
      "7\n",
      "-> NonOverriding.__get__(<NonOverriding object>, None, <class Managed>)\n",
      "-> NonOverriding.__get__(<NonOverriding object>, <Managed object>, <class Managed>)\n"
     ]
    }
   ],
   "source": [
    "obj = Managed()\n",
    "obj.non_over\n",
    "obj.non_over = 7\n",
    "print(obj.non_over)\n",
    "Managed.non_over\n",
    "del obj.non_over\n",
    "obj.non_over"
   ]
  },
  {
   "cell_type": "markdown",
   "metadata": {},
   "source": [
    "### Methods Are Descriptors"
   ]
  },
  {
   "cell_type": "code",
   "execution_count": 12,
   "metadata": {},
   "outputs": [
    {
     "name": "stdout",
     "output_type": "stream",
     "text": [
      "<bound method Managed.spam of <__main__.Managed object at 0x000001D23DE51090>>\n",
      "<function Managed.spam at 0x000001D23DE78CA0>\n",
      "7\n"
     ]
    }
   ],
   "source": [
    "obj = Managed()\n",
    "print(obj.spam)\n",
    "print(Managed.spam)\n",
    "obj.spam = 7\n",
    "print(obj.spam)"
   ]
  },
  {
   "cell_type": "code",
   "execution_count": 14,
   "metadata": {},
   "outputs": [],
   "source": [
    "import collections\n",
    "\n",
    "\n",
    "class Text(collections.UserString):\n",
    "\n",
    "    def __repr__(self):\n",
    "        return 'Text({!r})'.format(self.data)\n",
    "\n",
    "    def reverse(self):\n",
    "        return self[::-1]"
   ]
  },
  {
   "cell_type": "code",
   "execution_count": 17,
   "metadata": {},
   "outputs": [
    {
     "name": "stdout",
     "output_type": "stream",
     "text": [
      "forward\n",
      "drawrof\n",
      "drawkcab\n",
      "<class 'function'> <class 'method'>\n"
     ]
    }
   ],
   "source": [
    "word = Text('forward')\n",
    "print(word)\n",
    "\n",
    "Text('forward')\n",
    "print(word.reverse())\n",
    "\n",
    "Text('drawrof')\n",
    "print(Text.reverse(Text('backward')))\n",
    "\n",
    "Text('drawkcab')\n",
    "print(type(Text.reverse), type(word.reverse))"
   ]
  },
  {
   "cell_type": "markdown",
   "metadata": {},
   "source": [
    "A method called on the class works as a function. "
   ]
  },
  {
   "cell_type": "code",
   "execution_count": 20,
   "metadata": {},
   "outputs": [
    {
     "name": "stdout",
     "output_type": "stream",
     "text": [
      "['diaper', (30, 20, 10), Text('desserts')]\n",
      "<bound method Text.reverse of Text('forward')>\n",
      "<function Text.reverse at 0x000001D23DFE6320>\n"
     ]
    }
   ],
   "source": [
    "print(list(map(Text.reverse, ['repaid', (10, 20, 30), Text('stressed')])))\n",
    "\n",
    "print(Text.reverse.__get__(word))\n",
    "print(Text.reverse.__get__(None, Text))"
   ]
  },
  {
   "cell_type": "code",
   "execution_count": 21,
   "metadata": {},
   "outputs": [
    {
     "name": "stdout",
     "output_type": "stream",
     "text": [
      "<bound method Text.reverse of Text('forward')>\n",
      "forward\n",
      "True\n"
     ]
    }
   ],
   "source": [
    "print(word.reverse)\n",
    "print(word.reverse.__self__)\n",
    "print(word.reverse.__func__ is Text.reverse)"
   ]
  },
  {
   "cell_type": "markdown",
   "metadata": {},
   "source": [
    "The bound method object also has a `__call__` method, which handles the actual invocation. This method calls the original function referenced in `__func__`, passing the `__self__` attribute of the method as the first argument. "
   ]
  }
 ],
 "metadata": {
  "kernelspec": {
   "display_name": "Python 3",
   "language": "python",
   "name": "python3"
  },
  "language_info": {
   "codemirror_mode": {
    "name": "ipython",
    "version": 3
   },
   "file_extension": ".py",
   "mimetype": "text/x-python",
   "name": "python",
   "nbconvert_exporter": "python",
   "pygments_lexer": "ipython3",
   "version": "3.10.10"
  },
  "orig_nbformat": 4
 },
 "nbformat": 4,
 "nbformat_minor": 2
}
