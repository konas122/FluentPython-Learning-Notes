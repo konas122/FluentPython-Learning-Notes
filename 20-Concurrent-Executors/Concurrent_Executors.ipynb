{
 "cells": [
  {
   "cell_type": "markdown",
   "metadata": {},
   "source": [
    "# Concurrent Executors"
   ]
  },
  {
   "cell_type": "code",
   "execution_count": 4,
   "metadata": {},
   "outputs": [],
   "source": [
    "import time\n",
    "from pathlib import Path\n",
    "from typing import Callable\n",
    "\n",
    "import httpx\n",
    "\n",
    "\n",
    "POP20_CC = ('CN IN US ID BR PK NG BD RU JP '\n",
    "            'MX PH VN ET EG DE IR TR CD FR').split()  \n",
    "\n",
    "BASE_URL = 'https://www.fluentpython.com/data/flags'  \n",
    "DEST_DIR = Path('downloaded')                        \n",
    "\n",
    "\n",
    "def save_flag(img: bytes, filename: str) -> None:    \n",
    "    (DEST_DIR / filename).write_bytes(img)\n",
    "\n",
    "\n",
    "def get_flag(cc: str) -> bytes: \n",
    "    url = f'{BASE_URL}/{cc}/{cc}.gif'.lower()\n",
    "    resp = httpx.get(url, timeout=6.1,     \n",
    "                     follow_redirects=True) \n",
    "    resp.raise_for_status() \n",
    "    return resp.content\n",
    "    "
   ]
  },
  {
   "cell_type": "markdown",
   "metadata": {},
   "source": [
    "## A Sequential Download"
   ]
  },
  {
   "cell_type": "code",
   "execution_count": 5,
   "metadata": {},
   "outputs": [],
   "source": [
    "def download_many(cc_list: list[str]) -> int:  \n",
    "    for cc in sorted(cc_list):                \n",
    "        image = get_flag(cc)\n",
    "        save_flag(image, f'{cc}.gif')\n",
    "        print(cc, end=' ', flush=True)       \n",
    "    return len(cc_list)\n",
    "\n",
    "\n",
    "def main(downloader: Callable[[list[str]], int]) -> None: \n",
    "    DEST_DIR.mkdir(exist_ok=True)                        \n",
    "    t0 = time.perf_counter()                              \n",
    "    count = downloader(POP20_CC)\n",
    "    elapsed = time.perf_counter() - t0\n",
    "    print(f'\\n{count} downloads in {elapsed:.2f}s')\n",
    "    "
   ]
  },
  {
   "cell_type": "code",
   "execution_count": 7,
   "metadata": {},
   "outputs": [
    {
     "name": "stdout",
     "output_type": "stream",
     "text": [
      "BD BR CD CN DE EG ET FR ID IN IR JP MX NG PH PK RU TR US VN \n",
      "20 downloads in 36.17s\n"
     ]
    }
   ],
   "source": [
    "main(download_many)"
   ]
  },
  {
   "cell_type": "markdown",
   "metadata": {},
   "source": [
    "## Downloading with `concurrent.futures`"
   ]
  },
  {
   "cell_type": "code",
   "execution_count": 8,
   "metadata": {},
   "outputs": [],
   "source": [
    "from concurrent import futures\n",
    "\n",
    "\n",
    "def download_one(cc:str):\n",
    "    image = get_flag(cc)\n",
    "    save_flag(image, f'{cc}.gif')\n",
    "    print(cc, end=' ', flush=True)\n",
    "    return cc\n",
    "\n",
    "\n",
    "def download_many(cc_list: list[str]) -> int:\n",
    "    with futures.ThreadPoolExecutor() as executor:\n",
    "        res = executor.map(download_one, sorted(cc_list))\n",
    "    return len(list(res))\n",
    "    "
   ]
  },
  {
   "cell_type": "code",
   "execution_count": 9,
   "metadata": {},
   "outputs": [
    {
     "name": "stdout",
     "output_type": "stream",
     "text": [
      "BD JP CN CD IN ID ET EG NG PK TR RU PH FR IR DE MX VN US BR \n",
      "20 downloads in 3.47s\n"
     ]
    }
   ],
   "source": [
    "main(download_many)"
   ]
  },
  {
   "cell_type": "code",
   "execution_count": 10,
   "metadata": {},
   "outputs": [],
   "source": [
    "def download_many(cc_list: list[str]) -> int:\n",
    "    cc_list = cc_list[:5]\n",
    "    with futures.ThreadPoolExecutor(max_workers=3) as executor:\n",
    "        todo: list[futures.Future] = []\n",
    "        for cc in sorted(cc_list):\n",
    "            future = executor.submit(download_one, cc)\n",
    "            todo.append(future)\n",
    "            print(f'Scheduled for {cc}: {future}')\n",
    "        \n",
    "        for count, future in enumerate(futures.as_completed(todo), 1):\n",
    "            res: str = future.result()\n",
    "            print(f'{future}\\tresult: {res!r}')\n",
    "        return count\n"
   ]
  },
  {
   "cell_type": "code",
   "execution_count": 11,
   "metadata": {},
   "outputs": [
    {
     "name": "stdout",
     "output_type": "stream",
     "text": [
      "Scheduled for BR: <Future at 0x1996338a230 state=running>\n",
      "Scheduled for CN: <Future at 0x19965121a80 state=running>\n",
      "Scheduled for ID: <Future at 0x1996531ce20 state=running>\n",
      "Scheduled for IN: <Future at 0x199652b9420 state=pending>\n",
      "Scheduled for US: <Future at 0x199652b8fa0 state=pending>\n",
      "ID <Future at 0x1996531ce20 state=finished returned str>\tresult: 'ID'\n",
      "BR <Future at 0x1996338a230 state=finished returned str>\tresult: 'BR'\n",
      "CN <Future at 0x19965121a80 state=finished returned str>\tresult: 'CN'\n",
      "US <Future at 0x199652b8fa0 state=finished returned str>\tresult: 'US'\n",
      "IN <Future at 0x199652b9420 state=finished returned str>\tresult: 'IN'\n",
      "\n",
      "5 downloads in 2.55s\n"
     ]
    }
   ],
   "source": [
    "main(download_many)"
   ]
  },
  {
   "cell_type": "markdown",
   "metadata": {},
   "source": [
    "## Experimenting with `Executor.map`"
   ]
  },
  {
   "cell_type": "code",
   "execution_count": 19,
   "metadata": {},
   "outputs": [
    {
     "name": "stdout",
     "output_type": "stream",
     "text": [
      "[09:26:09] Script starting. \n",
      "[09:26:09] loiter(0): doing nothing for 0...\n",
      "[09:26:09] loiter(0): done. \n",
      "[09:26:09] \tloiter(1): doing nothing for 1...\n",
      "[09:26:09] \t\tloiter(2): doing nothing for 2...\n",
      "[09:26:09] \t\t\tloiter(3): doing nothing for 3...\n",
      "[09:26:09] Waiting for individual results: \n",
      "[09:26:09] result 0: 0\n",
      "[09:26:10] \tloiter(1): done. \n",
      "[09:26:10] \t\t\t\tloiter(4): doing nothing for 4...\n",
      "[09:26:10] result 1: 10\n",
      "[09:26:11] \t\tloiter(2): done. \n",
      "[09:26:11] result 2: 20\n",
      "[09:26:12] \t\t\tloiter(3): done. \n",
      "[09:26:12] result 3: 30\n",
      "[09:26:14] \t\t\t\tloiter(4): done. \n",
      "[09:26:14] result 4: 40\n",
      "[09:26:14] Results: <generator object Executor.map.<locals>.result_iterator at 0x000001996541BA00>\n"
     ]
    }
   ],
   "source": [
    "from time import sleep, strftime\n",
    "from concurrent import futures\n",
    "\n",
    "\n",
    "def display(*args):\n",
    "    print(strftime('[%H:%M:%S] '), end='')\n",
    "    print(*args)\n",
    "\n",
    "\n",
    "def loiter(n):\n",
    "    msg = '{}loiter({}): doing nothing for {}...'\n",
    "    display(msg.format('\\t'*n, n, n))\n",
    "    sleep(n)\n",
    "    msg = '{}loiter({}): done. '\n",
    "    display(msg.format('\\t'*n, n))\n",
    "    return n * 10\n",
    "\n",
    "\n",
    "def main():\n",
    "    display('Script starting. ')\n",
    "    executor = futures.ThreadPoolExecutor(max_workers=3)\n",
    "    results = executor.map(loiter, range(5))\n",
    "    display('Waiting for individual results: ')\n",
    "    for i, result in enumerate(results):\n",
    "        display(f'result {i}: {result}')\n",
    "    display('Results:', results)\n",
    "\n",
    "\n",
    "if __name__ == \"__main__\":\n",
    "    main()"
   ]
  },
  {
   "cell_type": "markdown",
   "metadata": {},
   "source": [
    "Integrating `tqdm` provides an opportunity to look deeper into how the concurrent scripts actuallu work, by forcing us to use the `futures.as_completed` and the `asyncio.as_completed` functions so that `tqdm` can display progress as each future is completed. "
   ]
  },
  {
   "cell_type": "code",
   "execution_count": 27,
   "metadata": {},
   "outputs": [
    {
     "name": "stderr",
     "output_type": "stream",
     "text": [
      "100%|██████████| 10/10 [00:01<00:00,  9.05it/s]\n"
     ]
    }
   ],
   "source": [
    "from tqdm import tqdm\n",
    "for i in tqdm(range(10)):\n",
    "    time.sleep(.1)"
   ]
  }
 ],
 "metadata": {
  "kernelspec": {
   "display_name": "Python 3",
   "language": "python",
   "name": "python3"
  },
  "language_info": {
   "codemirror_mode": {
    "name": "ipython",
    "version": 3
   },
   "file_extension": ".py",
   "mimetype": "text/x-python",
   "name": "python",
   "nbconvert_exporter": "python",
   "pygments_lexer": "ipython3",
   "version": "3.10.10"
  },
  "orig_nbformat": 4
 },
 "nbformat": 4,
 "nbformat_minor": 2
}
