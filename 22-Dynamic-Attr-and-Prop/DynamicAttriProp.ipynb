{
 "cells": [
  {
   "cell_type": "markdown",
   "metadata": {},
   "source": [
    "# Dynamic Attribution and Properties"
   ]
  },
  {
   "cell_type": "markdown",
   "metadata": {},
   "source": [
    "## Data Wrangling with Dynamic Attributes"
   ]
  },
  {
   "cell_type": "code",
   "execution_count": 1,
   "metadata": {},
   "outputs": [],
   "source": [
    "import json\n",
    "\n",
    "with open('data/osconfeed.json') as fp:\n",
    "    feed = json.load(fp)"
   ]
  },
  {
   "cell_type": "code",
   "execution_count": 2,
   "metadata": {},
   "outputs": [
    {
     "data": {
      "text/plain": [
       "['conferences', 'events', 'speakers', 'venues']"
      ]
     },
     "execution_count": 2,
     "metadata": {},
     "output_type": "execute_result"
    }
   ],
   "source": [
    "sorted(feed['Schedule'].keys())"
   ]
  },
  {
   "cell_type": "code",
   "execution_count": 3,
   "metadata": {},
   "outputs": [
    {
     "name": "stdout",
     "output_type": "stream",
     "text": [
      "  1\tconferences\n",
      " 484\tevents\n",
      " 357\tspeakers\n",
      " 53\tvenues\n"
     ]
    }
   ],
   "source": [
    "for key, value in sorted(feed['Schedule'].items()):\n",
    "    print(f'{len(value): 3}\\t{key}')"
   ]
  },
  {
   "cell_type": "code",
   "execution_count": 4,
   "metadata": {},
   "outputs": [
    {
     "data": {
      "text/plain": [
       "'Carina C. Zona'"
      ]
     },
     "execution_count": 4,
     "metadata": {},
     "output_type": "execute_result"
    }
   ],
   "source": [
    "feed['Schedule']['speakers'][-1]['name']"
   ]
  },
  {
   "cell_type": "markdown",
   "metadata": {},
   "source": [
    "---"
   ]
  },
  {
   "cell_type": "code",
   "execution_count": 5,
   "metadata": {},
   "outputs": [],
   "source": [
    "import keyword\n",
    "from collections import abc\n",
    "\n",
    "\n",
    "class FrozenJSON:\n",
    "    \"\"\" A read-only facade for navigating a JSON-like object\n",
    "        using attribute natation\n",
    "    \"\"\"\n",
    "\n",
    "    # As a class method, the first argument `__new__` gets is the class itself\n",
    "    def __new__(cls, arg):\n",
    "        if isinstance(arg, abc.Mapping):\n",
    "            # The default behavior is to delegate to the `__new__` of a superclass. \n",
    "            return super().__new__(cls)\n",
    "        # The remaining lines of `__new__` are exactly as in the old `build` method. \n",
    "        elif isinstance(arg, abc.MutableSequence):\n",
    "            return [cls(item) for item in arg]\n",
    "        else:\n",
    "            return arg\n",
    "\n",
    "    def __init__(self, mapping):\n",
    "        self.__data = {}\n",
    "        for key, value in mapping.items():\n",
    "            if keyword.iskeyword(key):\n",
    "                key += '_'\n",
    "            self.__data[key] = value\n",
    "    \n",
    "    def __getattr__(self, name):\n",
    "        try:\n",
    "            return getattr(self.__data, name)\n",
    "        except AttributeError:\n",
    "        # Now we just call the `FrozenJSON` class, which Python handles by calling `FrozenJSON.__new__`. \n",
    "            return FrozenJSON.build(self.__data[name])\n",
    "    \n",
    "    def __dir__(self):\n",
    "        return self.__data.keys()\n",
    "    \n",
    "    @classmethod\n",
    "    def build(cls, obj):\n",
    "        if isinstance(obj, abc.Mapping):\n",
    "            return cls(obj)\n",
    "        elif isinstance(obj, abc.MutableSequence):\n",
    "            return [cls.build(item) for item in obj]\n",
    "        return obj"
   ]
  },
  {
   "cell_type": "code",
   "execution_count": 6,
   "metadata": {},
   "outputs": [
    {
     "data": {
      "text/plain": [
       "dict_keys(['Schedule'])"
      ]
     },
     "execution_count": 6,
     "metadata": {},
     "output_type": "execute_result"
    }
   ],
   "source": [
    "raw_feed = json.load(open('data/osconfeed.json'))\n",
    "\n",
    "feed_json = FrozenJSON(raw_feed)\n",
    "feed_json.keys()"
   ]
  },
  {
   "cell_type": "code",
   "execution_count": 7,
   "metadata": {},
   "outputs": [
    {
     "data": {
      "text/plain": [
       "357"
      ]
     },
     "execution_count": 7,
     "metadata": {},
     "output_type": "execute_result"
    }
   ],
   "source": [
    "len(feed_json.Schedule.speakers)"
   ]
  },
  {
   "cell_type": "code",
   "execution_count": 8,
   "metadata": {},
   "outputs": [
    {
     "data": {
      "text/plain": [
       "<__main__.FrozenJSON at 0x1c959be2890>"
      ]
     },
     "execution_count": 8,
     "metadata": {},
     "output_type": "execute_result"
    }
   ],
   "source": [
    "talk = feed_json.Schedule.events[40]\n",
    "talk"
   ]
  },
  {
   "cell_type": "code",
   "execution_count": 9,
   "metadata": {},
   "outputs": [
    {
     "data": {
      "text/plain": [
       "'There *Will* Be Bugs'"
      ]
     },
     "execution_count": 9,
     "metadata": {},
     "output_type": "execute_result"
    }
   ],
   "source": [
    "talk.name"
   ]
  },
  {
   "cell_type": "code",
   "execution_count": 10,
   "metadata": {},
   "outputs": [
    {
     "name": "stdout",
     "output_type": "stream",
     "text": [
      "Trying to read a missing attribute. \n"
     ]
    }
   ],
   "source": [
    "try:\n",
    "    print(talk.flavor)\n",
    "except KeyError:\n",
    "    print(f'Trying to read a missing attribute. ')"
   ]
  },
  {
   "cell_type": "markdown",
   "metadata": {},
   "source": [
    "## Computed Properties"
   ]
  },
  {
   "cell_type": "code",
   "execution_count": 11,
   "metadata": {},
   "outputs": [],
   "source": [
    "import json\n",
    "import inspect\n",
    "\n",
    "JSON_PATH = 'data/osconfeed.json'\n",
    "\n",
    "\n",
    "class Record:\n",
    "\n",
    "    __index = None      # private class attribute will eventually hold a reference to the `dict` returned by `load`. \n",
    "\n",
    "    def __init__(self, **kwargs) -> None:\n",
    "        self.__dict__.update(kwargs)\n",
    "    \n",
    "    def __repr__(self):\n",
    "        return f'<{self.__class__.__name__} serial={self.serial!r}>'\n",
    "    \n",
    "    @staticmethod\n",
    "    def fetch(key):\n",
    "        if Record.__index is None:\n",
    "            Record.__index = load()\n",
    "        # Use it to retrieve the record with the given `key`\n",
    "        return Record.__index[key]\n",
    "\n",
    "\n",
    "def load(path=JSON_PATH):\n",
    "    records = {}\n",
    "    with open(path) as fp:\n",
    "        raw_data = json.load(fp)\n",
    "    for collection, raw_records in raw_data['Schedule'].items():\n",
    "        record_type = collection[:-1]\n",
    "        # Capitalize the `record_type` to get a possible class;\n",
    "        # e.g., `event` becomes `Event`. \n",
    "        cls_name = record_type.capitalize()\n",
    "        # Get an object by that name from the module global scope;\n",
    "        # get the `Record` class if there's no such object. \n",
    "        cls = globals().get(cls_name, Record)\n",
    "        if inspect.isclass(cls) and issubclass(cls, Record):\n",
    "            factory = cls\n",
    "        else:\n",
    "            factory = Record\n",
    "        for raw_record in raw_records:\n",
    "            key = f'{record_type}.{raw_record[\"serial\"]}'\n",
    "            records[key] = factory(**raw_record)\n",
    "    return records"
   ]
  },
  {
   "cell_type": "code",
   "execution_count": 12,
   "metadata": {},
   "outputs": [
    {
     "data": {
      "text/plain": [
       "<Record serial=3471>"
      ]
     },
     "execution_count": 12,
     "metadata": {},
     "output_type": "execute_result"
    }
   ],
   "source": [
    "records = load()\n",
    "speaker = records['speaker.3471']\n",
    "speaker"
   ]
  },
  {
   "cell_type": "code",
   "execution_count": 13,
   "metadata": {},
   "outputs": [
    {
     "data": {
      "text/plain": [
       "('Anna Martelli Ravenscroft', 'annaraven')"
      ]
     },
     "execution_count": 13,
     "metadata": {},
     "output_type": "execute_result"
    }
   ],
   "source": [
    "speaker.name, speaker.twitter"
   ]
  },
  {
   "cell_type": "markdown",
   "metadata": {},
   "source": [
    "---"
   ]
  },
  {
   "cell_type": "code",
   "execution_count": 14,
   "metadata": {},
   "outputs": [],
   "source": [
    "from functools import cache\n",
    "\n",
    "class Event(Record):\n",
    "\n",
    "    def __repr__(self):\n",
    "        try:\n",
    "            return f'<{self.__class__.__name__} {self.name!r}>'\n",
    "        except AttributeError:\n",
    "            return super().__repr__()\n",
    "    \n",
    "    # The `venue` property builds a key from the `venue_serial` attribute, and passes it to the `fetch` class method, \n",
    "    # inherited from `Record` (the reason for using `self.__class__` is explained shortly). \n",
    "    @property\n",
    "    @cache\n",
    "    def venue(self):\n",
    "        key = f'venue.{self.venue_serial}'\n",
    "        return self.__class__.fetch(key)\n",
    "    \n",
    "    # `@cache_property` will overide\n",
    "    @property\n",
    "    @cache\n",
    "    def speakers(self):\n",
    "        # The data we want is in a `speakers` attribute, but we must retrive it directly from \n",
    "        # the instance `__dict__` to avoid a recursive call to the `speakers` propertiy. \n",
    "        spkr_serials = self.__dict__['speakers']  \n",
    "        fetch = self.__class__.fetch\n",
    "        return [fetch(f'speaker.{key}')\n",
    "                for key in spkr_serials]"
   ]
  },
  {
   "cell_type": "markdown",
   "metadata": {},
   "source": [
    "Inside the `speakers` method, trying to read `self.speakers` will invoke the property itself, quickly raising a `RecursionError`. \n",
    "\n",
    "However, if we read the same data via `self.__dict__['speakers']`, Python's usual algorithm for retrieving attributes is bypassed, the property is not called, and the recursion is avoided. \n",
    "\n",
    "For this reason, reading or writing data directly to an object's `__dict__` is a common Python metaprogramming trick. "
   ]
  },
  {
   "cell_type": "code",
   "execution_count": 15,
   "metadata": {},
   "outputs": [
    {
     "data": {
      "text/plain": [
       "<Event 'There *Will* Be Bugs'>"
      ]
     },
     "execution_count": 15,
     "metadata": {},
     "output_type": "execute_result"
    }
   ],
   "source": [
    "event = Record.fetch('event.33950')\n",
    "event"
   ]
  },
  {
   "cell_type": "code",
   "execution_count": 16,
   "metadata": {},
   "outputs": [
    {
     "name": "stdout",
     "output_type": "stream",
     "text": [
      "<Record serial=1449> 1449\n"
     ]
    }
   ],
   "source": [
    "print(event.venue, event.venue_serial)"
   ]
  },
  {
   "cell_type": "markdown",
   "metadata": {},
   "source": [
    "## Using a Property for Attribute Validation"
   ]
  },
  {
   "cell_type": "code",
   "execution_count": 17,
   "metadata": {},
   "outputs": [],
   "source": [
    "class LineItem:\n",
    "\n",
    "    data = 'the class data attr'\n",
    "\n",
    "    def __init__(self, description, weight, price):\n",
    "        self.descripton = description\n",
    "        self.weight = weight\n",
    "        self.price = price\n",
    "\n",
    "    def subtotal(self):\n",
    "        return self.weight * self.price\n",
    "\n",
    "    # `@property` decorates the getter method. \n",
    "    @property\n",
    "    def weight(self):\n",
    "        return self.__weight\n",
    "\n",
    "    # The decorated getter has a `.setter` attribute, which is also a decorator;\n",
    "    # this ties the getter and setter together. \n",
    "    @weight.setter\n",
    "    def weight(self, value):\n",
    "        if value > 0:\n",
    "            self.__weight = value\n",
    "        else:\n",
    "            raise ValueError(f'value: {value} must be > 0')\n",
    "    \n",
    "    @property\n",
    "    def prop(self):\n",
    "        return 'the prop value'\n"
   ]
  },
  {
   "cell_type": "code",
   "execution_count": 18,
   "metadata": {},
   "outputs": [],
   "source": [
    "a = LineItem('as', 20, 1)\n",
    "# a.weight = -20"
   ]
  },
  {
   "cell_type": "code",
   "execution_count": 19,
   "metadata": {},
   "outputs": [
    {
     "data": {
      "text/plain": [
       "{'descripton': 'as', '_LineItem__weight': 20, 'price': 1}"
      ]
     },
     "execution_count": 19,
     "metadata": {},
     "output_type": "execute_result"
    }
   ],
   "source": [
    "vars(a)"
   ]
  },
  {
   "cell_type": "markdown",
   "metadata": {},
   "source": [
    "The full signature of the `property` constructor:\n",
    "\n",
    "```python\n",
    "property(fget=None, fset=None, fdel=None, doc=None)\n",
    "```\n"
   ]
  },
  {
   "cell_type": "markdown",
   "metadata": {},
   "source": [
    "`vars` returns the `__dict__` of `obj`"
   ]
  },
  {
   "cell_type": "code",
   "execution_count": 20,
   "metadata": {},
   "outputs": [
    {
     "data": {
      "text/plain": [
       "<property at 0x1c95aceed40>"
      ]
     },
     "execution_count": 20,
     "metadata": {},
     "output_type": "execute_result"
    }
   ],
   "source": [
    "LineItem.prop"
   ]
  },
  {
   "cell_type": "code",
   "execution_count": 21,
   "metadata": {},
   "outputs": [
    {
     "name": "stdout",
     "output_type": "stream",
     "text": [
      "the prop value\n",
      "Opps\n"
     ]
    }
   ],
   "source": [
    "print(a.prop)\n",
    "\n",
    "try:\n",
    "    a.prop = 'foo'\n",
    "except AttributeError:\n",
    "    print('Opps')"
   ]
  },
  {
   "cell_type": "markdown",
   "metadata": {},
   "source": [
    "Reading `a.prop` executes the property getter. \n",
    "\n",
    "But Trying to set an instance `prop` attribute fails. "
   ]
  },
  {
   "cell_type": "code",
   "execution_count": 22,
   "metadata": {},
   "outputs": [
    {
     "name": "stdout",
     "output_type": "stream",
     "text": [
      "{'descripton': 'as', '_LineItem__weight': 20, 'price': 1, 'prop': 'foo'}\n",
      "the prop value\n"
     ]
    }
   ],
   "source": [
    "a.__dict__['prop'] = 'foo'\n",
    "print(vars(a))\n",
    "print(a.prop)"
   ]
  },
  {
   "cell_type": "markdown",
   "metadata": {},
   "source": [
    "Putting `prop` directly in the `a.__dict__` works. And we can see that `a` then has two instance attribute: `data` and `prop`. \n",
    "\n",
    "However, reading `a.prop` still runs the property getter. The property is not shadowed by an instance attribute. "
   ]
  },
  {
   "cell_type": "code",
   "execution_count": 23,
   "metadata": {},
   "outputs": [
    {
     "data": {
      "text/plain": [
       "'foo'"
      ]
     },
     "execution_count": 23,
     "metadata": {},
     "output_type": "execute_result"
    }
   ],
   "source": [
    "LineItem.prop = 'baz'\n",
    "\n",
    "a.prop"
   ]
  },
  {
   "cell_type": "markdown",
   "metadata": {},
   "source": [
    "Overwriting `LineItem.prop` destroys the property object. \n",
    "\n",
    "Then `LineItem.prop` retrives the instance attribute. `LineItem.prop` is not a property is not more, so it no longer overrides `a.prop`. "
   ]
  },
  {
   "cell_type": "markdown",
   "metadata": {},
   "source": [
    "---\n",
    "\n",
    "### Properties Override Instance Attributes"
   ]
  },
  {
   "cell_type": "code",
   "execution_count": 24,
   "metadata": {},
   "outputs": [
    {
     "name": "stdout",
     "output_type": "stream",
     "text": [
      "bar\n",
      "the class data attr\n",
      "the \"data\" prop value\n",
      "<property object at 0x000001C95B0177E0>\n"
     ]
    }
   ],
   "source": [
    "a.data = 'bar'\n",
    "print(a.data)\n",
    "print(LineItem.data)\n",
    "\n",
    "LineItem.data = property(lambda self: 'the \"data\" prop value')\n",
    "print(a.data, LineItem.data, sep='\\n')"
   ]
  },
  {
   "cell_type": "markdown",
   "metadata": {},
   "source": [
    "overwrite `LineItem.data` with a new property. `a.data` then is shadowed by the `LineItem.data` property. "
   ]
  },
  {
   "cell_type": "code",
   "execution_count": 25,
   "metadata": {},
   "outputs": [
    {
     "data": {
      "text/plain": [
       "'bar'"
      ]
     },
     "execution_count": 25,
     "metadata": {},
     "output_type": "execute_result"
    }
   ],
   "source": [
    "del LineItem.data\n",
    "a.data"
   ]
  },
  {
   "cell_type": "markdown",
   "metadata": {},
   "source": [
    "Delete the property. Then `a.data` reads the instance `data` attribute again. "
   ]
  },
  {
   "cell_type": "markdown",
   "metadata": {},
   "source": [
    "## Handing Attribute Deletion\n",
    "\n",
    "We can use the `del` statement to delete not only variables, but also attributes. "
   ]
  },
  {
   "cell_type": "code",
   "execution_count": 26,
   "metadata": {},
   "outputs": [],
   "source": [
    "class BlackKnight:\n",
    "\n",
    "    def __init__(self):\n",
    "        self.phrases = [\n",
    "            ('an arm', \"'Tis but a scratch.\"),\n",
    "            ('another arm', \"It's just a flesh wound.\"),\n",
    "            ('a leg', \"I'm invincible!\"),\n",
    "            ('another leg', \"All right, we'll call it a draw.\")\n",
    "        ]\n",
    "\n",
    "    @property\n",
    "    def member(self):\n",
    "        print('next member is:')\n",
    "        return self.phrases[0][0]\n",
    "\n",
    "    @member.deleter\n",
    "    def member(self):\n",
    "        member, text = self.phrases.pop(0)\n",
    "        print(f'BLACK KNIGHT (loses {member}) -- {text}')\n"
   ]
  },
  {
   "cell_type": "code",
   "execution_count": 27,
   "metadata": {},
   "outputs": [
    {
     "name": "stdout",
     "output_type": "stream",
     "text": [
      "next member is:\n"
     ]
    },
    {
     "data": {
      "text/plain": [
       "'an arm'"
      ]
     },
     "execution_count": 27,
     "metadata": {},
     "output_type": "execute_result"
    }
   ],
   "source": [
    "knight = BlackKnight()\n",
    "knight.member"
   ]
  },
  {
   "cell_type": "code",
   "execution_count": 28,
   "metadata": {},
   "outputs": [
    {
     "name": "stdout",
     "output_type": "stream",
     "text": [
      "BLACK KNIGHT (loses an arm) -- 'Tis but a scratch.\n"
     ]
    }
   ],
   "source": [
    "del knight.member"
   ]
  },
  {
   "cell_type": "markdown",
   "metadata": {},
   "source": [
    "By the way, if you are not using a property, attribute deletion can also be handled by implementing the lower-level `__delattr__` special method. "
   ]
  }
 ],
 "metadata": {
  "kernelspec": {
   "display_name": "Python 3",
   "language": "python",
   "name": "python3"
  },
  "language_info": {
   "codemirror_mode": {
    "name": "ipython",
    "version": 3
   },
   "file_extension": ".py",
   "mimetype": "text/x-python",
   "name": "python",
   "nbconvert_exporter": "python",
   "pygments_lexer": "ipython3",
   "version": "3.10.10"
  },
  "orig_nbformat": 4
 },
 "nbformat": 4,
 "nbformat_minor": 2
}
