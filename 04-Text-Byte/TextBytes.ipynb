{
 "cells": [
  {
   "cell_type": "code",
   "execution_count": 13,
   "metadata": {},
   "outputs": [],
   "source": [
    "import os\n",
    "import re\n",
    "import sys\n",
    "import array\n",
    "import locale\n",
    "import unicodedata\n",
    "from unicodedata import name, normalize\n"
   ]
  },
  {
   "cell_type": "code",
   "execution_count": 14,
   "metadata": {},
   "outputs": [
    {
     "name": "stdout",
     "output_type": "stream",
     "text": [
      "b'cafe\\xe5\\x92\\x96\\xe5\\x95\\xa1'\n",
      "cafe咖啡\n"
     ]
    }
   ],
   "source": [
    "s = 'cafe咖啡'\n",
    "b = s.encode(\"utf8\")\n",
    "print(b)\n",
    "print(b.decode(\"utf8\"))\n"
   ]
  },
  {
   "cell_type": "code",
   "execution_count": 15,
   "metadata": {},
   "outputs": [
    {
     "name": "stdout",
     "output_type": "stream",
     "text": [
      "b'1K\\xce\\xa9'\n",
      "b'\\xfe\\xff\\xff\\xff\\x00\\x00\\x01\\x00\\x02\\x00'\n"
     ]
    }
   ],
   "source": [
    "print(bytes.fromhex('31 4b CE A9'))\n",
    "\n",
    "numbers = array.array('h', [-2, -1, 0, 1, 2])\n",
    "print(bytes(numbers))"
   ]
  },
  {
   "cell_type": "code",
   "execution_count": 16,
   "metadata": {},
   "outputs": [
    {
     "name": "stdout",
     "output_type": "stream",
     "text": [
      "utf-8\tb'nihao \\xe4\\xbd\\xa0\\xe5\\xa5\\xbd'\n",
      "utf-16\tb'\\xff\\xfen\\x00i\\x00h\\x00a\\x00o\\x00 \\x00`O}Y'\n",
      "\n",
      "佛山:foshan\n",
      "b'\\xe4\\xbd\\x9b\\xe5\\xb1\\xb1:foshan'\n",
      "b'\\xff\\xfe[Oq\\\\:\\x00f\\x00o\\x00s\\x00h\\x00a\\x00n\\x00'\n",
      "UnicodeError: \"佛山:foshan\" encode cp437\n",
      "b':foshan'\n",
      "b'??:foshan'\n",
      "b'&#20315;&#23665;:foshan'\n",
      "isascii: False\n"
     ]
    }
   ],
   "source": [
    "for codec in ['utf-8', 'utf-16']:\n",
    "    print(codec, 'nihao 你好'.encode(codec), sep='\\t')\n",
    "\n",
    "print()\n",
    "city = '佛山:foshan'\n",
    "print(city)\n",
    "print(city.encode('utf_8'))\n",
    "print(city.encode('utf_16'))\n",
    "try :\n",
    "    print(city.encode('cp437'))\n",
    "except:\n",
    "    print(f\"UnicodeError: \\\"{city}\\\" encode cp437\")\n",
    "\n",
    "print(city.encode('cp437', errors='ignore'))            # skip unencodable character\n",
    "print(city.encode('cp437', errors='replace'))           # substitude unencodable character with '?'\n",
    "print(city.encode('cp437', errors='xmlcharrefreplace'))\n",
    "print(\"isascii:\", city.isascii())\n"
   ]
  },
  {
   "cell_type": "code",
   "execution_count": 17,
   "metadata": {},
   "outputs": [
    {
     "name": "stdout",
     "output_type": "stream",
     "text": [
      "b'Motr\\xe9al'\n",
      "Motréal\n",
      "Motréal\n",
      "Motr�al\n"
     ]
    }
   ],
   "source": [
    "octets = b'Motr\\xe9al'\n",
    "print(octets)\n",
    "print(octets.decode('cp1252'))\n",
    "print(octets.decode('iso8859_1'))\n",
    "print(octets.decode('utf8', errors='replace'))"
   ]
  },
  {
   "cell_type": "code",
   "execution_count": 18,
   "metadata": {},
   "outputs": [
    {
     "name": "stdout",
     "output_type": "stream",
     "text": [
      "cp65001\n",
      "3.10.10 (tags/v3.10.10:aad5f6a, Feb  7 2023, 17:20:36) [MSC v.1929 64 bit (AMD64)]\n",
      "sys.stdout.isatty(): False\n",
      "sys.stdout.encoding: UTF-8\n",
      "HORIZONTAL ELLIPSIS:\n",
      "…\n",
      "INFINITY:\n",
      "∞\n",
      "CIRCLED NUMBER FORTY TWO:\n",
      "㊷\n"
     ]
    }
   ],
   "source": [
    "print(locale.getpreferredencoding())\n",
    "print(sys.version)\n",
    "print(\"sys.stdout.isatty():\", sys.stdout.isatty())\n",
    "print(\"sys.stdout.encoding:\", sys.stdout.encoding)\n",
    "\n",
    "test_char = [\n",
    "    '\\N{HORIZONTAL ELLIPSIS}',\n",
    "    '\\N{INFINITY}',\n",
    "    '\\N{CIRCLED NUMBER FORTY TWO}'\n",
    "]\n",
    "for char in test_char:\n",
    "    print(f'{name(char)}:\\n{char}')"
   ]
  },
  {
   "cell_type": "code",
   "execution_count": 27,
   "metadata": {},
   "outputs": [
    {
     "name": "stdout",
     "output_type": "stream",
     "text": [
      "============= NFC NFD =============\n",
      "Ω OHM SIGN\n",
      "Ω GREEK CAPITAL LETTER OMEGA\n",
      "Ω GREEK CAPITAL LETTER OMEGA\n",
      "len(ohm): 1 \tlen(ohm_c): 1\n",
      "ohm_c == ohm: False\n",
      "ohm_c == ohm_d: True\n",
      "True\n",
      "\n",
      "============ NFKC NFKD =============\n",
      "½\n",
      "1⁄2\n",
      "1⁄2\n",
      "\n",
      "=========== Case Folding ===========\n",
      "µ μ\n",
      "ß ss\n"
     ]
    }
   ],
   "source": [
    "print('============= NFC NFD =============')\n",
    "ohm = '\\u2126'\n",
    "print(ohm, name(ohm))\n",
    "ohm_c = normalize('NFC', ohm)\n",
    "print(ohm_c, name(ohm_c))\n",
    "ohm_d = normalize('NFD', ohm)\n",
    "print(ohm_d, name(ohm_d))\n",
    "print('len(ohm):', len(ohm), '\\tlen(ohm_c):', len(ohm_c))\n",
    "print('ohm_c == ohm:', ohm == ohm_c)\n",
    "print('ohm_c == ohm_d:', ohm_c == ohm_d)\n",
    "print(normalize('NFC', ohm) == normalize('NFC', ohm_c))\n",
    "\n",
    "print('\\n============ NFKC NFKD =============')\n",
    "half = '\\N{VULGAR FRACTION ONE HALF}'\n",
    "print(half)\n",
    "print(normalize('NFKC', half))\n",
    "print(normalize('NFKD', half))\n",
    "\n",
    "print('\\n=========== Case Folding ===========')\n",
    "mu = '\\N{MICRO SIGN}'\n",
    "print(mu, mu.casefold())\n",
    "\n",
    "es = '\\N{LATIN SMALL LETTER SHARP S}'\n",
    "print(es, es.casefold())"
   ]
  },
  {
   "cell_type": "code",
   "execution_count": 20,
   "metadata": {},
   "outputs": [
    {
     "name": "stdout",
     "output_type": "stream",
     "text": [
      "♛\n",
      "😸\n",
      "😺\n",
      "😻\n"
     ]
    }
   ],
   "source": [
    "print('\\N{BLACK CHESS QUEEN}')\n",
    "print('\\N{GRINNING CAT FACE WITH SMILING EYES}')\n",
    "print('\\N{SMILING CAT FACE WITH OPEN MOUTH}')\n",
    "print('\\N{SMILING CAT FACE WITH HEART-SHAPED EYES}')"
   ]
  },
  {
   "cell_type": "code",
   "execution_count": 21,
   "metadata": {},
   "outputs": [
    {
     "name": "stdout",
     "output_type": "stream",
     "text": [
      "U+0031\t  1   \tre_digit\tisdig\tisnum\tDIGIT ONE\n",
      "U+00CB\t  Ë   \t-\t-\t-\tLATIN CAPITAL LETTER E WITH DIAERESIS\n",
      "U+00B2\t  ²   \t-\tisdig\tisnum\tSUPERSCRIPT TWO\n",
      "U+0969\t  ३   \tre_digit\tisdig\tisnum\tDEVANAGARI DIGIT THREE\n",
      "U+136B\t  ፫   \t-\tisdig\tisnum\tETHIOPIC DIGIT THREE\n",
      "U+216B\t  Ⅻ   \t-\t-\tisnum\tROMAN NUMERAL TWELVE\n",
      "U+2466\t  ⑦   \t-\tisdig\tisnum\tCIRCLED DIGIT SEVEN\n",
      "U+2480\t  ⒀   \t-\t-\tisnum\tPARENTHESIZED NUMBER THIRTEEN\n",
      "U+3285\t  ㊅   \t-\t-\tisnum\tCIRCLED IDEOGRAPH SIX\n"
     ]
    }
   ],
   "source": [
    "re_digit = re.compile(r'\\d')\n",
    "sample = '1\\xcb\\xb2\\u0969\\u136b\\u216b\\u2466\\u2480\\u3285'\n",
    "\n",
    "for char in sample:\n",
    "    print(f'U+{ord(char):04X}',\n",
    "          char.center(6),\n",
    "          're_digit' if re_digit.match(char) else '-',\n",
    "          'isdig' if char.isdigit() else '-',\n",
    "          'isnum' if char.isnumeric() else '-',\n",
    "          unicodedata.name(char), \n",
    "          sep='\\t')"
   ]
  },
  {
   "cell_type": "code",
   "execution_count": 25,
   "metadata": {},
   "outputs": [
    {
     "name": "stdout",
     "output_type": "stream",
     "text": [
      "<re.Match object; span=(7, 8), match='1'> \n",
      "\n",
      "['1', '2', '3']\n"
     ]
    }
   ],
   "source": [
    "pattern = re.compile(r'\\d')\n",
    "result = pattern.search(\"Hello, 123 World!\")\n",
    "print(result, '\\n')\n",
    "\n",
    "result = pattern.findall(\"Hello, 123 World!\")\n",
    "print(result)"
   ]
  },
  {
   "cell_type": "code",
   "execution_count": 23,
   "metadata": {},
   "outputs": [
    {
     "name": "stdout",
     "output_type": "stream",
     "text": [
      "Text\n",
      "  'Ramanujan saw ௧௭௨௯ as 1729 = 1³ + 12³ = 9³ + 10³.'\n",
      "  b'Ramanujan saw \\xe0\\xaf\\xa7\\xe0\\xaf\\xad\\xe0\\xaf\\xa8\\xe0\\xaf\\xaf as 1729 = 1\\xc2\\xb3 + 12\\xc2\\xb3 = 9\\xc2\\xb3 + 10\\xc2\\xb3.'\n",
      "\n",
      "Numbers\n",
      "  str  : ['௧௭௨௯', '1729', '1', '12', '9', '10']\n",
      "  bytes: [b'1729', b'1', b'12', b'9', b'10']\n",
      "\n",
      "Words\n",
      "  str  : ['Ramanujan', 'saw', '௧௭௨௯', 'as', '1729', '1³', '12³', '9³', '10³']\n",
      "  bytes: [b'Ramanujan', b'saw', b'as', b'1729', b'1', b'12', b'9', b'10']\n"
     ]
    }
   ],
   "source": [
    "re_numbers_str = re.compile(r'\\d+')\n",
    "re_words_str = re.compile(r'\\w+')\n",
    "re_numbers_bytes = re.compile(rb'\\d+')\n",
    "re_words_bytes = re.compile(rb'\\w+')\n",
    "\n",
    "text_str = (\"Ramanujan saw \\u0be7\\u0bed\\u0be8\\u0bef\"\n",
    "            \" as 1729 = 1³ + 12³ = 9³ + 10³.\")\n",
    "\n",
    "text_bytes = text_str.encode('utf_8')\n",
    "\n",
    "print(f'Text\\n  {text_str!r}\\n  {text_bytes!r}')\n",
    "print('\\nNumbers')\n",
    "print('  str  :', re_numbers_str.findall(text_str))     # match tamil digits and ASCII digits\n",
    "print('  bytes:', re_numbers_bytes.findall(text_bytes)) # match ASCII digits only\n",
    "print('\\nWords')\n",
    "print('  str  :', re_words_str.findall(text_str))       # match letters, superscripts, Tamil and ASCII digits\n",
    "print('  bytes:', re_words_bytes.findall(text_bytes))   # match only the ASCII bytes for letters and digits"
   ]
  },
  {
   "cell_type": "code",
   "execution_count": 24,
   "metadata": {},
   "outputs": [
    {
     "name": "stdout",
     "output_type": "stream",
     "text": [
      "['TextBytes.ipynb']\n",
      "\n",
      "[b'TextBytes.ipynb']\n"
     ]
    }
   ],
   "source": [
    "# listdir with str and bytes arguments and results\n",
    "\n",
    "print(os.listdir('.'))\n",
    "print()\n",
    "print(os.listdir(b'.'))"
   ]
  }
 ],
 "metadata": {
  "kernelspec": {
   "display_name": "Python 3",
   "language": "python",
   "name": "python3"
  },
  "language_info": {
   "codemirror_mode": {
    "name": "ipython",
    "version": 3
   },
   "file_extension": ".py",
   "mimetype": "text/x-python",
   "name": "python",
   "nbconvert_exporter": "python",
   "pygments_lexer": "ipython3",
   "version": "3.10.10"
  }
 },
 "nbformat": 4,
 "nbformat_minor": 2
}
