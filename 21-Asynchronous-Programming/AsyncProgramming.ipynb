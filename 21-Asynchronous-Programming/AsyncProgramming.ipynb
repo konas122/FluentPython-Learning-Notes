{
 "cells": [
  {
   "cell_type": "markdown",
   "metadata": {},
   "source": [
    "# Asynchronous Programming"
   ]
  },
  {
   "cell_type": "markdown",
   "metadata": {},
   "source": [
    "All network I/O is done with coroutines in `asyncio`, but not file I/O. However, file I/O is also \"blocking\"——in the sense that reading/writing files takes thousands of times longer than reading/writing to RAM. If you're using Network-Attached Storage, it may even involve network I/O under te covers. \n",
    "\n",
    "Since Python 3.9, the `asyncio.to_thread` coroutine makes it easy tot delegate file I/O to a thread pool provided by `asyncio`. \n",
    "\n",
    "### An asyncio Example: Probing Domains\n",
    "\n",
    "[blogdom.py](./blogdom.py)"
   ]
  },
  {
   "cell_type": "markdown",
   "metadata": {},
   "source": [
    "## Throttling Requests with a Semaphore\n",
    "\n",
    "An `asyncio.Semaphore` has an internal counter that is decremented whenever we `await` on the `.acquire()` coroutine method, and incremented when we call the `.release()` method——which is not coroutine because it never blocks. \n",
    "\n",
    "Awating on `.acquire()` cause no delay when the counter is greater than zero, but if the counter is zero, `.acquire()` suspends the awaiting coroutine until some other coroutine calls `.release()` on the same `Semaphore`. \n",
    "\n",
    "**Example code:** [flags2_asyncio.py: 183](./flags_asyncio/flags2_asyncio.py:183)"
   ]
  },
  {
   "cell_type": "markdown",
   "metadata": {},
   "source": [
    "## Writing asyncio Servers\n",
    "\n",
    "### A FastAPI Web Service\n",
    "\n",
    "[FastAPI: web_mojifinder](./web_mojifinder.py)\n",
    "\n",
    "### An asyncio TCP Server\n",
    "\n",
    "[TCP Server: tcp_mojifinder](./tcp_mojifinder.py)"
   ]
  },
  {
   "cell_type": "markdown",
   "metadata": {},
   "source": [
    "## Python's async console\n",
    "\n",
    "run this command line: \n",
    "\n",
    "```shell\n",
    "python -m asyncio\n",
    "```"
   ]
  },
  {
   "cell_type": "markdown",
   "metadata": {},
   "source": [
    "## Asynchronous Context Managers\n",
    "\n",
    "Sample code from the documentation of the asyncpg PostgreSQL driver. \n",
    "\n",
    "```python\n",
    "tr = connection.transaction()\n",
    "await tr.start()\n",
    "\n",
    "try:\n",
    "    await connection.execute(\"INSERT INTO mytable VALUES (1, 2, 3)\")\n",
    "except:\n",
    "    await tr.rollback()\n",
    "    raise\n",
    "else:\n",
    "    await tr.commit()\n",
    "```\n",
    "\n",
    "Here is an **example** that illustrates the use of `async for` to iterate over the rows of a database cursor:\n",
    "\n",
    "```python\n",
    "async def go():\n",
    "    pool = await aiopg.create_pool(dsn)\n",
    "    async with conn.cursor() as cur:\n",
    "        await cur.execute(\"SELECT 1\")\n",
    "        ret = []\n",
    "        async for row in cur:\n",
    "            ret.append(row)\n",
    "        assert ret == [(1,)]\n",
    "```\n"
   ]
  },
  {
   "cell_type": "markdown",
   "metadata": {},
   "source": [
    "### Asynchronous generators as context managers\n",
    "\n",
    "```python\n",
    "import asyncio\n",
    "from contextlib import asynccontextmanager\n",
    "\n",
    "@asynccontextmanager\n",
    "async def web_page(url):\n",
    "    loop = asyncio.get_running_loop()\n",
    "    data = await loop.run_in_executor(\n",
    "        None, download_webpage, url)\n",
    "    # Lines before this `yield` expression will become the `__aenter__` coroutine method. \n",
    "    yield data\n",
    "    # Lines after this `yield` expression will become the `__aexit__` coroutine method. \n",
    "    await loop.run_in_executor(None, update_stats, url)\n",
    "\n",
    "async with web_page('google.com') as data:\n",
    "    process(data)\n",
    "```\n",
    "\n",
    "#### Asynchronous generators VS Native generators\n",
    "\n",
    "- An asynchronous generator always has a `yield` expression in its body, while a native coroutine never contains `yield`. \n",
    "- An asynchronous generator can only use empty `return` statements, while a native coroutine may `return` some value than `None`. \n",
    "- Native coroutines are awaitable. Asynchronous generators are not awaitable. "
   ]
  },
  {
   "cell_type": "markdown",
   "metadata": {},
   "source": [
    "## async Beyond asyncio: `curio`"
   ]
  },
  {
   "cell_type": "code",
   "execution_count": 2,
   "metadata": {},
   "outputs": [],
   "source": [
    "from curio import run, TaskGroup\n",
    "import curio.socket as socket\n",
    "from keyword import kwlist\n",
    "\n",
    "MAX_KEYWORD_LEN = 4\n",
    "\n",
    "\n",
    "# `probe` doesn't need to get the event loop. \n",
    "async def probe(domain: str) -> tuple[str, bool]: \n",
    "    try:\n",
    "        await socket.getaddrinfo(domain, None)  \n",
    "    except socket.gaierror:\n",
    "        return (domain, False)\n",
    "    return (domain, True)\n",
    "\n",
    "\n",
    "async def main() -> None:\n",
    "    names = (kw for kw in kwlist if len(kw) <= MAX_KEYWORD_LEN)\n",
    "    domains = (f'{name}.dev'.lower() for name in names)\n",
    "    # A `TaskGroup` is a core concept in `Curio`, to monitor and control several coroutines,\n",
    "    # and to make sure they are all executed and cleaned up. \n",
    "    async with TaskGroup() as group:  \n",
    "        for domain in domains:\n",
    "            # `TaskGroup.spawn` is how you start a coroutine. \n",
    "            await group.spawn(probe, domain)  \n",
    "        # Iterating with `async for` over a `TaskGroup` yields `Task` instances as each is completed. \n",
    "        # This correspons to the previous examples using `for ... as_completed(...)`\n",
    "        async for task in group:  \n",
    "            domain, found = task.result\n",
    "            mark = '+' if found else ' '\n",
    "            print(f'{mark} {domain}')\n"
   ]
  },
  {
   "cell_type": "code",
   "execution_count": 3,
   "metadata": {},
   "outputs": [
    {
     "name": "stdout",
     "output_type": "stream",
     "text": [
      "+ def.dev\n",
      "+ try.dev\n",
      "+ in.dev\n",
      "+ as.dev\n",
      "+ and.dev\n",
      "  or.dev\n",
      "  for.dev\n",
      "  none.dev\n",
      "  elif.dev\n",
      "  with.dev\n",
      "  if.dev\n",
      "  else.dev\n",
      "+ from.dev\n",
      "  is.dev\n",
      "+ not.dev\n",
      "  true.dev\n",
      "  pass.dev\n",
      "+ del.dev\n"
     ]
    }
   ],
   "source": [
    "run(main())"
   ]
  }
 ],
 "metadata": {
  "kernelspec": {
   "display_name": "Python 3",
   "language": "python",
   "name": "python3"
  },
  "language_info": {
   "codemirror_mode": {
    "name": "ipython",
    "version": 3
   },
   "file_extension": ".py",
   "mimetype": "text/x-python",
   "name": "python",
   "nbconvert_exporter": "python",
   "pygments_lexer": "ipython3",
   "version": "3.10.10"
  },
  "orig_nbformat": 4
 },
 "nbformat": 4,
 "nbformat_minor": 2
}
