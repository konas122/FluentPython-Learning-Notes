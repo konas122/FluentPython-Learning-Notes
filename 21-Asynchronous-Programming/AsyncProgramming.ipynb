{
 "cells": [
  {
   "cell_type": "markdown",
   "metadata": {},
   "source": [
    "# Asynchronous Programming"
   ]
  },
  {
   "cell_type": "markdown",
   "metadata": {},
   "source": [
    "All network I/O is done with coroutines in `asyncio`, but not file I/O. However, file I/O is also \"blocking\"——in the sense that reading/writing files takes thousands of times longer than reading/writing to RAM. If you're using Network-Attached Storage, it may even involve network I/O under te covers. \n",
    "\n",
    "Since Python 3.9, the `asyncio.to_thread` coroutine makes it easy tot delegate file I/O to a thread pool provided by `asyncio`. \n",
    "\n",
    "### An asyncio Example: Probing Domains\n",
    "\n",
    "[blogdom.py](./blogdom.py)"
   ]
  },
  {
   "cell_type": "markdown",
   "metadata": {},
   "source": [
    "## Throttling Requests with a Semaphore\n",
    "\n",
    "An `asyncio.Semaphore` has an internal counter that is decremented whenever we `await` on the `.acquire()` coroutine method, and incremented when we call the `.release()` method——which is not coroutine because it never blocks. \n",
    "\n",
    "Awating on `.acquire()` cause no delay when the counter is greater than zero, but if the counter is zero, `.acquire()` suspends the awaiting coroutine until some other coroutine calls `.release()` on the same `Semaphore`. \n",
    "\n",
    "**Example code:** [flags2_asyncio.py: 183](./flags_asyncio/flags2_asyncio.py:183)"
   ]
  },
  {
   "cell_type": "markdown",
   "metadata": {},
   "source": [
    "## Writing asyncio Servers\n",
    "\n",
    "### A FastAPI Web Service\n",
    "\n",
    "[FastAPI: web_mojifinder](./web_mojifinder.py)\n",
    "\n",
    "### An asyncio TCP Server\n",
    "\n",
    "[TCP Server: tcp_mojifinder](./tcp_mojifinder.py)"
   ]
  },
  {
   "cell_type": "markdown",
   "metadata": {},
   "source": [
    "## Asynchronous Context Managers\n",
    "\n",
    "Sample code from the documentation of the asyncpg PostgreSQL driver. \n",
    "\n",
    "```python\n",
    "tr = connection.transaction()\n",
    "await tr.start()\n",
    "\n",
    "try:\n",
    "    await connection.execute(\"INSERT INTO mytable VALUES (1, 2, 3)\")\n",
    "except:\n",
    "    await tr.rollback()\n",
    "    raise\n",
    "else:\n",
    "    await tr.commit()\n",
    "```\n",
    "\n",
    "Here is an **example** that illustrates the use of `async for` to iterate over the rows of a database cursor:\n",
    "\n",
    "```python\n",
    "async def go():\n",
    "    pool = await aiopg.create_pool(dsn)\n",
    "    async with conn.cursor() as cur:\n",
    "        await cur.execute(\"SELECT 1\")\n",
    "        ret = []\n",
    "        async for row in cur:\n",
    "            ret.append(row)\n",
    "        assert ret == [(1,)]\n",
    "```"
   ]
  }
 ],
 "metadata": {
  "kernelspec": {
   "display_name": "Python 3",
   "language": "python",
   "name": "python3"
  },
  "language_info": {
   "codemirror_mode": {
    "name": "ipython",
    "version": 3
   },
   "file_extension": ".py",
   "mimetype": "text/x-python",
   "name": "python",
   "nbconvert_exporter": "python",
   "pygments_lexer": "ipython3",
   "version": "3.10.10"
  },
  "orig_nbformat": 4
 },
 "nbformat": 4,
 "nbformat_minor": 2
}
