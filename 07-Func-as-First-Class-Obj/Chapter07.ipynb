{
 "cells": [
  {
   "cell_type": "markdown",
   "metadata": {},
   "source": [
    "# Functions as First Class Object"
   ]
  },
  {
   "cell_type": "code",
   "execution_count": 1,
   "metadata": {},
   "outputs": [],
   "source": [
    "from operator import mul\n",
    "from functools import reduce\n",
    "from functools import partial\n",
    "from operator import methodcaller\n",
    "from collections import namedtuple, Counter\n",
    "from collections.abc import Sequence, Iterable\n",
    "from typing import Optional, Union, TypeVar, Callable"
   ]
  },
  {
   "cell_type": "code",
   "execution_count": 2,
   "metadata": {},
   "outputs": [
    {
     "name": "stdout",
     "output_type": "stream",
     "text": [
      "None\n",
      "<class 'function'>\n",
      "\n",
      "<function factorial at 0x00000290D42B7640>\n",
      "<map object at 0x00000290D43110C0>\n",
      "[1, 1, 2, 6, 24, 120, 720, 5040, 40320, 362880, 3628800]\n"
     ]
    }
   ],
   "source": [
    "def factorial(n):\n",
    "    return 1 if n < 2 else n * factorial(n - 1)\n",
    "\n",
    "\n",
    "print(factorial.__doc__)\n",
    "print(type(factorial))\n",
    "\n",
    "fact = factorial\n",
    "print(\"\\n\", fact, sep='')\n",
    "print(map(factorial, range(11)))\n",
    "print(list(map(factorial, range(11))))"
   ]
  },
  {
   "cell_type": "code",
   "execution_count": 3,
   "metadata": {},
   "outputs": [
    {
     "name": "stdout",
     "output_type": "stream",
     "text": [
      "[True, True, False]\n"
     ]
    }
   ],
   "source": [
    "print([callable(obj) for obj in (abs, str, 'Ni')])\n"
   ]
  },
  {
   "cell_type": "code",
   "execution_count": 4,
   "metadata": {},
   "outputs": [
    {
     "name": "stdout",
     "output_type": "stream",
     "text": [
      "<br />\n",
      "<p>hello</p>\n",
      "<p>world</p>\n",
      "<p id=\"33\">hello</p>\n",
      "<p class=\"sidebar\">hello</p>\n",
      "<p class=\"sidebar\">world</p>\n",
      "<img content=\"testing\" />\n",
      "<img class=\"framed\" src=\"sunset.jpg\" title=\"Sunset Boulevard\" />\n",
      "<img class=\"sidebar\" src=\"sunset.jpg\" title=\"Sunset Boulevard\" />\n"
     ]
    }
   ],
   "source": [
    "def tag(name, *content, class_=None, **attrs):\n",
    "    if class_ is not None:\n",
    "        attrs['class'] = class_\n",
    "    attr_pairs = (f' {attr}=\"{value}\"' for attr, value\n",
    "                  in sorted(attrs.items()))\n",
    "    attr_str = ''.join(attr_pairs)\n",
    "    # print(attr_pairs)\n",
    "    if content:\n",
    "        elements = (f'<{name}{attr_str}>{c}</{name}>'\n",
    "                    for c in content)\n",
    "        return '\\n'.join(elements)\n",
    "    else:\n",
    "        return f'<{name}{attr_str} />'\n",
    "\n",
    "\n",
    "print(tag('br'))\n",
    "print(tag('p', 'hello', 'world'))\n",
    "print(tag('p', 'hello', id=33))\n",
    "print(tag('p', 'hello', 'world', class_='sidebar'))\n",
    "print(tag(content='testing', name='img'))\n",
    "my_tag = {'name': 'img', 'title': 'Sunset Boulevard', \n",
    "          'src': 'sunset.jpg', 'class': 'framed'}\n",
    "print(tag(**my_tag))\n",
    "print(tag(class_='sidebar', **my_tag))"
   ]
  },
  {
   "cell_type": "code",
   "execution_count": 5,
   "metadata": {},
   "outputs": [
    {
     "name": "stdout",
     "output_type": "stream",
     "text": [
      "(1, 2)\n",
      "f(1, b=2).\tNot f(1, 2)\n"
     ]
    }
   ],
   "source": [
    "def f(a, *, b):\n",
    "    return a, b\n",
    "\n",
    "\n",
    "try:\n",
    "    print(f(1, 2))\n",
    "    print('f(1, 2)')\n",
    "except:\n",
    "    print(f(1, b=2))\n",
    "    print('f(1, b=2).\\tNot f(1, 2)')"
   ]
  },
  {
   "cell_type": "code",
   "execution_count": 6,
   "metadata": {},
   "outputs": [
    {
     "name": "stdout",
     "output_type": "stream",
     "text": [
      "(3, 1)\n",
      "divmod(10, 3).\tNot divmod(a=10, b=3)\n"
     ]
    }
   ],
   "source": [
    "def divmod(a, b, /):\n",
    "    return (a // b, a % b)\n",
    "\n",
    "\n",
    "try:\n",
    "    print(divmod(a=10, b=3))\n",
    "    print('divmod(a=10, b=3)')\n",
    "except:\n",
    "    print(divmod(10, 3))\n",
    "    print('divmod(10, 3).\\tNot divmod(a=10, b=3)')"
   ]
  },
  {
   "cell_type": "code",
   "execution_count": 7,
   "metadata": {},
   "outputs": [
    {
     "name": "stdout",
     "output_type": "stream",
     "text": [
      "THE TIME HAS COME\n",
      "The-time-has-come\n",
      "THE TIME HAS COME\n",
      "\n",
      "21\n",
      "[3, 6, 9, 12, 15, 18, 21, 24, 27]\n"
     ]
    }
   ],
   "source": [
    "def factorial(n):\n",
    "    return reduce(lambda a, b: a * b, range(1, n + 1))\n",
    "    # Or: return reduce(mul, range(1, n + 1))\n",
    "\n",
    "\n",
    "s = 'The time has come'\n",
    "upcase = methodcaller('upper')\n",
    "print(upcase(s))\n",
    "hyphenate = methodcaller('replace', ' ', '-')\n",
    "print(hyphenate(s))\n",
    "print(str.upper(s))\n",
    "\n",
    "\n",
    "triple = partial(mul, 3)\n",
    "print(\"\\n\", triple(7), sep=\"\")\n",
    "print(list(map(triple, range(1, 10))))"
   ]
  },
  {
   "cell_type": "code",
   "execution_count": 8,
   "metadata": {},
   "outputs": [
    {
     "name": "stdout",
     "output_type": "stream",
     "text": [
      "2 3 <class '__main__.point'>\n"
     ]
    }
   ],
   "source": [
    "plural: Optional[str] = None    # before\n",
    "plural: Union[str, None]\n",
    "plural: str | None = None       # python 3.10\n",
    "\n",
    "point = namedtuple('point', 'x y')\n",
    "p = point(2, 3)\n",
    "print(p.x, p.y, type(p))"
   ]
  },
  {
   "cell_type": "markdown",
   "metadata": {},
   "source": [
    "In python3.7 and 3.8\n",
    "But it does not work in 3.6 or earlier\n",
    "\n",
    "```python\n",
    "from __future__ import annotations\n",
    "\n",
    "def tokenize(text: str) -> list[str]:\n",
    "    return text.upper().split()\n",
    "\n",
    "```"
   ]
  },
  {
   "cell_type": "code",
   "execution_count": 9,
   "metadata": {},
   "outputs": [],
   "source": [
    "def columnize(\n",
    "        sequence: Sequence[str], num_columns: int = 0\n",
    ") -> list[tuple[str, ...]]:\n",
    "    if num_columns == 0:\n",
    "        num_columns = round(len(sequence) ** 0.5)\n",
    "    num_rows, reminder = divmod(len(sequence) ,num_columns)\n",
    "    num_rows += bool(reminder)\n",
    "    return [tuple(sequence[i::num_rows]) for i in range(num_rows)]"
   ]
  },
  {
   "cell_type": "code",
   "execution_count": 10,
   "metadata": {},
   "outputs": [
    {
     "name": "stdout",
     "output_type": "stream",
     "text": [
      "m4d sk1ll3d n00b p0wn3d l33t\n"
     ]
    }
   ],
   "source": [
    "FromTo = tuple[str, str]\n",
    "\n",
    "\n",
    "def zip_placer(text: str, changes: Iterable[FromTo]) -> str:\n",
    "    for from_, to in changes:\n",
    "        text = text.replace(from_, to)\n",
    "    return text\n",
    "\n",
    "\n",
    "l33t = [('a', '4'), ('e', '3'), ('i', '1'), ('o', '0')]\n",
    "text = 'mad skilled noob powned leet'\n",
    "print(zip_placer(text, l33t))"
   ]
  },
  {
   "cell_type": "code",
   "execution_count": 11,
   "metadata": {},
   "outputs": [
    {
     "name": "stdout",
     "output_type": "stream",
     "text": [
      "[(3, 4)]\n"
     ]
    }
   ],
   "source": [
    "T = TypeVar('T')\n",
    "\n",
    "\n",
    "def mode(data: Iterable[T]) -> T:\n",
    "    pairs = Counter(data).most_common(1)\n",
    "    if len(pairs) == 0:\n",
    "        raise ValueError('no mode for empty data')\n",
    "    return pairs\n",
    "\n",
    "\n",
    "print(mode([1, 1, 2, 3, 3, 5, 3, 3, 4]))"
   ]
  },
  {
   "cell_type": "code",
   "execution_count": 12,
   "metadata": {},
   "outputs": [
    {
     "name": "stdout",
     "output_type": "stream",
     "text": [
      "5\n",
      "0x5\n"
     ]
    }
   ],
   "source": [
    "def add(a: int, b: int) -> int:\n",
    "    return a + b\n",
    "\n",
    "\n",
    "def process(func: Callable[[int, int], int], a: int, b: int) -> int:\n",
    "    return func(a, b)\n",
    "\n",
    "\n",
    "result = process(add, 2, 3)\n",
    "print(result)  # Output: 5\n",
    "print(hex(result))"
   ]
  },
  {
   "cell_type": "code",
   "execution_count": 13,
   "metadata": {},
   "outputs": [],
   "source": [
    "def tag_v1(\n",
    "        num1, \n",
    "        name: str,\n",
    "        /,\n",
    "        *content: str,\n",
    "        class_: Optional[str] = None,\n",
    "        num2, \n",
    "        **attrs: str,\n",
    ") -> str: pass"
   ]
  },
  {
   "cell_type": "markdown",
   "metadata": {},
   "source": [
    "The type of the `content` local variable will be `tuple[str, ...]`\n",
    "The type of the `attrs` will be `dict[str, str]`. \n",
    "For a type hint lisk `**attrs: float`, the type of the `attrs` would be `dict[str, float]`. "
   ]
  }
 ],
 "metadata": {
  "kernelspec": {
   "display_name": "Python 3",
   "language": "python",
   "name": "python3"
  },
  "language_info": {
   "codemirror_mode": {
    "name": "ipython",
    "version": 3
   },
   "file_extension": ".py",
   "mimetype": "text/x-python",
   "name": "python",
   "nbconvert_exporter": "python",
   "pygments_lexer": "ipython3",
   "version": "3.10.10"
  },
  "orig_nbformat": 4
 },
 "nbformat": 4,
 "nbformat_minor": 2
}
